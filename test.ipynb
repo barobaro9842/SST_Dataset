{
 "cells": [
  {
   "cell_type": "code",
   "execution_count": 1,
   "id": "a2e71673-fc46-41f9-8b5e-cb9598a58671",
   "metadata": {},
   "outputs": [],
   "source": [
    "from process import process_data"
   ]
  },
  {
   "cell_type": "code",
   "execution_count": 3,
   "id": "21affe98-7ff7-43ce-b0a9-8f885c58c5a8",
   "metadata": {},
   "outputs": [],
   "source": [
    "import os\n",
    "import argparse"
   ]
  },
  {
   "cell_type": "code",
   "execution_count": 4,
   "id": "e2988ec2-4529-4b2f-9d1e-4df6314494df",
   "metadata": {},
   "outputs": [
    {
     "name": "stderr",
     "output_type": "stream",
     "text": [
      "usage: ipykernel_launcher.py [-h] [--reference_data_path REFERENCE_DATA_PATH]\n",
      "                             [--output_path OUTPUT_PATH] [--raw_path RAW_PATH]\n",
      "                             [--k_day K_DAY] [--region REGION]\n",
      "                             [--dataset_names DATASET_NAMES]\n",
      "                             [--grid_set GRID_SET]\n",
      "ipykernel_launcher.py: error: unrecognized arguments: -f /Users/jeongseunghwan/Library/Jupyter/runtime/kernel-d974024f-f5a5-4766-8c66-aeadc2a73123.json\n"
     ]
    },
    {
     "ename": "SystemExit",
     "evalue": "2",
     "output_type": "error",
     "traceback": [
      "An exception has occurred, use %tb to see the full traceback.\n",
      "\u001b[0;31mSystemExit\u001b[0m\u001b[0;31m:\u001b[0m 2\n"
     ]
    },
    {
     "name": "stderr",
     "output_type": "stream",
     "text": [
      "/Users/jeongseunghwan/opt/anaconda3/lib/python3.8/site-packages/IPython/core/interactiveshell.py:3452: UserWarning: To exit: use 'exit', 'quit', or Ctrl-D.\n",
      "  warn(\"To exit: use 'exit', 'quit', or Ctrl-D.\", stacklevel=1)\n"
     ]
    }
   ],
   "source": [
    "volume_name = os.path.join('/Volumes', 'T7')\n",
    "#volume_name = 'D:'\n",
    "raw_path = os.path.join(volume_name, 'raw_data')\n",
    "output_path = os.path.join(volume_name, 'output')\n",
    "reference_data_path = os.path.join(volume_name, 'reference_data')\n",
    "\n",
    "parser = argparse.ArgumentParser()\n",
    "\n",
    "parser.add_argument('--reference_data_path', type=str, default=reference_data_path, help='path of 30 years reference files')\n",
    "parser.add_argument('--output_path', type=str, default=output_path, help='path of output files')\n",
    "parser.add_argument('--raw_path', type=str, default=raw_path, help='path of raw files')\n",
    "\n",
    "parser.add_argument('--k_day', type=int, default=0, help='check data from k day ago')\n",
    "parser.add_argument('--region', type=str, default='', help='one of [rok, nw, global]')\n",
    "parser.add_argument('--dataset_names', type=list, default=[], help='specify dataset by list')\n",
    "parser.add_argument('--grid_set', type=list, default=[], help='specify grid size by list')\n",
    "\n",
    "args = parser.parse_args()\n",
    "\n",
    "process_data(args)"
   ]
  },
  {
   "cell_type": "code",
   "execution_count": null,
   "id": "aeef4cf1-3ae0-4240-9d7f-34c73021f1c1",
   "metadata": {},
   "outputs": [],
   "source": []
  }
 ],
 "metadata": {
  "kernelspec": {
   "display_name": "Python 3 (ipykernel)",
   "language": "python",
   "name": "python3"
  },
  "language_info": {
   "codemirror_mode": {
    "name": "ipython",
    "version": 3
   },
   "file_extension": ".py",
   "mimetype": "text/x-python",
   "name": "python",
   "nbconvert_exporter": "python",
   "pygments_lexer": "ipython3",
   "version": "3.8.13"
  }
 },
 "nbformat": 4,
 "nbformat_minor": 5
}
