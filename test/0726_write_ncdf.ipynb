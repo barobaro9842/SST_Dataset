{
 "cells": [
  {
   "cell_type": "code",
   "execution_count": 13,
   "id": "730f4cff-88e4-46c1-b28c-311b647de305",
   "metadata": {},
   "outputs": [],
   "source": [
    "from netCDF4 import Dataset\n",
    "import numpy as np\n",
    "import json\n",
    "from netCDFfunc.utility import get_data_by_date, get_stat, get_data_A\n",
    "import os"
   ]
  },
  {
   "cell_type": "code",
   "execution_count": 2,
   "id": "f3e294ff-811b-4e2b-99ad-0205a6f0071f",
   "metadata": {},
   "outputs": [],
   "source": [
    "dsin = Dataset(f'/Volumes/T7/AVHRR_OI_SST/v2.1/1981/oisst-avhrr-v02r01.19810901.nc', 'r', format='NETCDF4')"
   ]
  },
  {
   "cell_type": "code",
   "execution_count": 3,
   "id": "61bd1825-a0b7-4216-882a-26d19943f8b9",
   "metadata": {},
   "outputs": [],
   "source": [
    "dsout = Dataset(f'/Volumes/T7/new_data/test.ncdf', 'w', format='NETCDF4')"
   ]
  },
  {
   "cell_type": "markdown",
   "id": "60cb62c9-0e68-470a-9b74-0dab92afa14e",
   "metadata": {},
   "source": [
    "## copy data"
   ]
  },
  {
   "cell_type": "code",
   "execution_count": 4,
   "id": "6518bc87-4655-4000-9bc5-7f5cedb40ef6",
   "metadata": {},
   "outputs": [],
   "source": [
    "# set attribute\n",
    "for attr in dsin.ncattrs() :\n",
    "    dsout.setncattr(attr, dsin.getncattr(attr))"
   ]
  },
  {
   "cell_type": "code",
   "execution_count": 5,
   "id": "0515c9fc-64d5-48b2-953c-6cf40d01ca70",
   "metadata": {},
   "outputs": [],
   "source": [
    "# set dimension\n",
    "for k, v in dsin.dimensions.items():\n",
    "    dsout.createDimension(k, v.size)"
   ]
  },
  {
   "cell_type": "code",
   "execution_count": 6,
   "id": "7ad54af2-b950-45e4-933a-bfb595c9f042",
   "metadata": {},
   "outputs": [],
   "source": [
    "# set variables\n",
    "for name, variable in dsin.variables.items():\n",
    "    \n",
    "    new_variable = dsout.createVariable(name, variable.datatype, variable.dimensions, fill_value=-999) # name, datatype, dimension\n",
    "    dsout[name][:] = dsin[name][:] # values\n",
    "    \n",
    "    for attr in variable.ncattrs():\n",
    "        if attr == '_FillValue': continue\n",
    "        new_variable.setncattr(attr, variable.getncattr(attr)) # variable attr"
   ]
  },
  {
   "cell_type": "markdown",
   "id": "37b201c3-be46-4dcf-8e95-f934c2961be6",
   "metadata": {},
   "source": [
    "## write data"
   ]
  },
  {
   "cell_type": "code",
   "execution_count": null,
   "id": "c85f0898-d503-42f0-9368-66c762b0172e",
   "metadata": {},
   "outputs": [
    {
     "data": {
      "application/vnd.jupyter.widget-view+json": {
       "model_id": "a53c9a1d074e4e8581c0aea08146896f",
       "version_major": 2,
       "version_minor": 0
      },
      "text/plain": [
       "  0%|          | 0/31 [00:00<?, ?it/s]"
      ]
     },
     "metadata": {},
     "output_type": "display_data"
    }
   ],
   "source": [
    "start_date = (1981,9,1)\n",
    "end_date = (2011,8,31)\n",
    "result = get_data_by_date(get_data_A, 'sst', start_date, end_date)"
   ]
  },
  {
   "cell_type": "code",
   "execution_count": 8,
   "id": "e9d4d581-d4f0-44c7-b49b-0717eca5d060",
   "metadata": {},
   "outputs": [
    {
     "data": {
      "application/vnd.jupyter.widget-view+json": {
       "model_id": "d7bf17d8f96d4af2ad0326cf8dce0c3f",
       "version_major": 2,
       "version_minor": 0
      },
      "text/plain": [
       "0it [00:00, ?it/s]"
      ]
     },
     "metadata": {},
     "output_type": "display_data"
    }
   ],
   "source": [
    "mean = get_stat(result, 'mean')"
   ]
  },
  {
   "cell_type": "code",
   "execution_count": 10,
   "id": "a7104274-d748-4982-99a2-12b8eba306bb",
   "metadata": {
    "tags": []
   },
   "outputs": [],
   "source": [
    "def create_new_variable(dsin, dsout, new_varable_name, dtype, dimension, fill_value, values, attributes):\n",
    "    for attr in dsin.ncattrs() :\n",
    "        dsout.setncattr(attr, dsin.getncattr(attr))\n",
    "\n",
    "    for k, v in dsin.dimensions.items():\n",
    "        dsout.createDimension(k, v.size)\n",
    "    \n",
    "    for name, variable in dsin.variables.items():\n",
    "    \n",
    "        existing_variable = dsout.createVariable(name, variable.datatype, variable.dimensions, fill_value=fill_value) # name, datatype, dimension\n",
    "        dsout[name][:] = dsin[name][:] # values\n",
    "\n",
    "        for attr in variable.ncattrs():\n",
    "            if attr == '_FillValue': continue\n",
    "            existing_variable.setncattr(attr, variable.getncattr(attr)) # variable attr\n",
    "            \n",
    "    new_variable = dsout.createVariable(new_varable_name, dtype, dimension, fill_value=fill_value)\n",
    "    dsout[new_varable_name][:] = values\n",
    "    \n",
    "    for k,v in attributes.items():\n",
    "        if attr == '_FillValue': continue\n",
    "        new_variable.setncattr(k, v) # variable attr\n",
    "    \n",
    "    return dsout"
   ]
  },
  {
   "cell_type": "code",
   "execution_count": 11,
   "id": "0128bbb2-184a-45dc-9417-e97890870397",
   "metadata": {
    "collapsed": true,
    "jupyter": {
     "outputs_hidden": true
    },
    "tags": []
   },
   "outputs": [
    {
     "data": {
      "text/plain": [
       "<class 'netCDF4._netCDF4.Dataset'>\n",
       "root group (NETCDF4 data model, file format HDF5):\n",
       "    title: NOAA/NCEI 1/4 Degree Daily Optimum Interpolation Sea Surface Temperature (OISST) Analysis, Version 2.1 - Final\n",
       "    source: ICOADS, NCEP_GTS, GSFC_ICE, NCEP_ICE, Pathfinder_AVHRR, Navy_AVHRR\n",
       "    id: oisst-avhrr-v02r01.19810901.nc\n",
       "    naming_authority: gov.noaa.ncei\n",
       "    summary: NOAAs 1/4-degree Daily Optimum Interpolation Sea Surface Temperature (OISST) (sometimes referred to as Reynolds SST, which however also refers to earlier products at different resolution), currently available as version v02r01, is created by interpolating and extrapolating SST observations from different sources, resulting in a smoothed complete field. The sources of data are satellite (AVHRR) and in situ platforms (i.e., ships and buoys), and the specific datasets employed may change over time. At the marginal ice zone, sea ice concentrations are used to generate proxy SSTs.  A preliminary version of this file is produced in near-real time (1-day latency), and then replaced with a final version after 2 weeks. Note that this is the AVHRR-ONLY DOISST, available from Oct 1981, but there is a companion DOISST product that includes microwave satellite data, available from June 2002\n",
       "    cdm_data_type: Grid\n",
       "    history: Final file created using preliminary as first guess, and 3 days of AVHRR data. Preliminary uses only 1 day of AVHRR data.\n",
       "    date_modified: 2020-05-08T19:05:13Z\n",
       "    date_created: 2020-05-08T19:05:13Z\n",
       "    product_version: Version v02r01\n",
       "    processing_level: NOAA Level 4\n",
       "    institution: NOAA/National Centers for Environmental Information\n",
       "    creator_url: https://www.ncei.noaa.gov/\n",
       "    creator_email: oisst-help@noaa.gov\n",
       "    keywords: Earth Science > Oceans > Ocean Temperature > Sea Surface Temperature\n",
       "    keywords_vocabulary: Global Change Master Directory (GCMD) Earth Science Keywords\n",
       "    platform: Ships, buoys, Argo floats, MetOp-A, MetOp-B\n",
       "    platform_vocabulary: Global Change Master Directory (GCMD) Platform Keywords\n",
       "    instrument: Earth Remote Sensing Instruments > Passive Remote Sensing > Spectrometers/Radiometers > Imaging Spectrometers/Radiometers > AVHRR > Advanced Very High Resolution Radiometer\n",
       "    instrument_vocabulary: Global Change Master Directory (GCMD) Instrument Keywords\n",
       "    standard_name_vocabulary: CF Standard Name Table (v40, 25 January 2017)\n",
       "    geospatial_lat_min: -90.0\n",
       "    geospatial_lat_max: 90.0\n",
       "    geospatial_lon_min: 0.0\n",
       "    geospatial_lon_max: 360.0\n",
       "    geospatial_lat_units: degrees_north\n",
       "    geospatial_lat_resolution: 0.25\n",
       "    geospatial_lon_units: degrees_east\n",
       "    geospatial_lon_resolution: 0.25\n",
       "    time_coverage_start: 1981-09-01T00:00:00Z\n",
       "    time_coverage_end: 1981-09-01T23:59:59Z\n",
       "    metadata_link: https://doi.org/10.25921/RE9P-PT57\n",
       "    ncei_template_version: NCEI_NetCDF_Grid_Template_v2.0\n",
       "    comment: Data was converted from NetCDF-3 to NetCDF-4 format with metadata updates in November 2017.\n",
       "    sensor: Thermometer, AVHRR\n",
       "    Conventions: CF-1.6, ACDD-1.3\n",
       "    references: Reynolds, et al.(2007) Daily High-Resolution-Blended Analyses for Sea Surface Temperature (available at https://doi.org/10.1175/2007JCLI1824.1). Banzon, et al.(2016) A long-term record of blended satellite and in situ sea-surface temperature for climate monitoring, modeling and environmental studies (available at https://doi.org/10.5194/essd-8-165-2016). Huang et al. (2020) Improvements of the Daily Optimum Interpolation Sea Surface Temperature (DOISST) Version v02r01, submitted.Climatology is based on 1971-2000 OI.v2 SST. Satellite data: Pathfinder AVHRR SST and Navy AVHRR SST. Ice data: NCEP Ice and GSFC Ice.\n",
       "    dimensions(sizes): time(1), zlev(1), lat(720), lon(1440)\n",
       "    variables(dimensions): int16 anom(time, zlev, lat, lon), int16 err(time, zlev, lat, lon), int16 ice(time, zlev, lat, lon), float32 lat(lat), float32 lon(lon), int16 sst(time, zlev, lat, lon), float32 time(time), float32 zlev(zlev), float32 mean_sst(time, zlev, lat, lon)\n",
       "    groups: "
      ]
     },
     "execution_count": 11,
     "metadata": {},
     "output_type": "execute_result"
    }
   ],
   "source": [
    "def transfer_data(year, month, date, variable_type, variable_value): \n",
    "    '''\n",
    "    variable_type = 'mean' or 'perc' or 'cnt'\n",
    "    '''\n",
    "    \n",
    "    date = dt.date(year,month,day).strftime('%Y%m%d')\n",
    "    \n",
    "    if year < 2016 : \n",
    "        dsin = Dataset(f'/Volumes/T7/AVHRR_OI_SST/v2.1/{year}/oisst-avhrr-v02r01.{date}.nc', 'r', format='NETCDF4')\n",
    "    else :\n",
    "        if os.path.exists(f'/Volumes/T7/AVHRR_OI_SST/v2.1/{year}/{date}120000-NCEI-L4_GHRSST-SSTblend-AVHRR_OI-GLOB-v02.0-fv02.1.nc'):\n",
    "            dsin = Dataset(f'/Volumes/T7/AVHRR_OI_SST/v2.1/{year}/{date}120000-NCEI-L4_GHRSST-SSTblend-AVHRR_OI-GLOB-v02.0-fv02.1.nc', 'r', format='NETCDF4')\n",
    "        else :\n",
    "            dsin = Dataset(f'/Volumes/T7/AVHRR_OI_SST/v2.1/{year}/{date}120000-NCEI-L4_GHRSST-SSTblend-AVHRR_OI-GLOB-v02.1-fv02.1.nc', 'r', format='NETCDF4')\n",
    "    \n",
    "    if not os.path.exists(f'/Volumes/T7/new_data/AVHRR_OI_SST/{year}'):\n",
    "        os.makedirs((f'/Volumes/T7/new_data/AVHRR_OI_SST/{year}'))\n",
    "                           \n",
    "    dsout = Dataset(f'/Volumes/T7/new_data/AVHRR_OI_SST/{year}/{date}120000-NCEI-L4_GHRSST-SSTblend-AVHRR_OI-GLOB-v02.1-fv02.1.nc', 'w', format='NETCDF4')\n",
    "\n",
    "    if variable_type == 'mean' :\n",
    "        variable_name = 'mean_sst'\n",
    "        dtype = np.float32\n",
    "        attribute = {'long_name' : 'mean sst for 30 years (1981/9/1~2011/8/31)',\n",
    "                     'add_offset' : 0.0,\n",
    "                     'scale_factor' : 0.01,\n",
    "                     'valid_min' : -1200,\n",
    "                     'valid_max' : 1200,\n",
    "                     'units' : 'celcius'}\n",
    "        \n",
    "    if variable_type == 'perc' :\n",
    "        variable_name = '90-percentile_sst'\n",
    "        dtype = np.float32\n",
    "        attribute = {'long_name' : '90-percentile of sst for 30years (1981/9/1~2011/8/31)',\n",
    "                     'add_offset' : 0.0,\n",
    "                     'scale_factor' : 0.01,\n",
    "                     'valid_min' : -1200,\n",
    "                     'valid_max' : 1200,\n",
    "                     'units' : 'celcius'}\n",
    "    \n",
    "    if variable_type == 'cnt' :\n",
    "        variable_name = 'cnt_of_value'\n",
    "        dtype = np.int16\n",
    "        attribute = {'long_name' : 'based values counted by pixel (30,0 = normal, other = anormal)',\n",
    "                     'add_offset' : 0,\n",
    "                     'scale_factor' : 1,\n",
    "                     'valid_min' : 0,\n",
    "                     'valid_max' : 30,\n",
    "                     'units' : '-'}\n",
    "        \n",
    "              \n",
    "    \n",
    "    # common attribute\n",
    "    dimensions = ('time', 'zlev', 'lat', 'lon')\n",
    "    fill_value = -999\n",
    "    values = variable_value[(month,date)]\n",
    "\n",
    "    create_new_variable(dsin, dsout, variable_name, dtype, dimensions, fill_value, values, attribute)\n",
    "\n",
    "    dsout.close()\n",
    "    dsin.close()"
   ]
  },
  {
   "cell_type": "code",
   "execution_count": 12,
   "id": "e5429a30-bce8-4f71-9fb7-e7aac333e9ba",
   "metadata": {},
   "outputs": [],
   "source": [
    "dsout.close()\n",
    "dsin.close()"
   ]
  },
  {
   "cell_type": "code",
   "execution_count": 10,
   "id": "5b3bed2d-067b-4a4c-8677-d24ee2230993",
   "metadata": {},
   "outputs": [],
   "source": [
    "dsbackup = dsout"
   ]
  },
  {
   "cell_type": "code",
   "execution_count": 11,
   "id": "46af3be4-2b0e-4038-9328-62b424fa4eb6",
   "metadata": {},
   "outputs": [
    {
     "data": {
      "text/plain": [
       "<class 'netCDF4._netCDF4.Dataset'>\n",
       "root group (NETCDF4 data model, file format HDF5):\n",
       "    title: NOAA/NCEI 1/4 Degree Daily Optimum Interpolation Sea Surface Temperature (OISST) Analysis, Version 2.1 - Final\n",
       "    source: ICOADS, NCEP_GTS, GSFC_ICE, NCEP_ICE, Pathfinder_AVHRR, Navy_AVHRR\n",
       "    id: oisst-avhrr-v02r01.19810901.nc\n",
       "    naming_authority: gov.noaa.ncei\n",
       "    summary: NOAAs 1/4-degree Daily Optimum Interpolation Sea Surface Temperature (OISST) (sometimes referred to as Reynolds SST, which however also refers to earlier products at different resolution), currently available as version v02r01, is created by interpolating and extrapolating SST observations from different sources, resulting in a smoothed complete field. The sources of data are satellite (AVHRR) and in situ platforms (i.e., ships and buoys), and the specific datasets employed may change over time. At the marginal ice zone, sea ice concentrations are used to generate proxy SSTs.  A preliminary version of this file is produced in near-real time (1-day latency), and then replaced with a final version after 2 weeks. Note that this is the AVHRR-ONLY DOISST, available from Oct 1981, but there is a companion DOISST product that includes microwave satellite data, available from June 2002\n",
       "    cdm_data_type: Grid\n",
       "    history: Final file created using preliminary as first guess, and 3 days of AVHRR data. Preliminary uses only 1 day of AVHRR data.\n",
       "    date_modified: 2020-05-08T19:05:13Z\n",
       "    date_created: 2020-05-08T19:05:13Z\n",
       "    product_version: Version v02r01\n",
       "    processing_level: NOAA Level 4\n",
       "    institution: NOAA/National Centers for Environmental Information\n",
       "    creator_url: https://www.ncei.noaa.gov/\n",
       "    creator_email: oisst-help@noaa.gov\n",
       "    keywords: Earth Science > Oceans > Ocean Temperature > Sea Surface Temperature\n",
       "    keywords_vocabulary: Global Change Master Directory (GCMD) Earth Science Keywords\n",
       "    platform: Ships, buoys, Argo floats, MetOp-A, MetOp-B\n",
       "    platform_vocabulary: Global Change Master Directory (GCMD) Platform Keywords\n",
       "    instrument: Earth Remote Sensing Instruments > Passive Remote Sensing > Spectrometers/Radiometers > Imaging Spectrometers/Radiometers > AVHRR > Advanced Very High Resolution Radiometer\n",
       "    instrument_vocabulary: Global Change Master Directory (GCMD) Instrument Keywords\n",
       "    standard_name_vocabulary: CF Standard Name Table (v40, 25 January 2017)\n",
       "    geospatial_lat_min: -90.0\n",
       "    geospatial_lat_max: 90.0\n",
       "    geospatial_lon_min: 0.0\n",
       "    geospatial_lon_max: 360.0\n",
       "    geospatial_lat_units: degrees_north\n",
       "    geospatial_lat_resolution: 0.25\n",
       "    geospatial_lon_units: degrees_east\n",
       "    geospatial_lon_resolution: 0.25\n",
       "    time_coverage_start: 1981-09-01T00:00:00Z\n",
       "    time_coverage_end: 1981-09-01T23:59:59Z\n",
       "    metadata_link: https://doi.org/10.25921/RE9P-PT57\n",
       "    ncei_template_version: NCEI_NetCDF_Grid_Template_v2.0\n",
       "    comment: Data was converted from NetCDF-3 to NetCDF-4 format with metadata updates in November 2017.\n",
       "    sensor: Thermometer, AVHRR\n",
       "    Conventions: CF-1.6, ACDD-1.3\n",
       "    references: Reynolds, et al.(2007) Daily High-Resolution-Blended Analyses for Sea Surface Temperature (available at https://doi.org/10.1175/2007JCLI1824.1). Banzon, et al.(2016) A long-term record of blended satellite and in situ sea-surface temperature for climate monitoring, modeling and environmental studies (available at https://doi.org/10.5194/essd-8-165-2016). Huang et al. (2020) Improvements of the Daily Optimum Interpolation Sea Surface Temperature (DOISST) Version v02r01, submitted.Climatology is based on 1971-2000 OI.v2 SST. Satellite data: Pathfinder AVHRR SST and Navy AVHRR SST. Ice data: NCEP Ice and GSFC Ice.\n",
       "    dimensions(sizes): time(1), zlev(1), lat(720), lon(1440)\n",
       "    variables(dimensions): int16 anom(time, zlev, lat, lon), int16 err(time, zlev, lat, lon), int16 ice(time, zlev, lat, lon), float32 lat(lat), float32 lon(lon), int16 sst(time, zlev, lat, lon), float32 time(time), float32 zlev(zlev)\n",
       "    groups: "
      ]
     },
     "execution_count": 11,
     "metadata": {},
     "output_type": "execute_result"
    }
   ],
   "source": [
    "dsbackup"
   ]
  },
  {
   "cell_type": "code",
   "execution_count": 17,
   "id": "a69ca5ed-f6b2-4f0f-8649-983de0a3ddfa",
   "metadata": {},
   "outputs": [
    {
     "data": {
      "text/plain": [
       "masked_array(\n",
       "  data=[[[[        nan,         nan,         nan, ...,         nan,\n",
       "                   nan,         nan],\n",
       "          [        nan,         nan,         nan, ...,         nan,\n",
       "                   nan,         nan],\n",
       "          [        nan,         nan,         nan, ...,         nan,\n",
       "                   nan,         nan],\n",
       "          ...,\n",
       "          [-0.01212333, -0.01212333, -0.01212333, ..., -0.01212333,\n",
       "           -0.01212333, -0.01212333],\n",
       "          [-0.01210333, -0.01210333, -0.01210333, ..., -0.01210667,\n",
       "           -0.01210333, -0.01210333],\n",
       "          [-0.01211   , -0.01211   , -0.01211   , ..., -0.01211   ,\n",
       "           -0.01211   , -0.01211   ]]]],\n",
       "  mask=False,\n",
       "  fill_value=1e+20,\n",
       "  dtype=float32)"
      ]
     },
     "execution_count": 17,
     "metadata": {},
     "output_type": "execute_result"
    }
   ],
   "source": [
    "dsout = Dataset(f'/Volumes/T7/new_data/AVHRR_OI_SST/oisst-avhrr-v02r01.19810901.nc', 'r', format='NETCDF4')"
   ]
  },
  {
   "cell_type": "code",
   "execution_count": null,
   "id": "fce939d6-f904-4b59-a751-c96aec7d2826",
   "metadata": {},
   "outputs": [],
   "source": []
  }
 ],
 "metadata": {
  "kernelspec": {
   "display_name": "Python 3 (ipykernel)",
   "language": "python",
   "name": "python3"
  },
  "language_info": {
   "codemirror_mode": {
    "name": "ipython",
    "version": 3
   },
   "file_extension": ".py",
   "mimetype": "text/x-python",
   "name": "python",
   "nbconvert_exporter": "python",
   "pygments_lexer": "ipython3",
   "version": "3.8.12"
  }
 },
 "nbformat": 4,
 "nbformat_minor": 5
}
