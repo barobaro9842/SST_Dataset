{
 "cells": [
  {
   "cell_type": "code",
   "execution_count": 2,
   "id": "730f4cff-88e4-46c1-b28c-311b647de305",
   "metadata": {
    "tags": []
   },
   "outputs": [],
   "source": [
    "from netCDF4 import Dataset\n",
    "import numpy as np\n",
    "import json\n",
    "from netCDFfunc.utility import get_data_by_date, get_stat, get_data_A\n",
    "import os\n",
    "from tqdm.notebook import tqdm\n",
    "import datetime as dt"
   ]
  },
  {
   "cell_type": "code",
   "execution_count": 3,
   "id": "f3e294ff-811b-4e2b-99ad-0205a6f0071f",
   "metadata": {},
   "outputs": [],
   "source": [
    "dsin = Dataset(f'/Volumes/T7/AVHRR_OI_SST/v2.1/1981/oisst-avhrr-v02r01.19810901.nc', 'r', format='NETCDF4')"
   ]
  },
  {
   "cell_type": "code",
   "execution_count": 20,
   "id": "455d9ccd-5ea9-4143-a632-a4e0860171c0",
   "metadata": {},
   "outputs": [
    {
     "data": {
      "text/plain": [
       "masked_array(data=[1.25000e-01, 3.75000e-01, 6.25000e-01, ...,\n",
       "                   3.59375e+02, 3.59625e+02, 3.59875e+02],\n",
       "             mask=False,\n",
       "       fill_value=1e+20,\n",
       "            dtype=float32)"
      ]
     },
     "execution_count": 20,
     "metadata": {},
     "output_type": "execute_result"
    }
   ],
   "source": [
    "dsin.variables['lon'][:]"
   ]
  },
  {
   "cell_type": "code",
   "execution_count": 4,
   "id": "61bd1825-a0b7-4216-882a-26d19943f8b9",
   "metadata": {},
   "outputs": [],
   "source": [
    "dsout = Dataset(f'/Volumes/T7/new_data/test.ncdf', 'w', format='NETCDF4')"
   ]
  },
  {
   "cell_type": "code",
   "execution_count": 21,
   "id": "e04a8b5f-c6d7-4af9-af13-a7ca73ef8f7f",
   "metadata": {},
   "outputs": [],
   "source": [
    "dsin = Dataset(f'/Volumes/T7/other_data/oisst_ssta_monthly(1982-2019).nc', 'r', format='NETCDF4')"
   ]
  },
  {
   "cell_type": "code",
   "execution_count": 27,
   "id": "a1cbc160-9ce3-49b6-b178-25a2cb0c9be5",
   "metadata": {},
   "outputs": [
    {
     "data": {
      "text/plain": [
       "masked_array(\n",
       "  data=[[[       nan,        nan,        nan, ...,        nan,\n",
       "                 nan,        nan],\n",
       "         [       nan,        nan,        nan, ...,        nan,\n",
       "                 nan,        nan],\n",
       "         [       nan,        nan,        nan, ...,        nan,\n",
       "                 nan,        nan],\n",
       "         ...,\n",
       "         [-1.6829963, -1.6803886, -1.6780941, ..., -1.6916536,\n",
       "          -1.688606 , -1.6857027],\n",
       "         [-1.7147669, -1.713818 , -1.7129904, ..., -1.7180969,\n",
       "          -1.7169539, -1.7158173],\n",
       "         [-1.7307675, -1.7306178, -1.7305027, ..., -1.7312331,\n",
       "          -1.7310793, -1.7309115]],\n",
       "\n",
       "        [[       nan,        nan,        nan, ...,        nan,\n",
       "                 nan,        nan],\n",
       "         [       nan,        nan,        nan, ...,        nan,\n",
       "                 nan,        nan],\n",
       "         [       nan,        nan,        nan, ...,        nan,\n",
       "                 nan,        nan],\n",
       "         ...,\n",
       "         [-1.6877996, -1.6856889, -1.6836358, ..., -1.6959026,\n",
       "          -1.6930252, -1.6902747],\n",
       "         [-1.7183256, -1.7175169, -1.7167919, ..., -1.7213006,\n",
       "          -1.7202283, -1.7192266],\n",
       "         [-1.7335165, -1.7334023, -1.7332942, ..., -1.7339534,\n",
       "          -1.7337899, -1.7336226]],\n",
       "\n",
       "        [[       nan,        nan,        nan, ...,        nan,\n",
       "                 nan,        nan],\n",
       "         [       nan,        nan,        nan, ...,        nan,\n",
       "                 nan,        nan],\n",
       "         [       nan,        nan,        nan, ...,        nan,\n",
       "                 nan,        nan],\n",
       "         ...,\n",
       "         [-1.7022747, -1.6992027, -1.6960825, ..., -1.710353 ,\n",
       "          -1.7078329, -1.7051474],\n",
       "         [-1.7269157, -1.7257811, -1.7246622, ..., -1.7298156,\n",
       "          -1.7289417, -1.7279388],\n",
       "         [-1.7392287, -1.7390753, -1.7389364, ..., -1.7396578,\n",
       "          -1.7395301, -1.7393852]],\n",
       "\n",
       "        ...,\n",
       "\n",
       "        [[       nan,        nan,        nan, ...,        nan,\n",
       "                 nan,        nan],\n",
       "         [       nan,        nan,        nan, ...,        nan,\n",
       "                 nan,        nan],\n",
       "         [       nan,        nan,        nan, ...,        nan,\n",
       "                 nan,        nan],\n",
       "         ...,\n",
       "         [-1.5278351, -1.5251747, -1.5227257, ..., -1.5357722,\n",
       "          -1.533233 , -1.5305642],\n",
       "         [-1.5380477, -1.5370971, -1.5361935, ..., -1.5409479,\n",
       "          -1.5400448, -1.5391   ],\n",
       "         [-1.5430764, -1.5429407, -1.5428479, ..., -1.5435444,\n",
       "          -1.5433937, -1.5432386]],\n",
       "\n",
       "        [[       nan,        nan,        nan, ...,        nan,\n",
       "                 nan,        nan],\n",
       "         [       nan,        nan,        nan, ...,        nan,\n",
       "                 nan,        nan],\n",
       "         [       nan,        nan,        nan, ...,        nan,\n",
       "                 nan,        nan],\n",
       "         ...,\n",
       "         [-1.6686258, -1.6666594, -1.6647542, ..., -1.6746433,\n",
       "          -1.6725487, -1.6706134],\n",
       "         [-1.6849192, -1.6841564, -1.6834751, ..., -1.6872406,\n",
       "          -1.6864233, -1.6856481],\n",
       "         [-1.6931353, -1.6930217, -1.6929084, ..., -1.6934143,\n",
       "          -1.6933162, -1.693223 ]],\n",
       "\n",
       "        [[       nan,        nan,        nan, ...,        nan,\n",
       "                 nan,        nan],\n",
       "         [       nan,        nan,        nan, ...,        nan,\n",
       "                 nan,        nan],\n",
       "         [       nan,        nan,        nan, ...,        nan,\n",
       "                 nan,        nan],\n",
       "         ...,\n",
       "         [-1.6943046, -1.6915319, -1.6888372, ..., -1.7023269,\n",
       "          -1.6997058, -1.6970263],\n",
       "         [-1.7156496, -1.7146877, -1.7137411, ..., -1.7185851,\n",
       "          -1.7176319, -1.7166868],\n",
       "         [-1.7263184, -1.7261232, -1.7259977, ..., -1.7267107,\n",
       "          -1.7265728, -1.7264595]]],\n",
       "  mask=False,\n",
       "  fill_value=1e+20,\n",
       "  dtype=float32)"
      ]
     },
     "execution_count": 27,
     "metadata": {},
     "output_type": "execute_result"
    }
   ],
   "source": [
    "dsin.variables['avgsst'][:]"
   ]
  },
  {
   "cell_type": "code",
   "execution_count": 6,
   "id": "f3a8bd9f-c886-4ad9-910d-51c80f411597",
   "metadata": {},
   "outputs": [
    {
     "data": {
      "text/plain": [
       "{'ntime': <class 'netCDF4._netCDF4.Dimension'>: name = 'ntime', size = 456,\n",
       " 'nlat': <class 'netCDF4._netCDF4.Dimension'>: name = 'nlat', size = 180,\n",
       " 'nlon': <class 'netCDF4._netCDF4.Dimension'>: name = 'nlon', size = 360,\n",
       " 'nmon': <class 'netCDF4._netCDF4.Dimension'>: name = 'nmon', size = 12}"
      ]
     },
     "execution_count": 6,
     "metadata": {},
     "output_type": "execute_result"
    }
   ],
   "source": [
    "dsin.dimensions"
   ]
  },
  {
   "cell_type": "code",
   "execution_count": 9,
   "id": "9a43e2b3-3755-4e0d-98c3-d009e84a7624",
   "metadata": {},
   "outputs": [
    {
     "data": {
      "text/plain": [
       "(456, 180, 360)"
      ]
     },
     "execution_count": 9,
     "metadata": {},
     "output_type": "execute_result"
    }
   ],
   "source": [
    "dsin.variables['sst'][:].data.shape"
   ]
  },
  {
   "cell_type": "code",
   "execution_count": 17,
   "id": "f344af91-c841-4a75-b673-5c88bb4c29aa",
   "metadata": {},
   "outputs": [],
   "source": [
    "arr = dsin.variables['sst'][:].data"
   ]
  },
  {
   "cell_type": "code",
   "execution_count": 35,
   "id": "b42787b3-59cb-4df2-8f4c-5f451c2742a9",
   "metadata": {},
   "outputs": [
    {
     "data": {
      "text/plain": [
       "33.739998"
      ]
     },
     "execution_count": 35,
     "metadata": {},
     "output_type": "execute_result"
    }
   ],
   "source": [
    "np.nanmax(arr)"
   ]
  },
  {
   "cell_type": "code",
   "execution_count": 4,
   "id": "1af3ece4-7768-4985-a4e6-3ef7eb9be106",
   "metadata": {},
   "outputs": [],
   "source": [
    "dsin.close()\n",
    "dsout.close()"
   ]
  },
  {
   "cell_type": "markdown",
   "id": "60cb62c9-0e68-470a-9b74-0dab92afa14e",
   "metadata": {},
   "source": [
    "## copy data"
   ]
  },
  {
   "cell_type": "code",
   "execution_count": null,
   "id": "6518bc87-4655-4000-9bc5-7f5cedb40ef6",
   "metadata": {},
   "outputs": [],
   "source": [
    "# set attribute\n",
    "for attr in dsin.ncattrs() :\n",
    "    dsout.setncattr(attr, dsin.getncattr(attr))"
   ]
  },
  {
   "cell_type": "code",
   "execution_count": null,
   "id": "0515c9fc-64d5-48b2-953c-6cf40d01ca70",
   "metadata": {},
   "outputs": [],
   "source": [
    "# set dimension\n",
    "for k, v in dsin.dimensions.items():\n",
    "    dsout.createDimension(k, v.size)"
   ]
  },
  {
   "cell_type": "code",
   "execution_count": 6,
   "id": "7ad54af2-b950-45e4-933a-bfb595c9f042",
   "metadata": {},
   "outputs": [],
   "source": [
    "# set variables\n",
    "for name, variable in dsin.variables.items():\n",
    "    \n",
    "    new_variable = dsout.createVariable(name, variable.datatype, variable.dimensions, fill_value=-999) # name, datatype, dimension\n",
    "    dsout[name][:] = dsin[name][:] # values\n",
    "    \n",
    "    for attr in variable.ncattrs():\n",
    "        if attr == '_FillValue': continue\n",
    "        new_variable.setncattr(attr, variable.getncattr(attr)) # variable attr"
   ]
  },
  {
   "cell_type": "markdown",
   "id": "37b201c3-be46-4dcf-8e95-f934c2961be6",
   "metadata": {},
   "source": [
    "## write data"
   ]
  },
  {
   "cell_type": "code",
   "execution_count": 2,
   "id": "c85f0898-d503-42f0-9368-66c762b0172e",
   "metadata": {},
   "outputs": [
    {
     "data": {
      "application/vnd.jupyter.widget-view+json": {
       "model_id": "dcdfc778b7b347f499cff662b9ea5760",
       "version_major": 2,
       "version_minor": 0
      },
      "text/plain": [
       "  0%|          | 0/31 [00:00<?, ?it/s]"
      ]
     },
     "metadata": {},
     "output_type": "display_data"
    }
   ],
   "source": [
    "start_date = (1981,9,1)\n",
    "end_date = (2011,8,31)\n",
    "result = get_data_by_date(get_data_A, 'sst', start_date, end_date)"
   ]
  },
  {
   "cell_type": "code",
   "execution_count": 3,
   "id": "e9d4d581-d4f0-44c7-b49b-0717eca5d060",
   "metadata": {},
   "outputs": [
    {
     "data": {
      "application/vnd.jupyter.widget-view+json": {
       "model_id": "84181e39a37c4972bc670f2131cab5c7",
       "version_major": 2,
       "version_minor": 0
      },
      "text/plain": [
       "0it [00:00, ?it/s]"
      ]
     },
     "metadata": {},
     "output_type": "display_data"
    }
   ],
   "source": [
    "mean = get_stat(result, 'mean')"
   ]
  },
  {
   "cell_type": "code",
   "execution_count": 4,
   "id": "cb08b896-325f-4396-9f6f-bfe2a5d92827",
   "metadata": {},
   "outputs": [
    {
     "data": {
      "application/vnd.jupyter.widget-view+json": {
       "model_id": "6913d6dab89b4432844408df9bebe214",
       "version_major": 2,
       "version_minor": 0
      },
      "text/plain": [
       "0it [00:00, ?it/s]"
      ]
     },
     "metadata": {},
     "output_type": "display_data"
    }
   ],
   "source": [
    "perc = get_stat(result, 'perc')"
   ]
  },
  {
   "cell_type": "code",
   "execution_count": 5,
   "id": "7077f92f-2756-490e-8f8b-e895e9ff19dc",
   "metadata": {},
   "outputs": [
    {
     "data": {
      "application/vnd.jupyter.widget-view+json": {
       "model_id": "0518eaa2742446cb92a03ac0558471d8",
       "version_major": 2,
       "version_minor": 0
      },
      "text/plain": [
       "0it [00:00, ?it/s]"
      ]
     },
     "metadata": {},
     "output_type": "display_data"
    }
   ],
   "source": [
    "cnt = get_stat(result, 'cnt')"
   ]
  },
  {
   "cell_type": "code",
   "execution_count": 7,
   "id": "2fa5045f-f9a9-4916-af82-e9d732d32dea",
   "metadata": {
    "tags": []
   },
   "outputs": [],
   "source": [
    "def copy_existing_variable(dsin, dsout, default_fill_value):\n",
    "    \n",
    "    for attr in dsin.ncattrs() :\n",
    "        \n",
    "        if attr == 'anom' : continue\n",
    "        elif attr == 'err' : new_attr = 'analysis_error'\n",
    "        elif attr == 'ice' : new_attr = 'sea_ice_fraction'\n",
    "        elif attr == 'sst' : new_attr = 'analysed_sst'\n",
    "        else : new_attr = attr\n",
    "        \n",
    "        dsout.setncattr(new_attr, dsin.getncattr(attr))\n",
    "\n",
    "    for k, v in dsin.dimensions.items():\n",
    "        dsout.createDimension(k, v.size)\n",
    "    \n",
    "    for name, variable in dsin.variables.items():\n",
    "    \n",
    "        existing_variable = dsout.createVariable(name, variable.datatype, variable.dimensions, fill_value=default_fill_value) # name, datatype, dimension\n",
    "        dsout[name][:] = dsin[name][:] # values\n",
    "\n",
    "        for attr in variable.ncattrs():\n",
    "            if attr == '_FillValue': continue\n",
    "            existing_variable.setncattr(attr, variable.getncattr(attr)) # variable attr\n",
    "            \n",
    "    return dsout\n",
    "\n",
    "def create_new_variable(dsout, new_variable_name, dtype, dimension, fill_value, values, attributes):\n",
    "            \n",
    "    new_variable = dsout.createVariable(new_variable_name, dtype, dimension, fill_value=fill_value)\n",
    "    dsout[new_variable_name][:] = values\n",
    "    \n",
    "    for k,v in attributes.items():\n",
    "        if k == '_FillValue': continue\n",
    "        new_variable.setncattr(k, v) # variable attr\n",
    "    \n",
    "    return dsout"
   ]
  },
  {
   "cell_type": "code",
   "execution_count": 8,
   "id": "88bdfd84-3c7c-40a1-9654-173719da0177",
   "metadata": {
    "tags": []
   },
   "outputs": [],
   "source": [
    "def transfer_data(year, month, date, variable_types, variable_values): \n",
    "    '''\n",
    "    variable_type = 'mean' or 'perc' or 'cnt'\n",
    "    '''\n",
    "    \n",
    "    date = dt.date(year,month,day).strftime('%Y%m%d')\n",
    "    \n",
    "    if year < 2016 : \n",
    "        dsin = Dataset(f'/Volumes/T7/AVHRR_OI_SST/v2.1/{year}/oisst-avhrr-v02r01.{date}.nc', 'r', format='NETCDF4')\n",
    "    else :\n",
    "        if os.path.exists(f'/Volumes/T7/AVHRR_OI_SST/v2.1/{year}/{date}120000-NCEI-L4_GHRSST-SSTblend-AVHRR_OI-GLOB-v02.0-fv02.1.nc'):\n",
    "            dsin = Dataset(f'/Volumes/T7/AVHRR_OI_SST/v2.1/{year}/{date}120000-NCEI-L4_GHRSST-SSTblend-AVHRR_OI-GLOB-v02.0-fv02.1.nc', 'r', format='NETCDF4')\n",
    "        else :\n",
    "            dsin = Dataset(f'/Volumes/T7/AVHRR_OI_SST/v2.1/{year}/{date}120000-NCEI-L4_GHRSST-SSTblend-AVHRR_OI-GLOB-v02.1-fv02.1.nc', 'r', format='NETCDF4')\n",
    "    \n",
    "    if not os.path.exists(f'/Volumes/T7/new_data/AVHRR_OI_SST/{year}'):\n",
    "        os.makedirs((f'/Volumes/T7/new_data/AVHRR_OI_SST/{year}'))\n",
    "                           \n",
    "    dsout = Dataset(f'/Volumes/T7/new_data/AVHRR_OI_SST/{year}/{date}120000-NCEI-L4_GHRSST-SSTblend-AVHRR_OI-GLOB-v02.1-fv02.1.nc', 'w', format='NETCDF4')\n",
    "    \n",
    "    dsout = copy_existing_variable(dsin, dsout, default_fill_value=-999)\n",
    "    \n",
    "    for variable_type, variable_value in zip(variable_types, variable_values):\n",
    "\n",
    "        if variable_type == 'mean' :\n",
    "            variable_name = 'mean_sst'\n",
    "            dtype = np.float32\n",
    "            attribute = {'long_name' : 'mean sst for 30 years (1981/9/1~2011/8/31)',\n",
    "                         'add_offset' : 0.0,\n",
    "                         'scale_factor' : 0.01,\n",
    "                         'valid_min' : -1200,\n",
    "                         'valid_max' : 1200,\n",
    "                         'units' : 'celcius'}\n",
    "\n",
    "        if variable_type == 'perc' :\n",
    "            variable_name = '90-percentile_sst'\n",
    "            dtype = np.float32\n",
    "            attribute = {'long_name' : '90-percentile of sst for 30years (1981/9/1~2011/8/31)',\n",
    "                         'add_offset' : 0.0,\n",
    "                         'scale_factor' : 0.01,\n",
    "                         'valid_min' : -1200,\n",
    "                         'valid_max' : 1200,\n",
    "                         'units' : 'celcius'}\n",
    "\n",
    "        if variable_type == 'cnt' :\n",
    "            variable_name = 'cnt_of_value'\n",
    "            dtype = np.int16\n",
    "            attribute = {'long_name' : 'based values counted by pixel (30,0 = normal, other = anormal)',\n",
    "                         'add_offset' : 0,\n",
    "                         'scale_factor' : 1,\n",
    "                         'valid_min' : 0,\n",
    "                         'valid_max' : 30,\n",
    "                         'units' : '-'}\n",
    "\n",
    "        # common attribute\n",
    "        dimensions = ('time', 'zlev', 'lat', 'lon')\n",
    "        fill_value = -999\n",
    "        values = variable_value[(month,day)]\n",
    "\n",
    "        dsout = create_new_variable(dsout, variable_name, dtype, dimensions, fill_value, values, attribute)\n",
    "\n",
    "    dsout.close()\n",
    "    dsin.close()"
   ]
  },
  {
   "cell_type": "code",
   "execution_count": 13,
   "id": "6ca28c39-4fe5-44af-aa09-3bbec2e0fbc7",
   "metadata": {},
   "outputs": [
    {
     "ename": "PermissionError",
     "evalue": "[Errno 13] Permission denied: b'/Volumes/T7/new_data/AVHRR_OI_SST/2016/20160901120000-NCEI-L4_GHRSST-SSTblend-AVHRR_OI-GLOB-v02.1-fv02.1.nc'",
     "output_type": "error",
     "traceback": [
      "\u001b[0;31m---------------------------------------------------------------------------\u001b[0m",
      "\u001b[0;31mPermissionError\u001b[0m                           Traceback (most recent call last)",
      "\u001b[0;32m/var/folders/3k/05vd5sp53wbgspztyxv0ksfm0000gn/T/ipykernel_25992/767337696.py\u001b[0m in \u001b[0;36m<module>\u001b[0;34m\u001b[0m\n\u001b[1;32m      1\u001b[0m \u001b[0mdsin\u001b[0m \u001b[0;34m=\u001b[0m \u001b[0mDataset\u001b[0m\u001b[0;34m(\u001b[0m\u001b[0;34mf'/Volumes/T7/AVHRR_OI_SST/v2.1/2016/20160901120000-NCEI-L4_GHRSST-SSTblend-AVHRR_OI-GLOB-v02.0-fv02.1.nc'\u001b[0m\u001b[0;34m,\u001b[0m \u001b[0;34m'r'\u001b[0m\u001b[0;34m,\u001b[0m \u001b[0mformat\u001b[0m\u001b[0;34m=\u001b[0m\u001b[0;34m'NETCDF4'\u001b[0m\u001b[0;34m)\u001b[0m\u001b[0;34m\u001b[0m\u001b[0;34m\u001b[0m\u001b[0m\n\u001b[0;32m----> 2\u001b[0;31m \u001b[0mdsout\u001b[0m \u001b[0;34m=\u001b[0m \u001b[0mDataset\u001b[0m\u001b[0;34m(\u001b[0m\u001b[0;34mf'/Volumes/T7/new_data/AVHRR_OI_SST/2016/20160901120000-NCEI-L4_GHRSST-SSTblend-AVHRR_OI-GLOB-v02.1-fv02.1.nc'\u001b[0m\u001b[0;34m,\u001b[0m \u001b[0;34m'w'\u001b[0m\u001b[0;34m,\u001b[0m \u001b[0mformat\u001b[0m\u001b[0;34m=\u001b[0m\u001b[0;34m'NETCDF4'\u001b[0m\u001b[0;34m)\u001b[0m\u001b[0;34m\u001b[0m\u001b[0;34m\u001b[0m\u001b[0m\n\u001b[0m\u001b[1;32m      3\u001b[0m \u001b[0;34m\u001b[0m\u001b[0m\n\u001b[1;32m      4\u001b[0m \u001b[0mdsout\u001b[0m \u001b[0;34m=\u001b[0m \u001b[0mcopy_existing_variable\u001b[0m\u001b[0;34m(\u001b[0m\u001b[0mdsin\u001b[0m\u001b[0;34m,\u001b[0m \u001b[0mdsout\u001b[0m\u001b[0;34m,\u001b[0m \u001b[0mdefault_fill_value\u001b[0m\u001b[0;34m=\u001b[0m\u001b[0;34m-\u001b[0m\u001b[0;36m999\u001b[0m\u001b[0;34m)\u001b[0m\u001b[0;34m\u001b[0m\u001b[0;34m\u001b[0m\u001b[0m\n\u001b[1;32m      5\u001b[0m \u001b[0;34m\u001b[0m\u001b[0m\n",
      "\u001b[0;32msrc/netCDF4/_netCDF4.pyx\u001b[0m in \u001b[0;36mnetCDF4._netCDF4.Dataset.__init__\u001b[0;34m()\u001b[0m\n",
      "\u001b[0;32msrc/netCDF4/_netCDF4.pyx\u001b[0m in \u001b[0;36mnetCDF4._netCDF4._ensure_nc_success\u001b[0;34m()\u001b[0m\n",
      "\u001b[0;31mPermissionError\u001b[0m: [Errno 13] Permission denied: b'/Volumes/T7/new_data/AVHRR_OI_SST/2016/20160901120000-NCEI-L4_GHRSST-SSTblend-AVHRR_OI-GLOB-v02.1-fv02.1.nc'"
     ]
    }
   ],
   "source": [
    "dsin = Dataset(f'/Volumes/T7/AVHRR_OI_SST/v2.1/2016/20160901120000-NCEI-L4_GHRSST-SSTblend-AVHRR_OI-GLOB-v02.0-fv02.1.nc', 'r', format='NETCDF4')\n",
    "dsout = Dataset(f'/Volumes/T7/new_data/AVHRR_OI_SST/2016/20160901120000-NCEI-L4_GHRSST-SSTblend-AVHRR_OI-GLOB-v02.1-fv02.1.nc', 'w', format='NETCDF4')\n",
    "\n",
    "dsout = copy_existing_variable(dsin, dsout, default_fill_value=-999)\n",
    "\n",
    "# for variable_type, variable_value in zip(variable_types, variable_values):\n",
    "\n",
    "#     if variable_type == 'mean' :\n",
    "#         variable_name = 'mean_sst'\n",
    "#         dtype = np.float32\n",
    "#         attribute = {'long_name' : 'mean sst for 30 years (1981/9/1~2011/8/31)',\n",
    "#                      'add_offset' : 0.0,\n",
    "#                      'scale_factor' : 0.01,\n",
    "#                      'valid_min' : -1200,\n",
    "#                      'valid_max' : 1200,\n",
    "#                      'units' : 'celcius'}\n",
    "\n",
    "#     if variable_type == 'perc' :\n",
    "#         variable_name = '90-percentile_sst'\n",
    "#         dtype = np.float32\n",
    "#         attribute = {'long_name' : '90-percentile of sst for 30years (1981/9/1~2011/8/31)',\n",
    "#                      'add_offset' : 0.0,\n",
    "#                      'scale_factor' : 0.01,\n",
    "#                      'valid_min' : -1200,\n",
    "#                      'valid_max' : 1200,\n",
    "#                      'units' : 'celcius'}\n",
    "\n",
    "#     if variable_type == 'cnt' :\n",
    "#         variable_name = 'cnt_of_value'\n",
    "#         dtype = np.int16\n",
    "#         attribute = {'long_name' : 'based values counted by pixel (30,0 = normal, other = anormal)',\n",
    "#                      'add_offset' : 0,\n",
    "#                      'scale_factor' : 1,\n",
    "#                      'valid_min' : 0,\n",
    "#                      'valid_max' : 30,\n",
    "#                      'units' : '-'}\n",
    "\n",
    "#     # common attribute\n",
    "#     dimensions = ('time', 'zlev', 'lat', 'lon')\n",
    "#     fill_value = -999\n",
    "#     values = variable_value[(month,day)]\n",
    "\n",
    "#     dsout = create_new_variable(dsout, variable_name, dtype, dimensions, fill_value, values, attribute)\n",
    "\n",
    "dsout.close()\n",
    "dsin.close()"
   ]
  },
  {
   "cell_type": "code",
   "execution_count": null,
   "id": "9cb347d4-4f8c-4e8e-b415-7b7d58327b16",
   "metadata": {},
   "outputs": [
    {
     "data": {
      "application/vnd.jupyter.widget-view+json": {
       "model_id": "49a6e6b1b115487aabd8c62bbbeca6d2",
       "version_major": 2,
       "version_minor": 0
      },
      "text/plain": [
       "  0%|          | 0/41 [00:00<?, ?it/s]"
      ]
     },
     "metadata": {},
     "output_type": "display_data"
    },
    {
     "name": "stderr",
     "output_type": "stream",
     "text": [
      "ERROR:root:Internal Python error in the inspect module.\n",
      "Below is the traceback from this internal error.\n",
      "\n",
      "ERROR:root:Internal Python error in the inspect module.\n",
      "Below is the traceback from this internal error.\n",
      "\n"
     ]
    },
    {
     "name": "stdout",
     "output_type": "stream",
     "text": [
      "Traceback (most recent call last):\n",
      "  File \"/Users/jeongseunghwan/opt/anaconda3/lib/python3.8/site-packages/IPython/core/interactiveshell.py\", line 3444, in run_code\n",
      "    exec(code_obj, self.user_global_ns, self.user_ns)\n",
      "  File \"/var/folders/3k/05vd5sp53wbgspztyxv0ksfm0000gn/T/ipykernel_24627/1740563738.py\", line 14, in <module>\n",
      "    transfer_data(year, month, day, variable_types, variable_values)\n",
      "  File \"/var/folders/3k/05vd5sp53wbgspztyxv0ksfm0000gn/T/ipykernel_24627/2485455174.py\", line 19, in transfer_data\n",
      "    dsout = Dataset(f'/Volumes/T7/new_data/AVHRR_OI_SST/{year}/{date}120000-NCEI-L4_GHRSST-SSTblend-AVHRR_OI-GLOB-v02.1-fv02.1.nc', 'w', format='NETCDF4')\n",
      "  File \"src/netCDF4/_netCDF4.pyx\", line 2353, in netCDF4._netCDF4.Dataset.__init__\n",
      "  File \"src/netCDF4/_netCDF4.pyx\", line 1963, in netCDF4._netCDF4._ensure_nc_success\n",
      "PermissionError: [Errno 13] Permission denied: b'/Volumes/T7/new_data/AVHRR_OI_SST/1981/19810901120000-NCEI-L4_GHRSST-SSTblend-AVHRR_OI-GLOB-v02.1-fv02.1.nc'\n",
      "\n",
      "During handling of the above exception, another exception occurred:\n",
      "\n",
      "Traceback (most recent call last):\n",
      "  File \"/Users/jeongseunghwan/opt/anaconda3/lib/python3.8/site-packages/IPython/core/interactiveshell.py\", line 2064, in showtraceback\n",
      "    stb = value._render_traceback_()\n",
      "AttributeError: 'PermissionError' object has no attribute '_render_traceback_'\n",
      "\n",
      "During handling of the above exception, another exception occurred:\n",
      "\n",
      "Traceback (most recent call last):\n",
      "  File \"/Users/jeongseunghwan/opt/anaconda3/lib/python3.8/site-packages/IPython/core/ultratb.py\", line 1101, in get_records\n",
      "    return _fixed_getinnerframes(etb, number_of_lines_of_context, tb_offset)\n",
      "  File \"/Users/jeongseunghwan/opt/anaconda3/lib/python3.8/site-packages/IPython/core/ultratb.py\", line 248, in wrapped\n",
      "    return f(*args, **kwargs)\n",
      "  File \"/Users/jeongseunghwan/opt/anaconda3/lib/python3.8/site-packages/IPython/core/ultratb.py\", line 281, in _fixed_getinnerframes\n",
      "    records = fix_frame_records_filenames(inspect.getinnerframes(etb, context))\n",
      "  File \"/Users/jeongseunghwan/opt/anaconda3/lib/python3.8/inspect.py\", line 1515, in getinnerframes\n",
      "    frameinfo = (tb.tb_frame,) + getframeinfo(tb, context)\n",
      "  File \"/Users/jeongseunghwan/opt/anaconda3/lib/python3.8/inspect.py\", line 1473, in getframeinfo\n",
      "    filename = getsourcefile(frame) or getfile(frame)\n",
      "  File \"/Users/jeongseunghwan/opt/anaconda3/lib/python3.8/inspect.py\", line 708, in getsourcefile\n",
      "    if getattr(getmodule(object, filename), '__loader__', None) is not None:\n",
      "  File \"/Users/jeongseunghwan/opt/anaconda3/lib/python3.8/inspect.py\", line 737, in getmodule\n",
      "    file = getabsfile(object, _filename)\n",
      "  File \"/Users/jeongseunghwan/opt/anaconda3/lib/python3.8/inspect.py\", line 721, in getabsfile\n",
      "    return os.path.normcase(os.path.abspath(_filename))\n",
      "  File \"/Users/jeongseunghwan/opt/anaconda3/lib/python3.8/posixpath.py\", line 379, in abspath\n",
      "    cwd = os.getcwd()\n",
      "FileNotFoundError: [Errno 2] No such file or directory\n",
      "Traceback (most recent call last):\n",
      "  File \"/Users/jeongseunghwan/opt/anaconda3/lib/python3.8/site-packages/IPython/core/interactiveshell.py\", line 3444, in run_code\n",
      "    exec(code_obj, self.user_global_ns, self.user_ns)\n",
      "  File \"/var/folders/3k/05vd5sp53wbgspztyxv0ksfm0000gn/T/ipykernel_24627/1740563738.py\", line 14, in <module>\n",
      "    transfer_data(year, month, day, variable_types, variable_values)\n",
      "  File \"/var/folders/3k/05vd5sp53wbgspztyxv0ksfm0000gn/T/ipykernel_24627/2485455174.py\", line 19, in transfer_data\n",
      "    dsout = Dataset(f'/Volumes/T7/new_data/AVHRR_OI_SST/{year}/{date}120000-NCEI-L4_GHRSST-SSTblend-AVHRR_OI-GLOB-v02.1-fv02.1.nc', 'w', format='NETCDF4')\n",
      "  File \"src/netCDF4/_netCDF4.pyx\", line 2353, in netCDF4._netCDF4.Dataset.__init__\n",
      "  File \"src/netCDF4/_netCDF4.pyx\", line 1963, in netCDF4._netCDF4._ensure_nc_success\n",
      "PermissionError: [Errno 13] Permission denied: b'/Volumes/T7/new_data/AVHRR_OI_SST/1981/19810901120000-NCEI-L4_GHRSST-SSTblend-AVHRR_OI-GLOB-v02.1-fv02.1.nc'\n",
      "\n",
      "During handling of the above exception, another exception occurred:\n",
      "\n",
      "Traceback (most recent call last):\n"
     ]
    },
    {
     "name": "stderr",
     "output_type": "stream",
     "text": [
      "ERROR:root:Internal Python error in the inspect module.\n",
      "Below is the traceback from this internal error.\n",
      "\n"
     ]
    },
    {
     "name": "stdout",
     "output_type": "stream",
     "text": [
      "  File \"/Users/jeongseunghwan/opt/anaconda3/lib/python3.8/site-packages/IPython/core/interactiveshell.py\", line 2064, in showtraceback\n",
      "    stb = value._render_traceback_()\n",
      "AttributeError: 'PermissionError' object has no attribute '_render_traceback_'\n",
      "\n",
      "During handling of the above exception, another exception occurred:\n",
      "\n",
      "Traceback (most recent call last):\n",
      "  File \"/Users/jeongseunghwan/opt/anaconda3/lib/python3.8/site-packages/IPython/core/interactiveshell.py\", line 3364, in run_ast_nodes\n",
      "    if (await self.run_code(code, result,  async_=asy)):\n",
      "  File \"/Users/jeongseunghwan/opt/anaconda3/lib/python3.8/site-packages/IPython/core/interactiveshell.py\", line 3461, in run_code\n",
      "    self.showtraceback(running_compiled_code=True)\n",
      "  File \"/Users/jeongseunghwan/opt/anaconda3/lib/python3.8/site-packages/IPython/core/interactiveshell.py\", line 2066, in showtraceback\n",
      "    stb = self.InteractiveTB.structured_traceback(etype,\n",
      "  File \"/Users/jeongseunghwan/opt/anaconda3/lib/python3.8/site-packages/IPython/core/ultratb.py\", line 1367, in structured_traceback\n",
      "    return FormattedTB.structured_traceback(\n",
      "  File \"/Users/jeongseunghwan/opt/anaconda3/lib/python3.8/site-packages/IPython/core/ultratb.py\", line 1267, in structured_traceback\n",
      "    return VerboseTB.structured_traceback(\n",
      "  File \"/Users/jeongseunghwan/opt/anaconda3/lib/python3.8/site-packages/IPython/core/ultratb.py\", line 1124, in structured_traceback\n",
      "    formatted_exception = self.format_exception_as_a_whole(etype, evalue, etb, number_of_lines_of_context,\n",
      "  File \"/Users/jeongseunghwan/opt/anaconda3/lib/python3.8/site-packages/IPython/core/ultratb.py\", line 1082, in format_exception_as_a_whole\n",
      "    last_unique, recursion_repeat = find_recursion(orig_etype, evalue, records)\n",
      "  File \"/Users/jeongseunghwan/opt/anaconda3/lib/python3.8/site-packages/IPython/core/ultratb.py\", line 382, in find_recursion\n",
      "    return len(records), 0\n",
      "TypeError: object of type 'NoneType' has no len()\n",
      "\n",
      "During handling of the above exception, another exception occurred:\n",
      "\n",
      "Traceback (most recent call last):\n",
      "  File \"/Users/jeongseunghwan/opt/anaconda3/lib/python3.8/site-packages/IPython/core/interactiveshell.py\", line 2064, in showtraceback\n",
      "    stb = value._render_traceback_()\n",
      "AttributeError: 'TypeError' object has no attribute '_render_traceback_'\n",
      "\n",
      "During handling of the above exception, another exception occurred:\n",
      "\n",
      "Traceback (most recent call last):\n",
      "  File \"/Users/jeongseunghwan/opt/anaconda3/lib/python3.8/site-packages/IPython/core/ultratb.py\", line 1101, in get_records\n",
      "    return _fixed_getinnerframes(etb, number_of_lines_of_context, tb_offset)\n",
      "  File \"/Users/jeongseunghwan/opt/anaconda3/lib/python3.8/site-packages/IPython/core/ultratb.py\", line 248, in wrapped\n",
      "    return f(*args, **kwargs)\n",
      "  File \"/Users/jeongseunghwan/opt/anaconda3/lib/python3.8/site-packages/IPython/core/ultratb.py\", line 281, in _fixed_getinnerframes\n",
      "    records = fix_frame_records_filenames(inspect.getinnerframes(etb, context))\n",
      "  File \"/Users/jeongseunghwan/opt/anaconda3/lib/python3.8/inspect.py\", line 1515, in getinnerframes\n",
      "    frameinfo = (tb.tb_frame,) + getframeinfo(tb, context)\n",
      "  File \"/Users/jeongseunghwan/opt/anaconda3/lib/python3.8/inspect.py\", line 1473, in getframeinfo\n",
      "    filename = getsourcefile(frame) or getfile(frame)\n",
      "  File \"/Users/jeongseunghwan/opt/anaconda3/lib/python3.8/inspect.py\", line 708, in getsourcefile\n",
      "    if getattr(getmodule(object, filename), '__loader__', None) is not None:\n",
      "  File \"/Users/jeongseunghwan/opt/anaconda3/lib/python3.8/inspect.py\", line 737, in getmodule\n",
      "    file = getabsfile(object, _filename)\n",
      "  File \"/Users/jeongseunghwan/opt/anaconda3/lib/python3.8/inspect.py\", line 721, in getabsfile\n",
      "    return os.path.normcase(os.path.abspath(_filename))\n",
      "  File \"/Users/jeongseunghwan/opt/anaconda3/lib/python3.8/posixpath.py\", line 379, in abspath\n",
      "    cwd = os.getcwd()\n",
      "FileNotFoundError: [Errno 2] No such file or directory\n",
      "Traceback (most recent call last):\n",
      "  File \"/Users/jeongseunghwan/opt/anaconda3/lib/python3.8/site-packages/IPython/core/interactiveshell.py\", line 3444, in run_code\n",
      "    exec(code_obj, self.user_global_ns, self.user_ns)\n",
      "  File \"/var/folders/3k/05vd5sp53wbgspztyxv0ksfm0000gn/T/ipykernel_24627/1740563738.py\", line 14, in <module>\n",
      "    transfer_data(year, month, day, variable_types, variable_values)\n",
      "  File \"/var/folders/3k/05vd5sp53wbgspztyxv0ksfm0000gn/T/ipykernel_24627/2485455174.py\", line 19, in transfer_data\n",
      "    dsout = Dataset(f'/Volumes/T7/new_data/AVHRR_OI_SST/{year}/{date}120000-NCEI-L4_GHRSST-SSTblend-AVHRR_OI-GLOB-v02.1-fv02.1.nc', 'w', format='NETCDF4')\n",
      "  File \"src/netCDF4/_netCDF4.pyx\", line 2353, in netCDF4._netCDF4.Dataset.__init__\n",
      "  File \"src/netCDF4/_netCDF4.pyx\", line 1963, in netCDF4._netCDF4._ensure_nc_success\n",
      "PermissionError: [Errno 13] Permission denied: b'/Volumes/T7/new_data/AVHRR_OI_SST/1981/19810901120000-NCEI-L4_GHRSST-SSTblend-AVHRR_OI-GLOB-v02.1-fv02.1.nc'\n",
      "\n",
      "During handling of the above exception, another exception occurred:\n",
      "\n",
      "Traceback (most recent call last):\n",
      "  File \"/Users/jeongseunghwan/opt/anaconda3/lib/python3.8/site-packages/IPython/core/interactiveshell.py\", line 2064, in showtraceback\n",
      "    stb = value._render_traceback_()\n",
      "AttributeError: 'PermissionError' object has no attribute '_render_traceback_'\n",
      "\n",
      "During handling of the above exception, another exception occurred:\n",
      "\n",
      "Traceback (most recent call last):\n",
      "  File \"/Users/jeongseunghwan/opt/anaconda3/lib/python3.8/site-packages/IPython/core/interactiveshell.py\", line 3364, in run_ast_nodes\n",
      "    if (await self.run_code(code, result,  async_=asy)):\n",
      "  File \"/Users/jeongseunghwan/opt/anaconda3/lib/python3.8/site-packages/IPython/core/interactiveshell.py\", line 3461, in run_code\n",
      "    self.showtraceback(running_compiled_code=True)\n",
      "  File \"/Users/jeongseunghwan/opt/anaconda3/lib/python3.8/site-packages/IPython/core/interactiveshell.py\", line 2066, in showtraceback\n",
      "    stb = self.InteractiveTB.structured_traceback(etype,\n",
      "  File \"/Users/jeongseunghwan/opt/anaconda3/lib/python3.8/site-packages/IPython/core/ultratb.py\", line 1367, in structured_traceback\n",
      "    return FormattedTB.structured_traceback(\n",
      "  File \"/Users/jeongseunghwan/opt/anaconda3/lib/python3.8/site-packages/IPython/core/ultratb.py\", line 1267, in structured_traceback\n",
      "    return VerboseTB.structured_traceback(\n",
      "  File \"/Users/jeongseunghwan/opt/anaconda3/lib/python3.8/site-packages/IPython/core/ultratb.py\", line 1124, in structured_traceback\n",
      "    formatted_exception = self.format_exception_as_a_whole(etype, evalue, etb, number_of_lines_of_context,\n",
      "  File \"/Users/jeongseunghwan/opt/anaconda3/lib/python3.8/site-packages/IPython/core/ultratb.py\", line 1082, in format_exception_as_a_whole\n",
      "    last_unique, recursion_repeat = find_recursion(orig_etype, evalue, records)\n",
      "  File \"/Users/jeongseunghwan/opt/anaconda3/lib/python3.8/site-packages/IPython/core/ultratb.py\", line 382, in find_recursion\n",
      "    return len(records), 0\n",
      "TypeError: object of type 'NoneType' has no len()\n",
      "\n",
      "During handling of the above exception, another exception occurred:\n",
      "\n",
      "Traceback (most recent call last):\n",
      "  File \"/Users/jeongseunghwan/opt/anaconda3/lib/python3.8/site-packages/IPython/core/interactiveshell.py\", line 2064, in showtraceback\n",
      "    stb = value._render_traceback_()\n",
      "AttributeError: 'TypeError' object has no attribute '_render_traceback_'\n",
      "\n",
      "During handling of the above exception, another exception occurred:\n",
      "\n",
      "Traceback (most recent call last):\n",
      "  File \"/Users/jeongseunghwan/opt/anaconda3/lib/python3.8/site-packages/IPython/core/interactiveshell.py\", line 2947, in _run_cell\n",
      "    return runner(coro)\n",
      "  File \"/Users/jeongseunghwan/opt/anaconda3/lib/python3.8/site-packages/IPython/core/async_helpers.py\", line 68, in _pseudo_sync_runner\n",
      "    coro.send(None)\n",
      "  File \"/Users/jeongseunghwan/opt/anaconda3/lib/python3.8/site-packages/IPython/core/interactiveshell.py\", line 3172, in run_cell_async\n",
      "    has_raised = await self.run_ast_nodes(code_ast.body, cell_name,\n",
      "  File \"/Users/jeongseunghwan/opt/anaconda3/lib/python3.8/site-packages/IPython/core/interactiveshell.py\", line 3383, in run_ast_nodes\n",
      "    self.showtraceback()\n",
      "  File \"/Users/jeongseunghwan/opt/anaconda3/lib/python3.8/site-packages/IPython/core/interactiveshell.py\", line 2066, in showtraceback\n",
      "    stb = self.InteractiveTB.structured_traceback(etype,\n",
      "  File \"/Users/jeongseunghwan/opt/anaconda3/lib/python3.8/site-packages/IPython/core/ultratb.py\", line 1367, in structured_traceback\n",
      "    return FormattedTB.structured_traceback(\n",
      "  File \"/Users/jeongseunghwan/opt/anaconda3/lib/python3.8/site-packages/IPython/core/ultratb.py\", line 1267, in structured_traceback\n",
      "    return VerboseTB.structured_traceback(\n",
      "  File \"/Users/jeongseunghwan/opt/anaconda3/lib/python3.8/site-packages/IPython/core/ultratb.py\", line 1142, in structured_traceback\n",
      "    formatted_exceptions += self.format_exception_as_a_whole(etype, evalue, etb, lines_of_context,\n",
      "  File \"/Users/jeongseunghwan/opt/anaconda3/lib/python3.8/site-packages/IPython/core/ultratb.py\", line 1082, in format_exception_as_a_whole\n",
      "    last_unique, recursion_repeat = find_recursion(orig_etype, evalue, records)\n",
      "  File \"/Users/jeongseunghwan/opt/anaconda3/lib/python3.8/site-packages/IPython/core/ultratb.py\", line 382, in find_recursion\n",
      "    return len(records), 0\n",
      "TypeError: object of type 'NoneType' has no len()\n",
      "\n",
      "During handling of the above exception, another exception occurred:\n",
      "\n",
      "Traceback (most recent call last):\n",
      "  File \"/Users/jeongseunghwan/opt/anaconda3/lib/python3.8/site-packages/IPython/core/interactiveshell.py\", line 2064, in showtraceback\n",
      "    stb = value._render_traceback_()\n",
      "AttributeError: 'TypeError' object has no attribute '_render_traceback_'\n",
      "\n",
      "During handling of the above exception, another exception occurred:\n",
      "\n",
      "Traceback (most recent call last):\n",
      "  File \"/Users/jeongseunghwan/opt/anaconda3/lib/python3.8/site-packages/IPython/core/ultratb.py\", line 1101, in get_records\n",
      "    return _fixed_getinnerframes(etb, number_of_lines_of_context, tb_offset)\n",
      "  File \"/Users/jeongseunghwan/opt/anaconda3/lib/python3.8/site-packages/IPython/core/ultratb.py\", line 248, in wrapped\n",
      "    return f(*args, **kwargs)\n",
      "  File \"/Users/jeongseunghwan/opt/anaconda3/lib/python3.8/site-packages/IPython/core/ultratb.py\", line 281, in _fixed_getinnerframes\n",
      "    records = fix_frame_records_filenames(inspect.getinnerframes(etb, context))\n",
      "  File \"/Users/jeongseunghwan/opt/anaconda3/lib/python3.8/inspect.py\", line 1515, in getinnerframes\n",
      "    frameinfo = (tb.tb_frame,) + getframeinfo(tb, context)\n",
      "  File \"/Users/jeongseunghwan/opt/anaconda3/lib/python3.8/inspect.py\", line 1473, in getframeinfo\n",
      "    filename = getsourcefile(frame) or getfile(frame)\n",
      "  File \"/Users/jeongseunghwan/opt/anaconda3/lib/python3.8/inspect.py\", line 708, in getsourcefile\n",
      "    if getattr(getmodule(object, filename), '__loader__', None) is not None:\n",
      "  File \"/Users/jeongseunghwan/opt/anaconda3/lib/python3.8/inspect.py\", line 737, in getmodule\n",
      "    file = getabsfile(object, _filename)\n",
      "  File \"/Users/jeongseunghwan/opt/anaconda3/lib/python3.8/inspect.py\", line 721, in getabsfile\n",
      "    return os.path.normcase(os.path.abspath(_filename))\n",
      "  File \"/Users/jeongseunghwan/opt/anaconda3/lib/python3.8/posixpath.py\", line 379, in abspath\n",
      "    cwd = os.getcwd()\n",
      "FileNotFoundError: [Errno 2] No such file or directory\n"
     ]
    }
   ],
   "source": [
    "months = range(1,13)\n",
    "day_lens = [31,28,31,30,31,30,31,31,30,31,30,31]\n",
    "\n",
    "variable_types = ['mean', 'perc', 'cnt']\n",
    "variable_values = [mean, perc, cnt]\n",
    "\n",
    "for year in tqdm(range(1981,2022)):\n",
    "    for month, day_len in zip(months, day_lens):\n",
    "        for day in range(1,day_len+1):\n",
    "            if year == 1981 and month in [1,2,3,4,5,6,7,8]:\n",
    "                continue\n",
    "            if year == 2021 and month == 1 and day == 16 :\n",
    "                continue\n",
    "            transfer_data(year, month, day, variable_types, variable_values)"
   ]
  },
  {
   "cell_type": "code",
   "execution_count": 23,
   "id": "81b899aa-be38-46fa-be93-5d79e15d0cda",
   "metadata": {},
   "outputs": [
    {
     "ename": "NameError",
     "evalue": "name 'dsout' is not defined",
     "output_type": "error",
     "traceback": [
      "\u001b[0;31m---------------------------------------------------------------------------\u001b[0m",
      "\u001b[0;31mNameError\u001b[0m                                 Traceback (most recent call last)",
      "\u001b[0;32m/var/folders/3k/05vd5sp53wbgspztyxv0ksfm0000gn/T/ipykernel_23937/764207539.py\u001b[0m in \u001b[0;36m<module>\u001b[0;34m\u001b[0m\n\u001b[0;32m----> 1\u001b[0;31m \u001b[0mdsout\u001b[0m\u001b[0;34m.\u001b[0m\u001b[0mclose\u001b[0m\u001b[0;34m(\u001b[0m\u001b[0;34m)\u001b[0m\u001b[0;34m\u001b[0m\u001b[0;34m\u001b[0m\u001b[0m\n\u001b[0m\u001b[1;32m      2\u001b[0m \u001b[0mdsin\u001b[0m\u001b[0;34m.\u001b[0m\u001b[0mclose\u001b[0m\u001b[0;34m(\u001b[0m\u001b[0;34m)\u001b[0m\u001b[0;34m\u001b[0m\u001b[0;34m\u001b[0m\u001b[0m\n",
      "\u001b[0;31mNameError\u001b[0m: name 'dsout' is not defined"
     ]
    }
   ],
   "source": [
    "dsout.close()\n",
    "dsin.close()"
   ]
  },
  {
   "cell_type": "code",
   "execution_count": 17,
   "id": "a69ca5ed-f6b2-4f0f-8649-983de0a3ddfa",
   "metadata": {},
   "outputs": [
    {
     "data": {
      "text/plain": [
       "masked_array(\n",
       "  data=[[[[        nan,         nan,         nan, ...,         nan,\n",
       "                   nan,         nan],\n",
       "          [        nan,         nan,         nan, ...,         nan,\n",
       "                   nan,         nan],\n",
       "          [        nan,         nan,         nan, ...,         nan,\n",
       "                   nan,         nan],\n",
       "          ...,\n",
       "          [-0.01212333, -0.01212333, -0.01212333, ..., -0.01212333,\n",
       "           -0.01212333, -0.01212333],\n",
       "          [-0.01210333, -0.01210333, -0.01210333, ..., -0.01210667,\n",
       "           -0.01210333, -0.01210333],\n",
       "          [-0.01211   , -0.01211   , -0.01211   , ..., -0.01211   ,\n",
       "           -0.01211   , -0.01211   ]]]],\n",
       "  mask=False,\n",
       "  fill_value=1e+20,\n",
       "  dtype=float32)"
      ]
     },
     "execution_count": 17,
     "metadata": {},
     "output_type": "execute_result"
    }
   ],
   "source": [
    "dsout = Dataset(f'/Volumes/T7/new_data/AVHRR_OI_SST/oisst-avhrr-v02r01.19810901.nc', 'r', format='NETCDF4')"
   ]
  },
  {
   "cell_type": "code",
   "execution_count": null,
   "id": "fce939d6-f904-4b59-a751-c96aec7d2826",
   "metadata": {},
   "outputs": [],
   "source": []
  }
 ],
 "metadata": {
  "kernelspec": {
   "display_name": "Python 3 (ipykernel)",
   "language": "python",
   "name": "python3"
  },
  "language_info": {
   "codemirror_mode": {
    "name": "ipython",
    "version": 3
   },
   "file_extension": ".py",
   "mimetype": "text/x-python",
   "name": "python",
   "nbconvert_exporter": "python",
   "pygments_lexer": "ipython3",
   "version": "3.8.13"
  }
 },
 "nbformat": 4,
 "nbformat_minor": 5
}
