{
 "cells": [
  {
   "cell_type": "code",
   "execution_count": 20,
   "id": "ff0d642a-2f37-4015-ad05-f7f89ac119c5",
   "metadata": {},
   "outputs": [],
   "source": [
    "from netCDF4 import Dataset\n",
    "from netCDFfunc.utility import get_data_sequence, get_data_A, get_data_by_date, save_img, show_img, masking, cropping, test_data_write\n",
    "\n",
    "import numpy as np\n",
    "\n",
    "from collections import Counter\n",
    "import datetime as dt\n",
    "\n",
    "import os\n",
    "import math\n",
    "from tqdm.notebook import tqdm\n",
    "\n",
    "import matplotlib.pyplot as plt\n",
    "import matplotlib.cm as cm\n",
    "from matplotlib.colors import ListedColormap\n",
    "from mpl_toolkits.axes_grid1 import make_axes_locatable"
   ]
  },
  {
   "cell_type": "code",
   "execution_count": 2,
   "id": "a88e681c-dab1-4446-a2ac-1b832e21187b",
   "metadata": {},
   "outputs": [],
   "source": [
    "base_dir = '/Volumes/T7/AVHRR_OI_SST/v2.1/'"
   ]
  },
  {
   "cell_type": "code",
   "execution_count": 3,
   "id": "5736ea7c-11d1-4012-a7b2-294981831555",
   "metadata": {},
   "outputs": [
    {
     "data": {
      "application/vnd.jupyter.widget-view+json": {
       "model_id": "dde25f122ca746b2a02322183431aade",
       "version_major": 2,
       "version_minor": 0
      },
      "text/plain": [
       "  0%|          | 0/30 [00:00<?, ?it/s]"
      ]
     },
     "metadata": {},
     "output_type": "display_data"
    }
   ],
   "source": [
    "ds_in = get_data_by_date(base_dir=base_dir,\n",
    "                         get_data_func=get_data_A,\n",
    "                         var_name='sst',\n",
    "                         start_date=(1991,1,1),\n",
    "                         end_date=(2020,12,31))"
   ]
  },
  {
   "cell_type": "code",
   "execution_count": 4,
   "id": "778ed1d0-5589-4fa1-b9f8-8627e5e53c59",
   "metadata": {},
   "outputs": [
    {
     "data": {
      "application/vnd.jupyter.widget-view+json": {
       "model_id": "2a18a2ee94674c29944298a74b99c092",
       "version_major": 2,
       "version_minor": 0
      },
      "text/plain": [
       "  0%|          | 0/30 [00:00<?, ?it/s]"
      ]
     },
     "metadata": {},
     "output_type": "display_data"
    }
   ],
   "source": [
    "ds_ice = get_data_by_date(base_dir=base_dir,\n",
    "                          get_data_func=get_data_A,\n",
    "                          var_name='ice',\n",
    "                          start_date=(1991,1,1),\n",
    "                          end_date=(2020,12,31),\n",
    "                          is_mask=True)"
   ]
  },
  {
   "cell_type": "markdown",
   "id": "f05e434d-41e9-41f2-a856-b069fbd3a860",
   "metadata": {},
   "source": [
    "# avg"
   ]
  },
  {
   "cell_type": "code",
   "execution_count": 5,
   "id": "0e7ee0f3-ed9d-494b-a028-e0e81e3d9f4f",
   "metadata": {
    "tags": []
   },
   "outputs": [
    {
     "data": {
      "application/vnd.jupyter.widget-view+json": {
       "model_id": "c6a0a03c531246808a5cb1d8156b94a5",
       "version_major": 2,
       "version_minor": 0
      },
      "text/plain": [
       "0it [00:00, ?it/s]"
      ]
     },
     "metadata": {},
     "output_type": "display_data"
    }
   ],
   "source": [
    "days = [31,28,31,30,31,30,31,31,30,31,30,31] #\n",
    "save_dir = '/Volumes/T7/new_data/processed_data/processed_data_2_rok_avg'\n",
    "\n",
    "for month, day_len in tqdm(zip(range(1,13), days)):\n",
    "    for day in range(1,day_len+1):\n",
    "        \n",
    "        date = dt.date(1000, month,day).strftime('%m%d')\n",
    "        \n",
    "        file_name = f'30_years_dataset_2_rok_{date}'\n",
    "\n",
    "        nc_path = os.path.join(save_dir, file_name+'.nc')\n",
    "\n",
    "        ds_new = Dataset(nc_path, 'w', format='NETCDF4')\n",
    "        title = 'Global 30 years(1991~2020) SST mean data'\n",
    "        comment = 'calculation 1991/1/1 ~ 2020/12/31'\n",
    "        grid_size = 0.25\n",
    "        \n",
    "        data = np.mean(ds_in[(month,day)], axis=0)\n",
    "        \n",
    "        # rok\n",
    "        lat_range = (440, 572) \n",
    "        lon_range = (440, 600)\n",
    "\n",
    "        variable_name = 'avgsst'\n",
    "        variable_standard_name = 'averageSST'\n",
    "        variable_unit = 'degree C'\n",
    "        variable_dtype = np.float32\n",
    "        variable_values = data\n",
    "\n",
    "        ds_new = test_data_write(ds_new, title, comment, grid_size,\n",
    "                                 variable_name, \n",
    "                                 variable_standard_name, \n",
    "                                 variable_unit, \n",
    "                                 variable_dtype, \n",
    "                                 variable_values,\n",
    "                                 lat_range,\n",
    "                                 lon_range)\n",
    "        \n",
    "\n",
    "        ds_new.close()"
   ]
  },
  {
   "cell_type": "code",
   "execution_count": 28,
   "id": "e70003bb-a5d5-4fdd-b700-22dc06f151eb",
   "metadata": {},
   "outputs": [],
   "source": [
    "ds_new.close()"
   ]
  },
  {
   "cell_type": "markdown",
   "id": "44c231f1-e3e9-4001-bc2e-863ea2a6a8e3",
   "metadata": {
    "tags": []
   },
   "source": [
    "# pctl"
   ]
  },
  {
   "cell_type": "code",
   "execution_count": 6,
   "id": "02c3aedd-7f8e-4397-b4b4-f487cab4fcb1",
   "metadata": {},
   "outputs": [
    {
     "data": {
      "application/vnd.jupyter.widget-view+json": {
       "model_id": "0affbc67bf654c658d69084cc72decc2",
       "version_major": 2,
       "version_minor": 0
      },
      "text/plain": [
       "0it [00:00, ?it/s]"
      ]
     },
     "metadata": {},
     "output_type": "display_data"
    }
   ],
   "source": [
    "days = [31,28,31,30,31,30,31,31,30,31,30,31] #\n",
    "save_dir = '/Volumes/T7/new_data/processed_data/processed_data_2_rok_pctl'\n",
    "\n",
    "for month, day_len in tqdm(zip(range(1,13), days)):\n",
    "    for day in range(1,day_len+1):\n",
    "        \n",
    "        date = dt.date(1000, month,day).strftime('%m%d')\n",
    "        \n",
    "        file_name = f'30_years_dataset_2_rok_90_percentile_{date}'\n",
    "\n",
    "        nc_path = os.path.join(save_dir, file_name+'.nc')\n",
    "\n",
    "        ds_new = Dataset(nc_path, 'w', format='NETCDF4')\n",
    "        title = 'Global 30 years(1991~2020) SST 90-percentile data'\n",
    "        comment = 'calculation 1991/1/1 ~ 2020/12/31'\n",
    "        grid_size = 0.25\n",
    "        \n",
    "        data = np.percentile(ds_in[(month,day)], 90, axis=0)\n",
    "        \n",
    "        # rok\n",
    "        lat_range = (440, 572) \n",
    "        lon_range = (440, 600)\n",
    "\n",
    "        variable_name = 'pctlsst'\n",
    "        variable_standard_name = '90-percentile SST'\n",
    "        variable_unit = 'degree C'\n",
    "        variable_dtype = np.float32\n",
    "        variable_values = data\n",
    "\n",
    "        ds_new = test_data_write(ds_new, title, comment, grid_size,\n",
    "                                 variable_name, \n",
    "                                 variable_standard_name, \n",
    "                                 variable_unit, \n",
    "                                 variable_dtype, \n",
    "                                 variable_values,\n",
    "                                 lat_range,\n",
    "                                 lon_range)\n",
    "        \n",
    "\n",
    "        ds_new.close()"
   ]
  },
  {
   "cell_type": "markdown",
   "id": "8ddda9fc-034b-4a57-8f89-f01fb41e1ed6",
   "metadata": {
    "tags": []
   },
   "source": [
    "# ice"
   ]
  },
  {
   "cell_type": "code",
   "execution_count": 11,
   "id": "b80ae385-51d5-4225-8178-e6586ca9bf34",
   "metadata": {},
   "outputs": [
    {
     "data": {
      "application/vnd.jupyter.widget-view+json": {
       "model_id": "a2511abb2f4b4f8b9ec14d3c5a686dee",
       "version_major": 2,
       "version_minor": 0
      },
      "text/plain": [
       "0it [00:00, ?it/s]"
      ]
     },
     "metadata": {},
     "output_type": "display_data"
    }
   ],
   "source": [
    "days = [31,28,31,30,31,30,31,31,30,31,30,31] #\n",
    "save_dir = '/Volumes/T7/new_data/processed_data/processed_data_2_rok_ice'\n",
    "\n",
    "for month, day_len in tqdm(zip(range(1,13), days)):\n",
    "    for day in range(1,day_len+1):\n",
    "        \n",
    "        date = dt.date(1000, month,day).strftime('%m%d')\n",
    "        \n",
    "        file_name = f'30_years_dataset_2_rok_ice_{date}'\n",
    "\n",
    "        nc_path = os.path.join(save_dir, file_name+'.nc')\n",
    "\n",
    "        ds_new = Dataset(nc_path, 'w', format='NETCDF4')\n",
    "        title = 'Global 30 years(1991~2020) Sea-ice data'\n",
    "        comment = 'calculation 1991/1/1 ~ 2020/12/31 \\t (for 30 years) more than 15% ice = ice, less than 15% ice = not ice'\n",
    "        grid_size = 0.25\n",
    "        \n",
    "        ice_accum = np.sum(ds_ice[(month, day)], axis=0)\n",
    "        np.place(ice_accum, ice_accum[:,:] < 30 * 0.15, False)\n",
    "        np.place(ice_accum, ice_accum[:,:] >= 30 * 0.15, True)\n",
    "        ice_accum = ice_accum.astype(bool)\n",
    "        ice_accum = np.invert(ice_accum)\n",
    "        \n",
    "        data = ice_accum\n",
    "        \n",
    "        # rok\n",
    "        lat_range = (440, 572) \n",
    "        lon_range = (440, 600)\n",
    "\n",
    "        variable_name = 'ice'\n",
    "        variable_standard_name = 'Sea-Ice'\n",
    "        variable_unit = ''\n",
    "        variable_dtype = np.int8\n",
    "        variable_values = data\n",
    "\n",
    "        ds_new = test_data_write(ds_new, title, comment, grid_size,\n",
    "                                 variable_name, \n",
    "                                 variable_standard_name, \n",
    "                                 variable_unit, \n",
    "                                 variable_dtype, \n",
    "                                 variable_values,\n",
    "                                 lat_range,\n",
    "                                 lon_range)\n",
    "        \n",
    "        ds_new.close()"
   ]
  },
  {
   "cell_type": "markdown",
   "id": "f0f8dbb9-b4c0-4916-999b-40cd4ed9875a",
   "metadata": {
    "tags": []
   },
   "source": [
    "# test"
   ]
  },
  {
   "cell_type": "code",
   "execution_count": 24,
   "id": "268cf149-0c96-4d68-810f-057708328fe9",
   "metadata": {},
   "outputs": [
    {
     "data": {
      "application/vnd.jupyter.widget-view+json": {
       "model_id": "bc8803866c4b423e9509448246345462",
       "version_major": 2,
       "version_minor": 0
      },
      "text/plain": [
       "0it [00:00, ?it/s]"
      ]
     },
     "metadata": {},
     "output_type": "display_data"
    }
   ],
   "source": [
    "for month, day_len in tqdm(zip(range(1,13), days)):\n",
    "    for day in range(1,day_len+1):\n",
    "        date = dt.date(1000, month,day).strftime('%m%d')\n",
    "        \n",
    "        ds_test = Dataset(f'/Volumes/T7/new_data/processed_data/processed_data_2_rok_ice/30_years_dataset_2_rok_ice_{date}.nc')\n",
    "        save_img(ds_test.variables['ice'][:].data[0], f'/Volumes/T7/new_data/processed_data/test/30_years_dataset_2_rok_{date}', date)\n",
    "        ds_test.close()"
   ]
  },
  {
   "cell_type": "code",
   "execution_count": 58,
   "id": "0b1922fe-3584-4784-a5e4-21cf8a955096",
   "metadata": {},
   "outputs": [],
   "source": [
    "ds_test_1 = Dataset(f'/Volumes/T7/new_data/processed_data/processed_data_1_rok_ice/30_years_dataset_1_rok_ice_0101.nc', 'r', format='NETCDF4')\n",
    "ds_test_2 = Dataset(f'/Volumes/T7/new_data/processed_data/processed_data_2_rok_ice/30_years_dataset_2_rok_ice_0101.nc', 'r', format='NETCDF4')"
   ]
  },
  {
   "cell_type": "code",
   "execution_count": null,
   "id": "63c9e558-d33a-4785-b1c9-04c833dfcd3a",
   "metadata": {},
   "outputs": [
    {
     "data": {
      "image/png": "[encoded data removed]",
      "text/plain": [
       "<Figure size 1728x864 with 2 Axes>"
      ]
     },
     "metadata": {
      "needs_background": "light"
     },
     "output_type": "display_data"
    }
   ],
   "source": [
    "show_img(ds_test_1.variables['ice'][:].data[0])"
   ]
  },
  {
   "cell_type": "code",
   "execution_count": 63,
   "id": "211849f3-fc7c-45a5-81e5-b27c48ecdaed",
   "metadata": {},
   "outputs": [
    {
     "data": {
      "image/png": "[encoded data removed]",
      "text/plain": [
       "<Figure size 1728x864 with 2 Axes>"
      ]
     },
     "metadata": {
      "needs_background": "light"
     },
     "output_type": "display_data"
    }
   ],
   "source": [
    "show_img(ds_test_2.variables['ice'][:].data[0])"
   ]
  },
  {
   "cell_type": "code",
   "execution_count": 47,
   "id": "b4f18aeb-a9d1-4503-a1d6-fbb2c4d835db",
   "metadata": {},
   "outputs": [],
   "source": [
    "ds_test_1.close()\n",
    "ds_test_2.close()"
   ]
  },
  {
   "cell_type": "code",
   "execution_count": null,
   "id": "8a97ef71-6530-4d85-809c-f31e169211ca",
   "metadata": {},
   "outputs": [],
   "source": []
  }
 ],
 "metadata": {
  "kernelspec": {
   "display_name": "Python 3 (ipykernel)",
   "language": "python",
   "name": "python3"
  },
  "language_info": {
   "codemirror_mode": {
    "name": "ipython",
    "version": 3
   },
   "file_extension": ".py",
   "mimetype": "text/x-python",
   "name": "python",
   "nbconvert_exporter": "python",
   "pygments_lexer": "ipython3",
   "version": "3.8.13"
  }
 },
 "nbformat": 4,
 "nbformat_minor": 5
}
