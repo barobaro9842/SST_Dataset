{
 "cells": [
  {
   "cell_type": "code",
   "execution_count": 1,
   "id": "8a7b40ee-8527-43f8-bb74-b4081b1b59bd",
   "metadata": {},
   "outputs": [],
   "source": [
    "from netCDF4 import Dataset\n",
    "from netCDFfunc.utility import get_data_sequence, get_data_A, get_data_by_date, save_img, show_img, masking\n",
    "\n",
    "import numpy as np\n",
    "import matplotlib.pyplot as plt\n",
    "\n",
    "from collections import Counter\n",
    "\n",
    "import math"
   ]
  },
  {
   "cell_type": "markdown",
   "id": "e688639f-0d80-4be8-b69e-7ad9bc1dce2f",
   "metadata": {},
   "source": [
    "# 1"
   ]
  },
  {
   "cell_type": "code",
   "execution_count": 21,
   "id": "41e8722f-3f48-428f-a133-a33304ddcb89",
   "metadata": {},
   "outputs": [],
   "source": [
    "base_dir = '/Volumes/T7/AVHRR_OI_SST/v2.1/'"
   ]
  },
  {
   "cell_type": "code",
   "execution_count": 66,
   "id": "7a060698-9deb-4432-9989-e2493213558f",
   "metadata": {},
   "outputs": [
    {
     "data": {
      "application/vnd.jupyter.widget-view+json": {
       "model_id": "3e0c2c8fca344156afdebc73ace3e0c2",
       "version_major": 2,
       "version_minor": 0
      },
      "text/plain": [
       "  0%|          | 0/1 [00:00<?, ?it/s]"
      ]
     },
     "metadata": {},
     "output_type": "display_data"
    }
   ],
   "source": [
    "dsin = get_data_by_date(base_dir=base_dir,\n",
    "                 get_data_func=get_data_A,\n",
    "                 var_name='sst',\n",
    "                 start_date=(2020,1,1),\n",
    "                 end_date=(2020,8,31),\n",
    "                 specific_date=(1,1))"
   ]
  },
  {
   "cell_type": "code",
   "execution_count": 67,
   "id": "7dc27aa9-aeb5-495e-844c-55b469077621",
   "metadata": {},
   "outputs": [],
   "source": [
    "sst = dsin[(1,1)][0]"
   ]
  },
  {
   "cell_type": "code",
   "execution_count": 68,
   "id": "7d4bb2bf-10d6-4290-9437-3646d79a7cf4",
   "metadata": {
    "tags": []
   },
   "outputs": [
    {
     "data": {
      "text/plain": [
       "[array([[-999.       , -999.       , -999.       , ..., -999.       ,\n",
       "         -999.       , -999.       ],\n",
       "        [-999.       , -999.       , -999.       , ..., -999.       ,\n",
       "         -999.       , -999.       ],\n",
       "        [-999.       , -999.       , -999.       , ..., -999.       ,\n",
       "         -999.       , -999.       ],\n",
       "        ...,\n",
       "        [  -1.7200012,   -1.7399902,   -1.75     , ...,   -1.75     ,\n",
       "           -1.75     ,   -1.730011 ],\n",
       "        [  -1.7399902,   -1.769989 ,   -1.7900085, ...,   -1.7900085,\n",
       "           -1.7799988,   -1.7399902],\n",
       "        [  -1.7999878,   -1.7999878,   -1.7999878, ...,   -1.7999878,\n",
       "           -1.7999878,   -1.7999878]], dtype=float32)]"
      ]
     },
     "execution_count": 68,
     "metadata": {},
     "output_type": "execute_result"
    }
   ],
   "source": [
    "dsin[(1,1)]"
   ]
  },
  {
   "cell_type": "code",
   "execution_count": 69,
   "id": "bdffe70a-4c80-4d64-a98c-a3ea8006872b",
   "metadata": {},
   "outputs": [],
   "source": [
    "ds_average = Dataset('/Volumes/T7/new_data/processed_data_example/nc/1_30_years_dataset_1_global.nc', 'r', format='NETCDF4')\n",
    "avg = ds_average.variables['avgsst'][:].data[0]"
   ]
  },
  {
   "cell_type": "code",
   "execution_count": 93,
   "id": "f939c79f-c20b-41db-a64e-e53c49d3cfd6",
   "metadata": {},
   "outputs": [],
   "source": [
    "ds_pctl = Dataset('/Volumes/T7/new_data/processed_data_example/nc/7_30_years_dataset_1_90_percentile.nc', 'r', format='NETCDF4')\n",
    "pctl = ds_pctl.variables['90pctlSST'][:].data[0]"
   ]
  },
  {
   "cell_type": "code",
   "execution_count": 94,
   "id": "624f0de3-f492-4d88-9833-c82c0e80bdb8",
   "metadata": {},
   "outputs": [],
   "source": [
    "ds_std = Dataset('/Volumes/T7/new_data/processed_data_example/nc/19_30_years_dataset_1_global_std.nc', 'r', format='NETCDF4')\n",
    "std = ds_std.variables['std'][:].data[0]"
   ]
  },
  {
   "cell_type": "code",
   "execution_count": 95,
   "id": "273dd2d8-5f66-4fef-aaae-2c6ad2eee2ea",
   "metadata": {},
   "outputs": [
    {
     "data": {
      "application/vnd.jupyter.widget-view+json": {
       "model_id": "d4b4fe50905a4c66ba6de92ea227aad2",
       "version_major": 2,
       "version_minor": 0
      },
      "text/plain": [
       "  0%|          | 0/1 [00:00<?, ?it/s]"
      ]
     },
     "metadata": {},
     "output_type": "display_data"
    }
   ],
   "source": [
    "ice = get_data_by_date(base_dir=base_dir,\n",
    "                 get_data_func=get_data_A,\n",
    "                 var_name='ice',\n",
    "                 start_date=(2020,1,1),\n",
    "                 end_date=(2020,8,31),\n",
    "                 specific_date=(1,1),\n",
    "                      is_mask=True)"
   ]
  },
  {
   "cell_type": "code",
   "execution_count": 96,
   "id": "c46a92db-152a-4079-970d-2cbdc509b03a",
   "metadata": {},
   "outputs": [],
   "source": [
    "ice = ice[(1,1)][0]"
   ]
  },
  {
   "cell_type": "code",
   "execution_count": 97,
   "id": "110bbe84-106d-493a-8c90-83130554e8ff",
   "metadata": {},
   "outputs": [],
   "source": [
    "nw = (280, 624, 392, 1136)\n",
    "rok = (440, 572, 440, 600)"
   ]
  },
  {
   "cell_type": "code",
   "execution_count": 98,
   "id": "5081b63b-679b-4bf5-b098-df19471c6330",
   "metadata": {},
   "outputs": [],
   "source": [
    "np.place(pctl, pctl[:,:] == -999, np.nan)"
   ]
  },
  {
   "cell_type": "code",
   "execution_count": 99,
   "id": "75baa9e1-48bc-4296-a757-d3021d03d718",
   "metadata": {},
   "outputs": [],
   "source": [
    "anomally = (sst - pctl)"
   ]
  },
  {
   "cell_type": "code",
   "execution_count": 100,
   "id": "ade45170-7698-4159-b52d-cf525861fcdb",
   "metadata": {},
   "outputs": [
    {
     "data": {
      "text/plain": [
       "array([[        nan,         nan,         nan, ...,         nan,\n",
       "                nan,         nan],\n",
       "       [        nan,         nan,         nan, ...,         nan,\n",
       "                nan,         nan],\n",
       "       [        nan,         nan,         nan, ...,         nan,\n",
       "                nan,         nan],\n",
       "       ...,\n",
       "       [-0.0610013 , -0.08099031, -0.09100008, ..., -0.09100008,\n",
       "        -0.09100008, -0.07101107],\n",
       "       [-0.07099032, -0.1009891 , -0.12100863, ..., -0.12100863,\n",
       "        -0.11099887, -0.07099032],\n",
       "       [-0.13098788, -0.13098788, -0.13098788, ..., -0.13098788,\n",
       "        -0.13098788, -0.13098788]], dtype=float32)"
      ]
     },
     "execution_count": 100,
     "metadata": {},
     "output_type": "execute_result"
    }
   ],
   "source": [
    "anomally"
   ]
  },
  {
   "cell_type": "code",
   "execution_count": 101,
   "id": "09d19f99-cd33-46a1-b015-1d58a8edaf72",
   "metadata": {},
   "outputs": [],
   "source": [
    "#np.place(anomally, anomally[:,:] == 0, np.nan)\n",
    "np.place(anomally, anomally[:,:] < 0, 0)"
   ]
  },
  {
   "cell_type": "code",
   "execution_count": 102,
   "id": "49d554b0-bbdb-4d78-bb12-299b283c6892",
   "metadata": {},
   "outputs": [],
   "source": [
    "def crop(arr, tup):\n",
    "    return arr[tup[0]:tup[1], tup[2]:tup[3]]"
   ]
  },
  {
   "cell_type": "code",
   "execution_count": 103,
   "id": "09674661-1e12-4928-8a5f-b4801fd3a730",
   "metadata": {},
   "outputs": [
    {
     "name": "stderr",
     "output_type": "stream",
     "text": [
      "/var/folders/3k/05vd5sp53wbgspztyxv0ksfm0000gn/T/ipykernel_31161/262369734.py:1: RuntimeWarning: divide by zero encountered in true_divide\n",
      "  grade = np.ceil(anomally/std)\n",
      "/var/folders/3k/05vd5sp53wbgspztyxv0ksfm0000gn/T/ipykernel_31161/262369734.py:1: RuntimeWarning: invalid value encountered in true_divide\n",
      "  grade = np.ceil(anomally/std)\n"
     ]
    }
   ],
   "source": [
    "grade = np.ceil(anomally/std)"
   ]
  },
  {
   "cell_type": "code",
   "execution_count": 106,
   "id": "97748042-a7e1-4a75-a3b1-ab638c2c94e5",
   "metadata": {},
   "outputs": [],
   "source": [
    "np.place(grade, grade[:,:] < 0, 0)\n",
    "np.place(grade, grade[:,:] > 5, 5)"
   ]
  },
  {
   "cell_type": "code",
   "execution_count": 107,
   "id": "e60951c6-5f86-4a07-9457-e17de49b717f",
   "metadata": {
    "tags": []
   },
   "outputs": [],
   "source": [
    "grade = masking(grade, np.invert(ice), fill_value=-1)"
   ]
  },
  {
   "cell_type": "code",
   "execution_count": 125,
   "id": "fe82b8f2-3388-4228-b1a4-9f1a7341526d",
   "metadata": {
    "tags": []
   },
   "outputs": [],
   "source": [
    "save_img(grade, '/Volumes/T7/intermediate_output/additional_img_1/global_grade_1', grade=True)"
   ]
  },
  {
   "cell_type": "markdown",
   "id": "21a91fee-a9d3-4ca3-bf9a-900345dce2d0",
   "metadata": {},
   "source": [
    "# 3"
   ]
  },
  {
   "cell_type": "code",
   "execution_count": 126,
   "id": "257a933c-928b-4c3e-ad25-8442d5d42e11",
   "metadata": {},
   "outputs": [],
   "source": [
    "ds_average_2 = Dataset('/Volumes/T7/new_data/processed_data_example/nc/2_30_years_dataset_2_global.nc', 'r', format='NETCDF4')\n",
    "avg_2 = ds_average_2.variables['avgsst'][:].data[0]"
   ]
  },
  {
   "cell_type": "code",
   "execution_count": 127,
   "id": "15df39bd-5421-4ff8-adda-8a3d4768277d",
   "metadata": {},
   "outputs": [],
   "source": [
    "ds_pctl_2 = Dataset('/Volumes/T7/new_data/processed_data_example/nc/8_30_years_dataset_2_90_percentile.nc', 'r', format='NETCDF4')\n",
    "pctl_2 = ds_pctl_2.variables['90pctlSST'][:].data[0]"
   ]
  },
  {
   "cell_type": "code",
   "execution_count": 128,
   "id": "87248140-9ccf-4bb3-95d7-7d31938f53a5",
   "metadata": {},
   "outputs": [],
   "source": [
    "ds_std_2 = Dataset('/Volumes/T7/new_data/processed_data_example/nc/20_30_years_dataset_2_global_std.nc', 'r', format='NETCDF4')\n",
    "std_2 = ds_std_2.variables['std'][:].data[0]"
   ]
  },
  {
   "cell_type": "code",
   "execution_count": 129,
   "id": "385b533a-9cf4-4675-a28e-63e6c505f5b7",
   "metadata": {},
   "outputs": [],
   "source": [
    "np.place(pctl_2, pctl_2[:,:] == -999, np.nan)"
   ]
  },
  {
   "cell_type": "code",
   "execution_count": 131,
   "id": "16955194-08c5-4ea1-bdc0-b1b5d10f205e",
   "metadata": {},
   "outputs": [],
   "source": [
    "anomally_2 = sst - pctl_2"
   ]
  },
  {
   "cell_type": "code",
   "execution_count": 133,
   "id": "4e09da69-38ef-476a-8fe2-e931783f5a14",
   "metadata": {},
   "outputs": [],
   "source": [
    "np.place(anomally_2, anomally_2[:,:] < 0, 0)"
   ]
  },
  {
   "cell_type": "code",
   "execution_count": 134,
   "id": "f0e76711-fd9b-4e2f-94d5-ee1783447cea",
   "metadata": {},
   "outputs": [
    {
     "name": "stderr",
     "output_type": "stream",
     "text": [
      "/var/folders/3k/05vd5sp53wbgspztyxv0ksfm0000gn/T/ipykernel_31161/1479481438.py:1: RuntimeWarning: invalid value encountered in true_divide\n",
      "  grade_2 = np.ceil(anomally_2 / std_2)\n"
     ]
    }
   ],
   "source": [
    "grade_2 = np.ceil(anomally_2 / std_2)"
   ]
  },
  {
   "cell_type": "code",
   "execution_count": 135,
   "id": "ec0df9f8-638f-4ee2-8e26-4d67d28ae671",
   "metadata": {},
   "outputs": [],
   "source": [
    "np.place(grade_2, grade_2[:,:] < 0, 0)\n",
    "np.place(grade_2, grade_2[:,:] > 5, 5)"
   ]
  },
  {
   "cell_type": "code",
   "execution_count": 136,
   "id": "9d721304-a87d-4427-b036-69d3e6e08d6a",
   "metadata": {},
   "outputs": [],
   "source": [
    "grade_2 = masking(grade_2, np.invert(ice), fill_value=-1)"
   ]
  },
  {
   "cell_type": "code",
   "execution_count": 151,
   "id": "5e4b7ae6-6d3d-4a5c-82b8-2fd0c54a14be",
   "metadata": {},
   "outputs": [],
   "source": [
    "save_img(anomally_2, '/Volumes/T7/intermediate_output/additional_img_3/global_anomally_2')"
   ]
  },
  {
   "cell_type": "code",
   "execution_count": 33,
   "id": "b40a1b10-6840-4d14-9ab2-9e2fa5ac9d0c",
   "metadata": {},
   "outputs": [
    {
     "data": {
      "image/png": "[encoded data removed]",
      "text/plain": [
       "<Figure size 1728x864 with 2 Axes>"
      ]
     },
     "metadata": {
      "needs_background": "light"
     },
     "output_type": "display_data"
    }
   ],
   "source": [
    "show_img(grade, grade=True)"
   ]
  },
  {
   "cell_type": "markdown",
   "id": "e43bb7ab-91cb-410f-9f1e-0be08a7d61f4",
   "metadata": {},
   "source": [
    "# 2"
   ]
  },
  {
   "cell_type": "code",
   "execution_count": 4,
   "id": "76458992-19cc-4dd8-96d7-bd5ae5b025c7",
   "metadata": {},
   "outputs": [],
   "source": [
    "base_dir = '/Volumes/T7/AVHRR_OI_SST/v2.1'"
   ]
  },
  {
   "cell_type": "code",
   "execution_count": 5,
   "id": "0abfce33-2f1e-4d24-856f-1680b7c5ef18",
   "metadata": {},
   "outputs": [
    {
     "data": {
      "application/vnd.jupyter.widget-view+json": {
       "model_id": "d08ef3ce5c684cd582a642beded7d287",
       "version_major": 2,
       "version_minor": 0
      },
      "text/plain": [
       "  0%|          | 0/30 [00:00<?, ?it/s]"
      ]
     },
     "metadata": {},
     "output_type": "display_data"
    }
   ],
   "source": [
    "base_data = get_data_by_date(base_dir=base_dir,\n",
    "                 get_data_func=get_data_A,\n",
    "                 var_name='sst',\n",
    "                 start_date=(1991,1,1),\n",
    "                 end_date=(2020,12,31))"
   ]
  },
  {
   "cell_type": "code",
   "execution_count": 33,
   "id": "cd5c1b2a-bff6-487a-9192-3f099f92afdf",
   "metadata": {},
   "outputs": [
    {
     "name": "stderr",
     "output_type": "stream",
     "text": [
      "/var/folders/3k/05vd5sp53wbgspztyxv0ksfm0000gn/T/ipykernel_31161/3177413799.py:9: RuntimeWarning: invalid value encountered in true_divide\n",
      "  grade = np.ceil(anomally / std)\n"
     ]
    }
   ],
   "source": [
    "for i in range(1,10):\n",
    "    data_12 = base_data[(1,i)]\n",
    "    sst = data_12[-1]\n",
    "    pctl = np.percentile(np.array(data_12), 90, axis=0)\n",
    "    std = np.std(np.array(data_12), axis=0)\n",
    "    np.place(pctl, pctl[:,:] == -999, np.nan)\n",
    "    anomally = sst - pctl\n",
    "    np.place(anomally, anomally[:,:] < 0, 0)\n",
    "    grade = np.ceil(anomally / std)\n",
    "    grade = masking(grade, np.invert(ice), fill_value=-1)\n",
    "    save_img(crop(anomally, rok), f'/Volumes/T7/intermediate_output/additional_img_2/anomally_010{i}')\n",
    "    save_img(crop(grade, rok), f'/Volumes/T7/intermediate_output/additional_img_2/grade_010{i}', grade=True)"
   ]
  },
  {
   "cell_type": "code",
   "execution_count": null,
   "id": "e3146e6a-2d14-40cb-8582-7f569d28fa86",
   "metadata": {},
   "outputs": [],
   "source": []
  }
 ],
 "metadata": {
  "kernelspec": {
   "display_name": "Python 3 (ipykernel)",
   "language": "python",
   "name": "python3"
  },
  "language_info": {
   "codemirror_mode": {
    "name": "ipython",
    "version": 3
   },
   "file_extension": ".py",
   "mimetype": "text/x-python",
   "name": "python",
   "nbconvert_exporter": "python",
   "pygments_lexer": "ipython3",
   "version": "3.8.13"
  }
 },
 "nbformat": 4,
 "nbformat_minor": 5
}
