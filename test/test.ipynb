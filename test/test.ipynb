{
 "cells": [
  {
   "cell_type": "code",
   "execution_count": 72,
   "id": "01d58136-be13-4b8d-bb3f-0b14ace6f819",
   "metadata": {},
   "outputs": [],
   "source": [
    "from netCDF4 import Dataset\n",
    "import numpy as np\n",
    "from netCDFfunc.utility import to_img"
   ]
  },
  {
   "cell_type": "code",
   "execution_count": 78,
   "id": "27dec76c-dc81-424b-b716-478329ae475e",
   "metadata": {},
   "outputs": [],
   "source": [
    "d = Dataset('/Volumes/T7/output/AVHRR_OI_SST/nc/anomaly/2022/20221002120000-NCEI-L4_GHRSST-SSTblend-AVHRR_OI-GLOB-v02.0-fv02.1._rok_anomaly.nc')"
   ]
  },
  {
   "cell_type": "code",
   "execution_count": 79,
   "id": "a99c1e38-bf7b-43fc-8f35-0588974732dd",
   "metadata": {},
   "outputs": [
    {
     "data": {
      "text/plain": [
       "<class 'netCDF4._netCDF4.Dataset'>\n",
       "root group (NETCDF4 data model, file format HDF5):\n",
       "    Observation Date: 2022.10.02\n",
       "    Source Data Organization: National Centers for Environmental Information\n",
       "    Source Data Name: AVHRR_OI_SST\n",
       "    Data Interval(deg): 0.250\n",
       "    30years SST Average Data Organization: National Centers for Environmental Information\n",
       "    30years SST Average Data Name: AVHRR_OI_SST\n",
       "    30years SST Average Start Date: 1991.01.01\n",
       "    30years SST Average End date: 2020.12.31\n",
       "    Observation Area: ROK\n",
       "    dimensions(sizes): nlat(132), nlon(160)\n",
       "    variables(dimensions): float32 LA(nlat), float32 LO(nlon), float32 YY30_AVG_SST_ANOMALY(nlat, nlon), float32 YY30_AVG_SST(nlat, nlon)\n",
       "    groups: "
      ]
     },
     "execution_count": 79,
     "metadata": {},
     "output_type": "execute_result"
    }
   ],
   "source": [
    "d"
   ]
  },
  {
   "cell_type": "code",
   "execution_count": null,
   "id": "22ae53a2-f689-4158-b276-46bb8fbc7449",
   "metadata": {},
   "outputs": [],
   "source": []
  }
 ],
 "metadata": {
  "kernelspec": {
   "display_name": "Python 3 (ipykernel)",
   "language": "python",
   "name": "python3"
  },
  "language_info": {
   "codemirror_mode": {
    "name": "ipython",
    "version": 3
   },
   "file_extension": ".py",
   "mimetype": "text/x-python",
   "name": "python",
   "nbconvert_exporter": "python",
   "pygments_lexer": "ipython3",
   "version": "3.8.13"
  }
 },
 "nbformat": 4,
 "nbformat_minor": 5
}
