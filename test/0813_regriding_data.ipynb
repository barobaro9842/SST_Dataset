{
 "cells": [
  {
   "cell_type": "code",
   "execution_count": 1,
   "id": "e8aa5233-0a6a-4188-8bb8-90009fcab505",
   "metadata": {
    "tags": []
   },
   "outputs": [],
   "source": [
    "import datetime\n",
    "\n",
    "import shutil\n",
    "import requests\n",
    "\n",
    "import time\n",
    "import os\n",
    "from netCDF4 import Dataset\n",
    "\n",
    "import numpy as np\n",
    "import matplotlib.pyplot as plt\n",
    "import matplotlib.cm as cm\n",
    "from matplotlib.colors import ListedColormap\n",
    "from mpl_toolkits.axes_grid1 import make_axes_locatable\n",
    "\n",
    "from netCDFfunc.utility import to_img, cropping"
   ]
  },
  {
   "cell_type": "code",
   "execution_count": 2,
   "id": "0b0bbbbf-f1b5-4e92-a454-af6c0f45bfcf",
   "metadata": {},
   "outputs": [],
   "source": [
    "most_recent = datetime.datetime.now()-datetime.timedelta(days=175)"
   ]
  },
  {
   "cell_type": "code",
   "execution_count": 3,
   "id": "54ae17b2-6bec-4303-bc84-898243c142f1",
   "metadata": {},
   "outputs": [
    {
     "data": {
      "text/plain": [
       "datetime.datetime(2022, 2, 28, 12, 42, 58, 900403)"
      ]
     },
     "execution_count": 3,
     "metadata": {},
     "output_type": "execute_result"
    }
   ],
   "source": [
    "most_recent"
   ]
  },
  {
   "cell_type": "code",
   "execution_count": 4,
   "id": "babebd23-cf54-4d76-9137-2211e4964a16",
   "metadata": {},
   "outputs": [],
   "source": [
    "j_day = most_recent.strftime('%j')\n",
    "j_day = int(j_day)"
   ]
  },
  {
   "cell_type": "code",
   "execution_count": 5,
   "id": "4a13c587-417b-4b51-9b6d-c30d8f48f8f9",
   "metadata": {},
   "outputs": [],
   "source": [
    "def to_img(arr, output_path='', date=(), lon=None, lat=None, figsize=(), save_img=False, show_img=False, is_anomaly = False, is_grade=False):\n",
    "    \n",
    "    plt.style.use('default')\n",
    "    \n",
    "    if date != () : \n",
    "        month, day = date   \n",
    "        date = dt.date(-1,month,day).strftime('%m%d')\n",
    "    else :\n",
    "        date = ''\n",
    "    \n",
    "    if figsize == ():\n",
    "        x, y = arr.shape\n",
    "    else :\n",
    "        x,y = figsize\n",
    "        \n",
    "    x = x/60\n",
    "    y = y/60\n",
    "    \n",
    "    fig, ax = plt.subplots(figsize=(24,12))\n",
    "    gca_ax = plt.gca()\n",
    "    \n",
    "    if arr.dtype == np.float32:\n",
    "        np.place(arr, arr[:,:]==-999, np.nan)\n",
    "    \n",
    "    cmap = cm.jet.copy()\n",
    "\n",
    "    if is_anomaly == True :\n",
    "        cmap = cm.RdBu_r.copy()\n",
    "        vmax = 8.5\n",
    "        vmin = -7.3\n",
    "        \n",
    "    elif is_grade == True :\n",
    "        vmax = 5\n",
    "        vmin = 0\n",
    "        \n",
    "        grade_0 = np.array([179/256, 241/256, 255/256, 1])\n",
    "        grade_1 = np.array([255/256, 255/256, 128/256, 1])\n",
    "        grade_2 = np.array([255/256, 179/256, 53/256, 1])\n",
    "        grade_3 = np.array([255/256, 129/256, 0/256, 1])\n",
    "        grade_4 = np.array([203/256, 76/256, 1/256, 1])\n",
    "        grade_5 = np.array([153/256, 26/256, 0/256, 1])\n",
    "        new_cmap = np.array([grade_0, grade_1, grade_2, grade_3, grade_4, grade_5])\n",
    "\n",
    "        if 5 not in arr :\n",
    "            new_cmap = new_cmap[:-1]\n",
    "            if 4 not in arr :\n",
    "                new_cmap = new_cmap[:-1]\n",
    "                if 3 not in arr :\n",
    "                    new_cmap = new_cmap[:-1]\n",
    "                    if 2 not in arr :\n",
    "                        new_cmap = new_cmap[:-1]\n",
    "                        if 1 not in arr :\n",
    "                            new_cmap = new_cmap[:-1]\n",
    "            \n",
    "        cmap = ListedColormap(new_cmap)\n",
    "        \n",
    "    cmap.set_bad(color='gray')\n",
    "    cmap.set_under(color=np.array([250/256, 250/256, 250/256, 1]))\n",
    "    \n",
    "    if type(lat) != np.ndarray or type(lon) != np.ndarray :\n",
    "        if is_anomaly == True : im = plt.imshow(arr, cmap=cmap, origin='lower', vmin=vmin, vmax=vmax)\n",
    "        elif is_grade == True : im = plt.imshow(arr, cmap=cmap, origin='lower', vmin=vmin)\n",
    "        else : im = plt.imshow(arr, cmap=cmap, origin='lower')\n",
    "    else :\n",
    "        im = plt.imshow(arr, cmap=cmap, origin='lower', extent=[lon.min(), lon.max(), lat.min(), lat.max()], vmin=vmin, vmax=vmax) \n",
    "    \n",
    "        plt.xticks(range(0,361, 20))\n",
    "        plt.yticks(range(-80,81,20))\n",
    "        plt.grid(True, linestyle='--', color='black')\n",
    "        \n",
    "        x_labels = ['20°E','40°E','60°E','80°E','100°E','120°E','140°E','160°E','180°','160°W','140°W','120°W','100°W','80°W','60°W','40°W','20°W','0','20°E']\n",
    "        y_labels = ['80°S','60°S','40°S','20°S','0°','20°N','40°N','60°N','80°N']\n",
    "        ax.set_xticklabels(x_labels)\n",
    "        ax.set_yticklabels(y_labels)\n",
    "    \n",
    "    divider = make_axes_locatable(gca_ax)\n",
    "    cax = divider.append_axes(\"right\", size=\"3%\", pad=0.1)\n",
    "    if is_grade != True : \n",
    "        plt.colorbar(im, cax=cax)\n",
    "    \n",
    "    plt.text(-30,0.9,f'{date}',{'fontsize':30}, transform=plt.gca().transAxes, va='top', ha='left')\n",
    "    \n",
    "    if save_img == True :\n",
    "        plt.savefig(output_path, dpi=150, bbox_inches='tight')\n",
    "\n",
    "    if show_img == True :\n",
    "        plt.show()\n",
    "    plt.close()\n"
   ]
  },
  {
   "cell_type": "code",
   "execution_count": 380,
   "id": "37eb82d6-560b-4131-b496-f0e337a57c3b",
   "metadata": {},
   "outputs": [],
   "source": [
    "def download_data(output_path, sepcific_date=None, start_date=None, end_date=None, dataset_names=None):\n",
    "    ''' \n",
    "    start_date and end_date = Tuple (Year, Month, Day)\n",
    "    \n",
    "     1) start_date and end_date == None : most_recent\n",
    "     2) start_date != None and end_date == None : start_date ~ most_recent\n",
    "     3) start_date != None and end_date != None : start_date ~ end_date\n",
    "\n",
    "    dataset_names = list of (AVHRR, CMC, DMI, GAMSSA, MUR25, MUR0.01, MWIR, MW, NAVO, OSPON, OSPO, OSTIA)\n",
    "    '''\n",
    "    most_recent = datetime.datetime.now()-datetime.timedelta(days=175)\n",
    "\n",
    "    if start_date == None and end_date == None :    \n",
    "        year = most_recent.strftime('%Y')\n",
    "        date = most_recent.strftime('%Y%m%d')\n",
    "        \n",
    "        j_day = most_recent.strftime('%j')\n",
    "        j_day = '%03d' % int(j_day)\n",
    "        \n",
    "    \n",
    "    if dataset_names == None :\n",
    "        dataset_names = ['AVHRR', 'CMC', 'DMI', 'GAMSSA', 'MUR25', 'MUR', 'MWIR', 'MW', 'NAVO', 'OSPON', 'OSPO', 'OSTIA']\n",
    "    \n",
    "    \n",
    "    common_url = 'https://podaac-opendap.jpl.nasa.gov/opendap/hyrax/allData/ghrsst/data'\n",
    "\n",
    "    for dataset_name in dataset_names :\n",
    "        \n",
    "        if dataset_name == 'AVHRR':\n",
    "            file_name = f'{date}120000-NCEI-L4_GHRSST-SSTblend-AVHRR_OI-GLOB-v02.0-fv02.1.nc'\n",
    "            url = f'{common_url}/GDS2/L4/GLOB/NCEI/AVHRR_OI/v2.1/{year}/{j_day}/{file_name}'\n",
    "        \n",
    "        elif dataset_name == 'CMC' :\n",
    "            file_name = f'{date}120000-CMC-L4_GHRSST-SSTfnd-CMC0.1deg-GLOB-v02.0-fv03.0.nc'\n",
    "            url = f'{common_url}/GDS2/L4/GLOB/CMC/CMC0.1deg/v3/{year}/{j_day}/{file_name}'\n",
    "            \n",
    "        elif dataset_name == 'DMI' :\n",
    "            file_name = f'{date}000000-DMI-L4_GHRSST-SSTfnd-DMI_OI-GLOB-v02.0-fv01.0.nc'\n",
    "            url = f'{common_url}/GDS2/L4/GLOB/DMI/DMI_OI/v1/{year}/{j_day}/{file_name}'\n",
    "            \n",
    "        elif dataset_name == 'GAMSSA' :\n",
    "            file_name = f'{date}120000-ABOM-L4_GHRSST-SSTfnd-GAMSSA_28km-GLOB-v02.0-fv01.0.nc'\n",
    "            url = f'{common_url}/GDS2/L4/GLOB/ABOM/GAMSSA/v1.0/{year}/{j_day}/{file_name}'\n",
    "            \n",
    "        elif dataset_name == 'MUR25' :\n",
    "            file_name = f'{date}090000-JPL-L4_GHRSST-SSTfnd-MUR25-GLOB-v02.0-fv04.2.nc'\n",
    "            url = f'{common_url}/GDS2/L4/GLOB/JPL/MUR25/v4.2/{year}/{j_day}/{file_name}'\n",
    "            \n",
    "        elif dataset_name == 'MUR' :\n",
    "            file_name = f'{date}090000-JPL-L4_GHRSST-SSTfnd-MUR-GLOB-v02.0-fv04.1.nc'\n",
    "            url = f'{common_url}/GDS2/L4/GLOB/JPL/MUR/v4.1/{year}/{j_day}/{file_name}'\n",
    "            \n",
    "        elif dataset_name == 'MWIR' :\n",
    "            file_name = f'{date}120000-REMSS-L4_GHRSST-SSTfnd-MW_IR_OI-GLOB-v02.0-fv05.0.nc'\n",
    "            url = f'{common_url}/GDS2/L4/GLOB/REMSS/mw_ir_OI/v5.0/{year}/{j_day}/{file_name}'\n",
    "            \n",
    "        elif dataset_name == 'MW' :\n",
    "            file_name = f'{date}120000-REMSS-L4_GHRSST-SSTfnd-MW_OI-GLOB-v02.0-fv05.0.nc'\n",
    "            url = f'{common_url}/GDS2/L4/GLOB/REMSS/mw_OI/v5.0/{year}/{j_day}/{file_name}'\n",
    "            \n",
    "        elif dataset_name == 'NAVO' :\n",
    "            file_name = f'{date}000000-NAVO-L4_GHRSST-SST1m-K10_SST-GLOB-v02.0-fv01.0.nc'\n",
    "            url = f'{common_url}/GDS2/L4/GLOB/NAVO/K10_SST/v1/{year}/{j_day}/{file_name}'\n",
    "            \n",
    "        elif dataset_name == 'OSPON' :\n",
    "            file_name = f'{date}000000-OSPO-L4_GHRSST-SSTfnd-Geo_Polar_Blended_Night-GLOB-v02.0-fv01.0.nc'\n",
    "            url = f'{common_url}/GDS2/L4/GLOB/OSPO/Geo_Polar_Blended_Night/v1/{year}/{j_day}/{file_name}'\n",
    "            \n",
    "        elif dataset_name == 'OSPO' :\n",
    "            file_name = f'{date}000000-OSPO-L4_GHRSST-SSTfnd-Geo_Polar_Blended-GLOB-v02.0-fv01.0.nc'\n",
    "            url = f'{common_url}/GDS2/L4/GLOB/OSPO/Geo_Polar_Blended/v1/{year}/{j_day}/{file_name}'\n",
    "            \n",
    "        elif dataset_name == 'OSTIA' :\n",
    "            file_name = f'{date}-UKMO-L4HRfnd-GLOB-v01-fv02-OSTIA.nc.bz2'\n",
    "            url = f'{common_url}/L4/GLOB/UKMO/OSTIA/{year}/{j_day}/{file_name}'\n",
    "    \n",
    "        response = requests.get(url, stream=True)\n",
    "        \n",
    "        if file_name.endswith('.bz2') : file_name = file_name.replace('.bz2', '')\n",
    "        if not os.path.exists(os.path.join(output_path, dataset_name)) : os.mkdir(os.path.join(output_path, dataset_name))\n",
    "            \n",
    "        with open(os.path.join(output_path, dataset_name, file_name), 'wb') as out_file:\n",
    "            print(f'{dataset_name} downloading...')\n",
    "            shutil.copyfileobj(response.raw, out_file)\n",
    "            \n",
    "        del response"
   ]
  },
  {
   "cell_type": "code",
   "execution_count": 6,
   "id": "0cf30c2c-431e-4ab8-a474-d779c97847ec",
   "metadata": {},
   "outputs": [
    {
     "name": "stdout",
     "output_type": "stream",
     "text": [
      "AVHRR downloading...\n",
      "CMC downloading...\n",
      "DMI downloading...\n",
      "GAMSSA downloading...\n",
      "MUR25 downloading...\n",
      "MUR downloading...\n",
      "MWIR downloading...\n",
      "MW downloading...\n",
      "NAVO downloading...\n",
      "OSPON downloading...\n",
      "OSPO downloading...\n",
      "OSTIA downloading...\n"
     ]
    }
   ],
   "source": [
    "download_data('/Volumes/T7/download_data/')"
   ]
  },
  {
   "cell_type": "code",
   "execution_count": 6,
   "id": "11d901fd-3c9d-465a-9a4c-1ce7b5d37627",
   "metadata": {},
   "outputs": [],
   "source": [
    "def cropping(arr, region, grid_size):\n",
    "    ratio = 0.25 / grid_size\n",
    "    \n",
    "    if region == 'rok':\n",
    "        return arr[int(440 * ratio):int(572 * ratio), int(1160 * ratio):int(1320 * ratio)]\n",
    "    if region == 'nw':\n",
    "        return arr[280:624, 392:1136]\n",
    "    if region == 'global':\n",
    "        return arr"
   ]
  },
  {
   "cell_type": "code",
   "execution_count": 7,
   "id": "1eafa93c-30c3-4552-9937-025bfa777058",
   "metadata": {},
   "outputs": [],
   "source": [
    "data_dir = f'/Volumes/T7/download_data/MWIR/'\n",
    "data_file = os.listdir(data_dir)[0]\n",
    "ds_in = Dataset(os.path.join(data_dir,data_file), 'r', format='NETCDF4')"
   ]
  },
  {
   "cell_type": "code",
   "execution_count": 8,
   "id": "de3ca5f3-ffbb-44e6-9294-b442d5370ea3",
   "metadata": {},
   "outputs": [],
   "source": [
    "dataset_names = ['AVHRR', 'CMC', 'DMI', 'GAMSSA', 'MUR25', 'MUR', 'MWIR', 'MW', 'NAVO', 'OSPON', 'OSPO', 'OSTIA']\n",
    "data_dic = dict()\n",
    "grid_dic = dict()\n",
    "lat_dic = dict()\n",
    "lon_dic = dict()\n",
    "\n",
    "for dataset_name in dataset_names:\n",
    "    \n",
    "    data_dir = f'/Volumes/T7/download_data/{dataset_name}/'\n",
    "    data_file = os.listdir(data_dir)[0]\n",
    "    ds_in = Dataset(os.path.join(data_dir,data_file), 'r', format='NETCDF4')\n",
    "    sst = ds_in.variables['analysed_sst'][:].data[0]\n",
    "    try :\n",
    "        grid = ds_in.geospatial_lat_resolution\n",
    "    except :\n",
    "        grid = 0.05\n",
    "    lat = ds_in.variables['lat'][:].data\n",
    "    lon = ds_in.variables['lon'][:].data\n",
    "    \n",
    "    data_dic[dataset_name] = sst\n",
    "    grid_dic[dataset_name] = grid\n",
    "    lat_dic[dataset_name] = lat\n",
    "    lon_dic[dataset_name] = lon\n",
    "    \n",
    "    ds_in.close()"
   ]
  },
  {
   "cell_type": "code",
   "execution_count": 6,
   "id": "c5725ab9-d952-4cde-bf47-535764dd5dbb",
   "metadata": {},
   "outputs": [],
   "source": [
    "ds_mean = dict()\n",
    "ds_mean['0.01'] = Dataset('/Volumes/T7/intermediate_output/resize_test/Resize_test_0220_0.01.nc', 'r', format='NETCDF4').variables['avgsst'][:].data[0]\n",
    "ds_mean['0.05'] = Dataset('/Volumes/T7/intermediate_output/resize_test/Resize_test_0220_0.05.nc', 'r', format='NETCDF4').variables['avgsst'][:].data[0]\n",
    "ds_mean['0.054'] = Dataset('/Volumes/T7/intermediate_output/resize_test/Resize_test_0220_0.054.nc', 'r', format='NETCDF4').variables['avgsst'][:].data[0]\n",
    "ds_mean['0.081'] = Dataset('/Volumes/T7/intermediate_output/resize_test/Resize_test_0220_0.081.nc', 'r', format='NETCDF4').variables['avgsst'][:].data[0]\n",
    "ds_mean['0.1'] = Dataset('/Volumes/T7/intermediate_output/resize_test/Resize_test_0220_0.1.nc', 'r', format='NETCDF4').variables['avgsst'][:].data[0]\n",
    "ds_mean['0.25'] = Dataset('/Volumes/T7/new_data/processed_data/processed_data_1_rok_avg/30_years_dataset_1_rok_0220.nc', 'r', format='NETCDF4').variables['avgsst'][:].data[0]"
   ]
  },
  {
   "cell_type": "code",
   "execution_count": 12,
   "id": "3979eb54-19b0-4265-81d5-f79b121695c2",
   "metadata": {
    "tags": []
   },
   "outputs": [
    {
     "name": "stdout",
     "output_type": "stream",
     "text": [
      "0.05\n",
      "[-89.      -88.95    -88.9     ...  88.90001  88.95     89.     ]\n",
      "[-179.975   -179.925   -179.875   ...  179.875    179.92499  179.975  ]\n"
     ]
    }
   ],
   "source": [
    "name = 'DMI' #()\n",
    "print(grid_dic[name])\n",
    "print(lat_dic[name])\n",
    "print(lon_dic[name])"
   ]
  },
  {
   "cell_type": "code",
   "execution_count": 238,
   "id": "c6203de4-cc19-4ace-a94c-3d3442e431bf",
   "metadata": {},
   "outputs": [
    {
     "data": {
      "text/plain": [
       "-999.0"
      ]
     },
     "execution_count": 238,
     "metadata": {},
     "output_type": "execute_result"
    }
   ],
   "source": [
    "np.min(ds_mean[str(grid_dic[ds])])"
   ]
  },
  {
   "cell_type": "code",
   "execution_count": 245,
   "id": "778c37aa-a414-4898-8b81-180b41b18a89",
   "metadata": {},
   "outputs": [
    {
     "data": {
      "text/plain": [
       "17.5"
      ]
     },
     "execution_count": 245,
     "metadata": {},
     "output_type": "execute_result"
    }
   ],
   "source": [
    "0.875 / 0.05"
   ]
  },
  {
   "cell_type": "code",
   "execution_count": 382,
   "id": "e0bbe22a-6cb8-4ae7-ab02-eb249a373195",
   "metadata": {
    "tags": []
   },
   "outputs": [],
   "source": [
    "ds = 'MW'\n",
    "\n",
    "for ds in dataset_names :\n",
    "    data = data_dic[ds].copy()\n",
    "    if ds == 'MWIR':\n",
    "        continue\n",
    "    if ds == 'NAVO':\n",
    "        data = np.flip(data, axis=0)\n",
    "#         data = np.roll(data, -2, axis=1)\n",
    "#         data = np.roll(data, -2, axis=0)\n",
    "    if ds == 'DMI':\n",
    "        data = np.roll(data, 18, axis=0)\n",
    "    np.place(data, data[:,:] <= -32767., np.nan)\n",
    "\n",
    "    grid_size = float(grid_dic[ds])\n",
    "    anomaly = ds_mean[str(grid_dic[ds])] - cropping(data - 273.15, 'rok', grid_size=grid_size)\n",
    "    np.place(anomaly, anomaly[:,:] < -100, np.nan)\n",
    "\n",
    "    to_img(anomaly, f'/Volumes/T7/intermediate_output/regrid_anomaly/{ds}({grid_size:.2f}).png', save_img=True, show_img=False, is_anomaly=True)"
   ]
  },
  {
   "cell_type": "code",
   "execution_count": 356,
   "id": "7aea5cc8-8c62-49b9-a6ce-a5c07af36ce3",
   "metadata": {},
   "outputs": [
    {
     "name": "stdout",
     "output_type": "stream",
     "text": [
      "\n",
      "OSTIA\n",
      "0.05\n",
      "min : -6.643327236175537\n",
      "max : 8.214680671691895\n",
      "mean : -0.2002459019422531\n",
      "median : -0.15065574645996094\n",
      "    \n"
     ]
    }
   ],
   "source": [
    "print(\n",
    "    f'''\n",
    "{ds}\n",
    "{grid_dic[ds]}\n",
    "min : {np.nanmin(anomaly)}\n",
    "max : {np.nanmax(anomaly)}\n",
    "mean : {np.nanmean(anomaly)}\n",
    "median : {np.nanmedian(anomaly)}\n",
    "    '''\n",
    ")"
   ]
  },
  {
   "cell_type": "code",
   "execution_count": 358,
   "id": "48604d7a-c57d-4866-ae55-09418e3723f3",
   "metadata": {},
   "outputs": [
    {
     "data": {
      "image/png": "[encoded data removed]",
      "text/plain": [
       "<Figure size 640x480 with 1 Axes>"
      ]
     },
     "metadata": {},
     "output_type": "display_data"
    }
   ],
   "source": [
    "plt.hist(anomaly.flatten(), bins=100)\n",
    "plt.show()"
   ]
  },
  {
   "cell_type": "code",
   "execution_count": null,
   "id": "32692a56-aeec-49ed-ba97-13aff04e1fe3",
   "metadata": {},
   "outputs": [],
   "source": []
  }
 ],
 "metadata": {
  "kernelspec": {
   "display_name": "Python 3 (ipykernel)",
   "language": "python",
   "name": "python3"
  },
  "language_info": {
   "codemirror_mode": {
    "name": "ipython",
    "version": 3
   },
   "file_extension": ".py",
   "mimetype": "text/x-python",
   "name": "python",
   "nbconvert_exporter": "python",
   "pygments_lexer": "ipython3",
   "version": "3.8.13"
  }
 },
 "nbformat": 4,
 "nbformat_minor": 5
}
