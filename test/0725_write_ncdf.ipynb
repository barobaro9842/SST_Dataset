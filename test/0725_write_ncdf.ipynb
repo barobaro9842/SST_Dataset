{
 "cells": [
  {
   "cell_type": "code",
   "execution_count": 1,
   "id": "730f4cff-88e4-46c1-b28c-311b647de305",
   "metadata": {},
   "outputs": [],
   "source": [
    "from netCDF4 import Dataset\n",
    "import numpy as np"
   ]
  },
  {
   "cell_type": "code",
   "execution_count": 39,
   "id": "f3e294ff-811b-4e2b-99ad-0205a6f0071f",
   "metadata": {},
   "outputs": [],
   "source": [
    "dsin = Dataset(f'/Volumes/T7/AVHRR_OI_SST/v2.1/1981/oisst-avhrr-v02r01.19810901.nc', 'r', format='NETCDF4')"
   ]
  },
  {
   "cell_type": "code",
   "execution_count": 42,
   "id": "61bd1825-a0b7-4216-882a-26d19943f8b9",
   "metadata": {},
   "outputs": [],
   "source": [
    "dsout = Dataset(f'/Volumes/T7/new_data/test.ncdf', 'w', format='NETCDF4')"
   ]
  },
  {
   "cell_type": "code",
   "execution_count": 59,
   "id": "b866bc3e-f06b-4509-8b50-09969b4e6fb4",
   "metadata": {},
   "outputs": [
    {
     "data": {
      "text/plain": [
       "'NOAA/NCEI 1/4 Degree Daily Optimum Interpolation Sea Surface Temperature (OISST) Analysis, Version 2.1 - Final'"
      ]
     },
     "execution_count": 59,
     "metadata": {},
     "output_type": "execute_result"
    }
   ],
   "source": [
    "dsin.getncattr('title')"
   ]
  },
  {
   "cell_type": "code",
   "execution_count": 68,
   "id": "48ae461f-f852-42fd-8c8c-9811ce9a999b",
   "metadata": {},
   "outputs": [
    {
     "data": {
      "text/plain": [
       "{'time': <class 'netCDF4._netCDF4.Dimension'> (unlimited): name = 'time', size = 1,\n",
       " 'zlev': <class 'netCDF4._netCDF4.Dimension'>: name = 'zlev', size = 1,\n",
       " 'lat': <class 'netCDF4._netCDF4.Dimension'>: name = 'lat', size = 720,\n",
       " 'lon': <class 'netCDF4._netCDF4.Dimension'>: name = 'lon', size = 1440}"
      ]
     },
     "execution_count": 68,
     "metadata": {},
     "output_type": "execute_result"
    }
   ],
   "source": [
    "dsin.dimensions"
   ]
  },
  {
   "cell_type": "code",
   "execution_count": 102,
   "id": "be13a526-3e63-4900-a29a-e6a50f2e43be",
   "metadata": {},
   "outputs": [
    {
     "data": {
      "text/plain": [
       "{'anom': <class 'netCDF4._netCDF4.Variable'>\n",
       " int16 anom(time, zlev, lat, lon)\n",
       "     long_name: Daily sea surface temperature anomalies\n",
       "     _FillValue: []\n",
       " unlimited dimensions: \n",
       " current shape = (1, 1, 720, 1440)\n",
       " filling on}"
      ]
     },
     "execution_count": 102,
     "metadata": {},
     "output_type": "execute_result"
    }
   ],
   "source": []
  },
  {
   "cell_type": "code",
   "execution_count": 65,
   "id": "6518bc87-4655-4000-9bc5-7f5cedb40ef6",
   "metadata": {},
   "outputs": [],
   "source": [
    "# set attribute\n",
    "for attr in dsin.ncattrs() :\n",
    "    dsout.setncattr(attr, dsin.getncattr(attr))"
   ]
  },
  {
   "cell_type": "code",
   "execution_count": null,
   "id": "0515c9fc-64d5-48b2-953c-6cf40d01ca70",
   "metadata": {},
   "outputs": [],
   "source": [
    "# set dimension\n",
    "for k, v in dsin.dimensions.items():\n",
    "    dsout.createDimension(k, v.size)"
   ]
  },
  {
   "cell_type": "code",
   "execution_count": 103,
   "id": "7ad54af2-b950-45e4-933a-bfb595c9f042",
   "metadata": {},
   "outputs": [],
   "source": [
    "for name, variable in dsin.variables.items():\n",
    "    if name == 'anom' : continue\n",
    "    x = dsout.createVariable(name, variable.datatype, variable.dimensions)\n",
    "    dsout[name][:] = dsin[name][:]\n",
    "    # copy variable attributes all at once via dictionary\n",
    "#     dsout[name].setncatts(dsin[name].__dict__)"
   ]
  },
  {
   "cell_type": "code",
   "execution_count": 105,
   "id": "f503e811-d18e-4c49-87ed-0fbc3e7325c3",
   "metadata": {},
   "outputs": [
    {
     "data": {
      "text/plain": [
       "{'anom': <class 'netCDF4._netCDF4.Variable'>\n",
       " int16 anom(time, zlev, lat, lon)\n",
       "     long_name: Daily sea surface temperature anomalies\n",
       "     _FillValue: []\n",
       " unlimited dimensions: \n",
       " current shape = (1, 1, 720, 1440)\n",
       " filling on,\n",
       " 'err': <class 'netCDF4._netCDF4.Variable'>\n",
       " int16 err(time, zlev, lat, lon)\n",
       " unlimited dimensions: \n",
       " current shape = (1, 1, 720, 1440)\n",
       " filling on, default _FillValue of -32767 used,\n",
       " 'ice': <class 'netCDF4._netCDF4.Variable'>\n",
       " int16 ice(time, zlev, lat, lon)\n",
       " unlimited dimensions: \n",
       " current shape = (1, 1, 720, 1440)\n",
       " filling on, default _FillValue of -32767 used,\n",
       " 'lat': <class 'netCDF4._netCDF4.Variable'>\n",
       " float32 lat(lat)\n",
       " unlimited dimensions: \n",
       " current shape = (720,)\n",
       " filling on, default _FillValue of 9.969209968386869e+36 used,\n",
       " 'lon': <class 'netCDF4._netCDF4.Variable'>\n",
       " float32 lon(lon)\n",
       " unlimited dimensions: \n",
       " current shape = (1440,)\n",
       " filling on, default _FillValue of 9.969209968386869e+36 used,\n",
       " 'sst': <class 'netCDF4._netCDF4.Variable'>\n",
       " int16 sst(time, zlev, lat, lon)\n",
       " unlimited dimensions: \n",
       " current shape = (1, 1, 720, 1440)\n",
       " filling on, default _FillValue of -32767 used,\n",
       " 'time': <class 'netCDF4._netCDF4.Variable'>\n",
       " float32 time(time)\n",
       " unlimited dimensions: \n",
       " current shape = (1,)\n",
       " filling on, default _FillValue of 9.969209968386869e+36 used,\n",
       " 'zlev': <class 'netCDF4._netCDF4.Variable'>\n",
       " float32 zlev(zlev)\n",
       " unlimited dimensions: \n",
       " current shape = (1,)\n",
       " filling on, default _FillValue of 9.969209968386869e+36 used}"
      ]
     },
     "execution_count": 105,
     "metadata": {},
     "output_type": "execute_result"
    }
   ],
   "source": [
    "dsin."
   ]
  },
  {
   "cell_type": "code",
   "execution_count": 94,
   "id": "cc2a00d7-4b19-41e4-ae0e-c597f01c5e6a",
   "metadata": {},
   "outputs": [
    {
     "data": {
      "text/plain": [
       "'anom'"
      ]
     },
     "execution_count": 94,
     "metadata": {},
     "output_type": "execute_result"
    }
   ],
   "source": [
    "name"
   ]
  },
  {
   "cell_type": "code",
   "execution_count": 97,
   "id": "ef370c8c-f514-4c53-bb8a-574e1bc66998",
   "metadata": {},
   "outputs": [
    {
     "data": {
      "text/plain": [
       "(dtype('int16'), ('time', 'zlev', 'lat', 'lon'))"
      ]
     },
     "execution_count": 97,
     "metadata": {},
     "output_type": "execute_result"
    }
   ],
   "source": [
    "variable.datatype, variable.dimensions"
   ]
  },
  {
   "cell_type": "code",
   "execution_count": null,
   "id": "137e3054-8eab-4f92-b195-769bdbcdf8ab",
   "metadata": {},
   "outputs": [],
   "source": []
  },
  {
   "cell_type": "code",
   "execution_count": 80,
   "id": "fb28b91a-6d35-4368-a87f-93cf1cca4ae4",
   "metadata": {},
   "outputs": [
    {
     "data": {
      "text/plain": [
       "<class 'netCDF4._netCDF4.Dataset'>\n",
       "root group (NETCDF4 data model, file format HDF5):\n",
       "    title: NOAA/NCEI 1/4 Degree Daily Optimum Interpolation Sea Surface Temperature (OISST) Analysis, Version 2.1 - Final\n",
       "    source: ICOADS, NCEP_GTS, GSFC_ICE, NCEP_ICE, Pathfinder_AVHRR, Navy_AVHRR\n",
       "    id: oisst-avhrr-v02r01.19810901.nc\n",
       "    naming_authority: gov.noaa.ncei\n",
       "    summary: NOAAs 1/4-degree Daily Optimum Interpolation Sea Surface Temperature (OISST) (sometimes referred to as Reynolds SST, which however also refers to earlier products at different resolution), currently available as version v02r01, is created by interpolating and extrapolating SST observations from different sources, resulting in a smoothed complete field. The sources of data are satellite (AVHRR) and in situ platforms (i.e., ships and buoys), and the specific datasets employed may change over time. At the marginal ice zone, sea ice concentrations are used to generate proxy SSTs.  A preliminary version of this file is produced in near-real time (1-day latency), and then replaced with a final version after 2 weeks. Note that this is the AVHRR-ONLY DOISST, available from Oct 1981, but there is a companion DOISST product that includes microwave satellite data, available from June 2002\n",
       "    cdm_data_type: Grid\n",
       "    history: Final file created using preliminary as first guess, and 3 days of AVHRR data. Preliminary uses only 1 day of AVHRR data.\n",
       "    date_modified: 2020-05-08T19:05:13Z\n",
       "    date_created: 2020-05-08T19:05:13Z\n",
       "    product_version: Version v02r01\n",
       "    processing_level: NOAA Level 4\n",
       "    institution: NOAA/National Centers for Environmental Information\n",
       "    creator_url: https://www.ncei.noaa.gov/\n",
       "    creator_email: oisst-help@noaa.gov\n",
       "    keywords: Earth Science > Oceans > Ocean Temperature > Sea Surface Temperature\n",
       "    keywords_vocabulary: Global Change Master Directory (GCMD) Earth Science Keywords\n",
       "    platform: Ships, buoys, Argo floats, MetOp-A, MetOp-B\n",
       "    platform_vocabulary: Global Change Master Directory (GCMD) Platform Keywords\n",
       "    instrument: Earth Remote Sensing Instruments > Passive Remote Sensing > Spectrometers/Radiometers > Imaging Spectrometers/Radiometers > AVHRR > Advanced Very High Resolution Radiometer\n",
       "    instrument_vocabulary: Global Change Master Directory (GCMD) Instrument Keywords\n",
       "    standard_name_vocabulary: CF Standard Name Table (v40, 25 January 2017)\n",
       "    geospatial_lat_min: -90.0\n",
       "    geospatial_lat_max: 90.0\n",
       "    geospatial_lon_min: 0.0\n",
       "    geospatial_lon_max: 360.0\n",
       "    geospatial_lat_units: degrees_north\n",
       "    geospatial_lat_resolution: 0.25\n",
       "    geospatial_lon_units: degrees_east\n",
       "    geospatial_lon_resolution: 0.25\n",
       "    time_coverage_start: 1981-09-01T00:00:00Z\n",
       "    time_coverage_end: 1981-09-01T23:59:59Z\n",
       "    metadata_link: https://doi.org/10.25921/RE9P-PT57\n",
       "    ncei_template_version: NCEI_NetCDF_Grid_Template_v2.0\n",
       "    comment: Data was converted from NetCDF-3 to NetCDF-4 format with metadata updates in November 2017.\n",
       "    sensor: Thermometer, AVHRR\n",
       "    Conventions: CF-1.6, ACDD-1.3\n",
       "    references: Reynolds, et al.(2007) Daily High-Resolution-Blended Analyses for Sea Surface Temperature (available at https://doi.org/10.1175/2007JCLI1824.1). Banzon, et al.(2016) A long-term record of blended satellite and in situ sea-surface temperature for climate monitoring, modeling and environmental studies (available at https://doi.org/10.5194/essd-8-165-2016). Huang et al. (2020) Improvements of the Daily Optimum Interpolation Sea Surface Temperature (DOISST) Version v02r01, submitted.Climatology is based on 1971-2000 OI.v2 SST. Satellite data: Pathfinder AVHRR SST and Navy AVHRR SST. Ice data: NCEP Ice and GSFC Ice.\n",
       "    dimensions(sizes): time(1), zlev(1), lat(720), lon(1440)\n",
       "    variables(dimensions): \n",
       "    groups: "
      ]
     },
     "execution_count": 80,
     "metadata": {},
     "output_type": "execute_result"
    }
   ],
   "source": [
    "dsout"
   ]
  },
  {
   "cell_type": "code",
   "execution_count": 63,
   "id": "aa847ba3-f164-44c6-91c9-b7f29f19a454",
   "metadata": {},
   "outputs": [
    {
     "ename": "TypeError",
     "evalue": "'netCDF4._netCDF4.Dataset' object does not support item assignment",
     "output_type": "error",
     "traceback": [
      "\u001b[0;31m---------------------------------------------------------------------------\u001b[0m",
      "\u001b[0;31mTypeError\u001b[0m                                 Traceback (most recent call last)",
      "\u001b[0;32m/var/folders/3k/05vd5sp53wbgspztyxv0ksfm0000gn/T/ipykernel_85118/2035204454.py\u001b[0m in \u001b[0;36m<module>\u001b[0;34m\u001b[0m\n\u001b[0;32m----> 1\u001b[0;31m \u001b[0mdsout\u001b[0m\u001b[0;34m[\u001b[0m\u001b[0;34m'title'\u001b[0m\u001b[0;34m]\u001b[0m \u001b[0;34m=\u001b[0m \u001b[0;34m'dfdf'\u001b[0m\u001b[0;34m\u001b[0m\u001b[0;34m\u001b[0m\u001b[0m\n\u001b[0m",
      "\u001b[0;31mTypeError\u001b[0m: 'netCDF4._netCDF4.Dataset' object does not support item assignment"
     ]
    }
   ],
   "source": [
    "dsout.createDimension()"
   ]
  },
  {
   "cell_type": "code",
   "execution_count": 25,
   "id": "2862d615-8d1b-4da1-8aba-8daf0b5ddad2",
   "metadata": {},
   "outputs": [
    {
     "ename": "RuntimeError",
     "evalue": "NetCDF: String match to name in use",
     "output_type": "error",
     "traceback": [
      "\u001b[0;31m---------------------------------------------------------------------------\u001b[0m",
      "\u001b[0;31mRuntimeError\u001b[0m                              Traceback (most recent call last)",
      "\u001b[0;32m/var/folders/3k/05vd5sp53wbgspztyxv0ksfm0000gn/T/ipykernel_85118/1815006529.py\u001b[0m in \u001b[0;36m<module>\u001b[0;34m\u001b[0m\n\u001b[0;32m----> 1\u001b[0;31m \u001b[0mlat_dim\u001b[0m \u001b[0;34m=\u001b[0m \u001b[0mf\u001b[0m\u001b[0;34m.\u001b[0m\u001b[0mcreateDimension\u001b[0m\u001b[0;34m(\u001b[0m\u001b[0;34m'lat'\u001b[0m\u001b[0;34m,\u001b[0m \u001b[0;36m720\u001b[0m\u001b[0;34m)\u001b[0m\u001b[0;34m\u001b[0m\u001b[0;34m\u001b[0m\u001b[0m\n\u001b[0m\u001b[1;32m      2\u001b[0m \u001b[0mlon_dim\u001b[0m \u001b[0;34m=\u001b[0m \u001b[0mf\u001b[0m\u001b[0;34m.\u001b[0m\u001b[0mcreateDimension\u001b[0m\u001b[0;34m(\u001b[0m\u001b[0;34m'lon'\u001b[0m\u001b[0;34m,\u001b[0m \u001b[0;36m1440\u001b[0m\u001b[0;34m)\u001b[0m\u001b[0;34m\u001b[0m\u001b[0;34m\u001b[0m\u001b[0m\n\u001b[1;32m      3\u001b[0m \u001b[0mtime_dim\u001b[0m \u001b[0;34m=\u001b[0m \u001b[0mf\u001b[0m\u001b[0;34m.\u001b[0m\u001b[0mcreateDimension\u001b[0m\u001b[0;34m(\u001b[0m\u001b[0;34m'time'\u001b[0m\u001b[0;34m,\u001b[0m \u001b[0;36m1\u001b[0m\u001b[0;34m)\u001b[0m\u001b[0;34m\u001b[0m\u001b[0;34m\u001b[0m\u001b[0m\n\u001b[1;32m      4\u001b[0m \u001b[0mzlev_dim\u001b[0m \u001b[0;34m=\u001b[0m \u001b[0mf\u001b[0m\u001b[0;34m.\u001b[0m\u001b[0mcreateDimension\u001b[0m\u001b[0;34m(\u001b[0m\u001b[0;34m'zlev'\u001b[0m\u001b[0;34m,\u001b[0m \u001b[0;36m1\u001b[0m\u001b[0;34m)\u001b[0m\u001b[0;34m\u001b[0m\u001b[0;34m\u001b[0m\u001b[0m\n",
      "\u001b[0;32msrc/netCDF4/_netCDF4.pyx\u001b[0m in \u001b[0;36mnetCDF4._netCDF4.Dataset.createDimension\u001b[0;34m()\u001b[0m\n",
      "\u001b[0;32msrc/netCDF4/_netCDF4.pyx\u001b[0m in \u001b[0;36mnetCDF4._netCDF4.Dimension.__init__\u001b[0;34m()\u001b[0m\n",
      "\u001b[0;32msrc/netCDF4/_netCDF4.pyx\u001b[0m in \u001b[0;36mnetCDF4._netCDF4._ensure_nc_success\u001b[0;34m()\u001b[0m\n",
      "\u001b[0;31mRuntimeError\u001b[0m: NetCDF: String match to name in use"
     ]
    }
   ],
   "source": [
    "lat_dim = f.createDimension('lat', 720)\n",
    "lon_dim = f.createDimension('lon', 1440)\n",
    "time_dim = f.createDimension('time', 1)\n",
    "zlev_dim = f.createDimension('zlev', 1)"
   ]
  },
  {
   "cell_type": "code",
   "execution_count": 30,
   "id": "d3ee65af-d96b-4f2e-81c6-9fb168049440",
   "metadata": {},
   "outputs": [],
   "source": [
    "f."
   ]
  },
  {
   "cell_type": "code",
   "execution_count": 31,
   "id": "455724be-181f-4e37-b542-d58eb8493af7",
   "metadata": {},
   "outputs": [
    {
     "data": {
      "text/plain": [
       "<class 'netCDF4._netCDF4.Dataset'>\n",
       "root group (NETCDF4 data model, file format HDF5):\n",
       "    title: NOAA/NCEI 1/4 Degree Daily Optimum Interpolation Sea Surface Temperature (OISST) Analysis, Version 2.1 - Final\n",
       "    source: ICOADS, NCEP_GTS, GSFC_ICE, NCEP_ICE, Pathfinder_AVHRR, Navy_AVHRR\n",
       "    id: oisst-avhrr-v02r01.19810901.nc\n",
       "    naming_authority: gov.noaa.ncei\n",
       "    summary: NOAAs 1/4-degree Daily Optimum Interpolation Sea Surface Temperature (OISST) (sometimes referred to as Reynolds SST, which however also refers to earlier products at different resolution), currently available as version v02r01, is created by interpolating and extrapolating SST observations from different sources, resulting in a smoothed complete field. The sources of data are satellite (AVHRR) and in situ platforms (i.e., ships and buoys), and the specific datasets employed may change over time. At the marginal ice zone, sea ice concentrations are used to generate proxy SSTs.  A preliminary version of this file is produced in near-real time (1-day latency), and then replaced with a final version after 2 weeks. Note that this is the AVHRR-ONLY DOISST, available from Oct 1981, but there is a companion DOISST product that includes microwave satellite data, available from June 2002\n",
       "    cdm_data_type: Grid\n",
       "    history: Final file created using preliminary as first guess, and 3 days of AVHRR data. Preliminary uses only 1 day of AVHRR data.\n",
       "    date_modified: 2020-05-08T19:05:13Z\n",
       "    date_created: 2020-05-08T19:05:13Z\n",
       "    product_version: Version v02r01\n",
       "    processing_level: NOAA Level 4\n",
       "    institution: NOAA/National Centers for Environmental Information\n",
       "    creator_url: https://www.ncei.noaa.gov/\n",
       "    creator_email: oisst-help@noaa.gov\n",
       "    keywords: Earth Science > Oceans > Ocean Temperature > Sea Surface Temperature\n",
       "    keywords_vocabulary: Global Change Master Directory (GCMD) Earth Science Keywords\n",
       "    platform: Ships, buoys, Argo floats, MetOp-A, MetOp-B\n",
       "    platform_vocabulary: Global Change Master Directory (GCMD) Platform Keywords\n",
       "    instrument: Earth Remote Sensing Instruments > Passive Remote Sensing > Spectrometers/Radiometers > Imaging Spectrometers/Radiometers > AVHRR > Advanced Very High Resolution Radiometer\n",
       "    instrument_vocabulary: Global Change Master Directory (GCMD) Instrument Keywords\n",
       "    standard_name_vocabulary: CF Standard Name Table (v40, 25 January 2017)\n",
       "    geospatial_lat_min: -90.0\n",
       "    geospatial_lat_max: 90.0\n",
       "    geospatial_lon_min: 0.0\n",
       "    geospatial_lon_max: 360.0\n",
       "    geospatial_lat_units: degrees_north\n",
       "    geospatial_lat_resolution: 0.25\n",
       "    geospatial_lon_units: degrees_east\n",
       "    geospatial_lon_resolution: 0.25\n",
       "    time_coverage_start: 1981-09-01T00:00:00Z\n",
       "    time_coverage_end: 1981-09-01T23:59:59Z\n",
       "    metadata_link: https://doi.org/10.25921/RE9P-PT57\n",
       "    ncei_template_version: NCEI_NetCDF_Grid_Template_v2.0\n",
       "    comment: Data was converted from NetCDF-3 to NetCDF-4 format with metadata updates in November 2017.\n",
       "    sensor: Thermometer, AVHRR\n",
       "    Conventions: CF-1.6, ACDD-1.3\n",
       "    references: Reynolds, et al.(2007) Daily High-Resolution-Blended Analyses for Sea Surface Temperature (available at https://doi.org/10.1175/2007JCLI1824.1). Banzon, et al.(2016) A long-term record of blended satellite and in situ sea-surface temperature for climate monitoring, modeling and environmental studies (available at https://doi.org/10.5194/essd-8-165-2016). Huang et al. (2020) Improvements of the Daily Optimum Interpolation Sea Surface Temperature (DOISST) Version v02r01, submitted.Climatology is based on 1971-2000 OI.v2 SST. Satellite data: Pathfinder AVHRR SST and Navy AVHRR SST. Ice data: NCEP Ice and GSFC Ice.\n",
       "    dimensions(sizes): time(1), zlev(1), lat(720), lon(1440)\n",
       "    variables(dimensions): int16 anom(time, zlev, lat, lon), int16 err(time, zlev, lat, lon), int16 ice(time, zlev, lat, lon), float32 lat(lat), float32 lon(lon), int16 sst(time, zlev, lat, lon), float32 time(time), float32 zlev(zlev)\n",
       "    groups: "
      ]
     },
     "execution_count": 31,
     "metadata": {},
     "output_type": "execute_result"
    }
   ],
   "source": [
    "f"
   ]
  },
  {
   "cell_type": "code",
   "execution_count": 22,
   "id": "be613d35-dff7-41e2-9d13-150536dc748c",
   "metadata": {},
   "outputs": [
    {
     "data": {
      "text/plain": [
       "{'time': <class 'netCDF4._netCDF4.Dimension'> (unlimited): name = 'time', size = 1,\n",
       " 'zlev': <class 'netCDF4._netCDF4.Dimension'>: name = 'zlev', size = 1,\n",
       " 'lat': <class 'netCDF4._netCDF4.Dimension'>: name = 'lat', size = 720,\n",
       " 'lon': <class 'netCDF4._netCDF4.Dimension'>: name = 'lon', size = 1440}"
      ]
     },
     "execution_count": 22,
     "metadata": {},
     "output_type": "execute_result"
    }
   ],
   "source": [
    "data.dimensions"
   ]
  },
  {
   "cell_type": "code",
   "execution_count": null,
   "id": "e5429a30-bce8-4f71-9fb7-e7aac333e9ba",
   "metadata": {},
   "outputs": [],
   "source": []
  }
 ],
 "metadata": {
  "kernelspec": {
   "display_name": "Python 3 (ipykernel)",
   "language": "python",
   "name": "python3"
  },
  "language_info": {
   "codemirror_mode": {
    "name": "ipython",
    "version": 3
   },
   "file_extension": ".py",
   "mimetype": "text/x-python",
   "name": "python",
   "nbconvert_exporter": "python",
   "pygments_lexer": "ipython3",
   "version": "3.8.12"
  }
 },
 "nbformat": 4,
 "nbformat_minor": 5
}
