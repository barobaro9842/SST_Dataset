{
 "cells": [
  {
   "cell_type": "code",
   "execution_count": 1,
   "id": "77f57dca-0a9e-4eb9-bf39-bbf036829080",
   "metadata": {},
   "outputs": [],
   "source": [
    "from netCDF4 import Dataset\n",
    "import os\n",
    "\n",
    "from netCDFfunc.utility import *\n",
    "import pandas as pd"
   ]
  },
  {
   "cell_type": "code",
   "execution_count": 2,
   "id": "9a4bf247-31af-42b3-a24d-9fcaac65aec1",
   "metadata": {},
   "outputs": [
    {
     "name": "stdout",
     "output_type": "stream",
     "text": [
      "897\n",
      "6875\n",
      "150278\n",
      "1013\n",
      "1834\n",
      "732974\n",
      "6695\n",
      "848\n",
      "38017\n",
      "18606\n",
      "18237\n",
      "151921\n"
     ]
    }
   ],
   "source": [
    "base_dir = '/Volumes/T7/download_data'\n",
    "for data_name in os.listdir(base_dir) :\n",
    "    data_folder = os.path.join(base_dir, data_name)\n",
    "    data_file = os.path.join(data_folder, os.listdir(data_folder)[-2])\n",
    "    print(os.path.getsize(data_file) // 1024)\n",
    "    ds = Dataset(data_file, 'r', format='NETCDF4')\n",
    "    \n",
    "    ds.close()"
   ]
  },
  {
   "cell_type": "code",
   "execution_count": 3,
   "id": "93f04013-a801-45f6-b35f-6110a4c542fb",
   "metadata": {},
   "outputs": [],
   "source": [
    "base_dir = '/Volumes/T7/AVHRR_OI_SST/v2.1'"
   ]
  },
  {
   "cell_type": "code",
   "execution_count": 4,
   "id": "5ac50c7a-8361-4f77-a350-c8873f3fedca",
   "metadata": {},
   "outputs": [
    {
     "data": {
      "application/vnd.jupyter.widget-view+json": {
       "model_id": "7ed78e29c287405bb6bf2b889ab85b84",
       "version_major": 2,
       "version_minor": 0
      },
      "text/plain": [
       "  0%|          | 0/31 [00:00<?, ?it/s]"
      ]
     },
     "metadata": {},
     "output_type": "display_data"
    }
   ],
   "source": [
    "value_1 = get_data_by_date(base_dir = base_dir,\n",
    "                           get_data_func = get_data_A,\n",
    "                           var_name = 'sst',\n",
    "                           start_date = (1981, 9, 1),\n",
    "                           end_date = (2011,8,31),\n",
    "                           specific_date = (1,1))"
   ]
  },
  {
   "cell_type": "code",
   "execution_count": 5,
   "id": "e151de11-9e46-424c-af8b-7d8a965b91bb",
   "metadata": {},
   "outputs": [],
   "source": [
    "data = value_1[(1,1)][0]"
   ]
  },
  {
   "cell_type": "code",
   "execution_count": 64,
   "id": "417ae734-f1c9-47a9-9554-30b10c3e13b3",
   "metadata": {},
   "outputs": [],
   "source": [
    "def cropping(arr, region, grid_size):\n",
    "    ratio = 0.25 / grid_size\n",
    "    \n",
    "    if region == 'rok':\n",
    "        return arr[int(440 * ratio):int(572 * ratio), int(440 * ratio):int(600 * ratio)]\n",
    "    if region == 'nw':\n",
    "        return arr[int(280 * ratio):int(624 * ratio), int(392 * ratio):int(1136 * ratio)]\n",
    "    if region == 'global':\n",
    "        return arr"
   ]
  },
  {
   "cell_type": "code",
   "execution_count": 31,
   "id": "5e913af0-c9f9-4a69-8bea-bf5dc5e3cc2d",
   "metadata": {
    "tags": []
   },
   "outputs": [],
   "source": [
    "def nc_write(ds_new, title, comment, grid_size, \n",
    "                    core_variable_name, core_variable_standard_name, core_variable_unit, core_variable_dtype, core_variable_values,\n",
    "                    lat_range=(0,None), lon_range=(0,None)):\n",
    "    \n",
    "    # set attribute\n",
    "    now = dt.datetime.now()\n",
    "    attr_dict = {'title' : title,\n",
    "                 'grid' : f'{grid_size}',\n",
    "                 'institution' : 'NIA',\n",
    "                 'name_creator' : 'BNT',\n",
    "                 'date_creation' : now.strftime('%Y-%m-%d %H:%M:%S'),\n",
    "                 'comment' : comment}\n",
    "\n",
    "    for k, v in attr_dict.items():\n",
    "        ds_new.setncattr(k,v)\n",
    "\n",
    "    lat_s, lat_e = lat_range  # 1358, 1852\n",
    "    lon_s, lon_e = lon_range\n",
    "    \n",
    "    ratio = 0.25/grid_size \n",
    "    lat_s, lat_e = int(lat_s*ratio), int(lat_e*ratio)\n",
    "    lon_s, lon_e = int(lon_s*ratio), int(lon_e*ratio)\n",
    "    \n",
    "    lat_force_cut = None\n",
    "    lon_force_cut = None\n",
    "    \n",
    "    print(core_variable_values.shape)\n",
    "    if grid_size == 0.081 : \n",
    "        lat_force_cut = -1\n",
    "        lon_force_cut = -1\n",
    "    if grid_size == 0.054:\n",
    "        lat_force_cut = -1\n",
    "    if grid_size == 0.08789 :\n",
    "        lat_force_cut = -1\n",
    "        lon_force_cut = -1\n",
    "        \n",
    "       \n",
    "    lat_grid = np.arange(-90 + (grid_size/2), 90 + (grid_size/2), grid_size)[:lat_force_cut][lat_s:lat_e]\n",
    "    lon_grid = np.arange(0 + (grid_size/2), 360 + (grid_size/2), grid_size)[:lon_force_cut][lon_s:lon_e]\n",
    "    print(len(lat_grid))\n",
    "    print(len(lon_grid))\n",
    "    \n",
    "    # set dimension\n",
    "    dim_dict = {'ntime' : 1,\n",
    "                'nlat' : len(lat_grid),\n",
    "                'nlon' : len(lon_grid)}\n",
    "    \n",
    "    for k, v in dim_dict.items():\n",
    "        ds_new.createDimension(k,v)\n",
    "\n",
    "    # set variables\n",
    "    for variable_name in ['time', 'lat', 'lon', core_variable_name]:\n",
    "\n",
    "        if variable_name == 'time' :\n",
    "            variable_attribute = {'standard_name' : 'time',\n",
    "                                  'format' : 'Mdd',\n",
    "                                  'axis' : 'T'}\n",
    "            dtype = np.int16\n",
    "            dimensions = ('ntime',)\n",
    "            variable_values = 101\n",
    "\n",
    "        if variable_name == 'lat' :\n",
    "            variable_attribute = {'standard_name' : 'latitude',\n",
    "                                  'units' : 'degrees',\n",
    "                                  'axis' : 'Y'}\n",
    "            dtype = np.float32\n",
    "            dimensions = ('nlat',)\n",
    "            variable_values = lat_grid\n",
    "\n",
    "        if variable_name == 'lon' :\n",
    "            variable_attribute = {'standard_name' : 'longitude',\n",
    "                                  'units' : 'degrees',\n",
    "                                  'axis' : 'X'}\n",
    "            dtype = np.float32\n",
    "            dimensions = ('nlon',)\n",
    "            variable_values = lon_grid\n",
    "            \n",
    "        if variable_name == core_variable_name :\n",
    "            variable_attribute  = {'standard_name' : core_variable_standard_name,\n",
    "                                   'units' : core_variable_unit}\n",
    "            dtype = core_variable_dtype\n",
    "            dimensions = ('ntime', 'nlat', 'nlon',)\n",
    "            variable_values = core_variable_values#[lat_s:lat_e, lon_s:lon_e]\n",
    "\n",
    "\n",
    "        fill_value = -999\n",
    "\n",
    "        ds_new = create_new_variable(ds_new,\n",
    "                                     new_variable_name=variable_name,  \n",
    "                                     dtype=dtype,\n",
    "                                     dimension=dimensions,\n",
    "                                     fill_value=fill_value,\n",
    "                                     values=variable_values,\n",
    "                                     attributes=variable_attribute)\n",
    "\n",
    "    return ds_new"
   ]
  },
  {
   "cell_type": "code",
   "execution_count": 8,
   "id": "0a3f0935-44a6-4ee5-8d7a-ea69a18dbbc7",
   "metadata": {},
   "outputs": [],
   "source": [
    "base_dir = '/Volumes/T7/new_data/file_size_test/'\n",
    "file_name = 'global'\n",
    "\n",
    "grid_size = 0.10\n",
    "nc_path = os.path.join(base_dir, 'nc' ,file_name+f'_{grid_size}.nc')\n",
    "\n",
    "ds_new = Dataset(nc_path, 'w', format='NETCDF4')\n",
    "title = 'Global 30 years(1981~2011) SST average data'\n",
    "comment = 'calculation 1981/9/1 ~ 2011/8/31'\n",
    "\n",
    "data = np.mean(value_1[(1,1)], axis=0)\n",
    "ratio = 0.25 / grid_size\n",
    "data = ndimage.zoom(data, ratio, order=0) # nearest interpolation\n",
    "\n",
    "variable_name = 'avgsst'\n",
    "variable_standard_name = 'averageSST'\n",
    "variable_unit = 'degree C'\n",
    "variable_dtype = np.float32\n",
    "variable_values = data\n",
    "\n",
    "ds_new = nc_write(ds_new, title, comment, grid_size,\n",
    "                                 variable_name, \n",
    "                                 variable_standard_name, \n",
    "                                 variable_unit, \n",
    "                                 variable_dtype, \n",
    "                                 variable_values)\n",
    "\n",
    "ds_new.close()"
   ]
  },
  {
   "cell_type": "code",
   "execution_count": 7,
   "id": "fcdf0cca-05db-40bb-914b-6f2d512313b8",
   "metadata": {},
   "outputs": [
    {
     "data": {
      "text/plain": [
       "(2048, 4096)"
      ]
     },
     "execution_count": 7,
     "metadata": {},
     "output_type": "execute_result"
    }
   ],
   "source": [
    "data.shape"
   ]
  },
  {
   "cell_type": "code",
   "execution_count": 38,
   "id": "7530e082-6e69-4f77-9320-859a94648828",
   "metadata": {},
   "outputs": [],
   "source": [
    "ds_new.close()"
   ]
  },
  {
   "cell_type": "code",
   "execution_count": 105,
   "id": "75817348-f68d-4ac4-be7a-3356502c22a8",
   "metadata": {
    "tags": []
   },
   "outputs": [
    {
     "name": "stdout",
     "output_type": "stream",
     "text": [
      "(344, 744)\n",
      "344\n",
      "744\n"
     ]
    }
   ],
   "source": [
    "base_dir = '/Volumes/T7/new_data/file_size_test/'\n",
    "file_name = 'nwp'\n",
    "\n",
    "grid_size = 0.25\n",
    "nc_path = os.path.join(base_dir, 'nc' ,file_name+f'_{grid_size}.nc')\n",
    "\n",
    "ds_new = Dataset(nc_path, 'w', format='NETCDF4')\n",
    "title = 'North-West Pacific 30 years(1981~2011) SST average data'\n",
    "comment = 'calculation 1981/9/1 ~ 2011/8/31'\n",
    "\n",
    "\n",
    "lat_range = (280, 624)\n",
    "lon_range = (392, 1136)\n",
    "\n",
    "data = np.mean(value_1[(1,1)], axis=0)\n",
    "ratio = 0.25 / grid_size\n",
    "data = ndimage.zoom(data, ratio, order=0) # nearest interpolation\n",
    "data = cropping(data, 'nw', grid_size)\n",
    "\n",
    "variable_name = 'avgsst'\n",
    "variable_standard_name = 'averageSST'\n",
    "variable_unit = 'degree C'\n",
    "variable_dtype = np.float32\n",
    "variable_values = data\n",
    "\n",
    "ds_new = nc_write(ds_new, title, comment, grid_size,\n",
    "                         variable_name, \n",
    "                         variable_standard_name, \n",
    "                         variable_unit, \n",
    "                         variable_dtype, \n",
    "                         variable_values,\n",
    "                         lat_range,\n",
    "                         lon_range)\n",
    "\n",
    "ds_new.close()"
   ]
  },
  {
   "cell_type": "code",
   "execution_count": 32,
   "id": "a61b660c-494c-480f-b60d-58c6a9688b88",
   "metadata": {},
   "outputs": [],
   "source": [
    "ds_new.close()"
   ]
  },
  {
   "cell_type": "code",
   "execution_count": 48,
   "id": "a62526dc-1afb-47b4-9d0b-7c2922ad6543",
   "metadata": {},
   "outputs": [
    {
     "data": {
      "text/plain": [
       "740.7407407407408"
      ]
     },
     "execution_count": 48,
     "metadata": {},
     "output_type": "execute_result"
    }
   ],
   "source": [
    "0.25/0.054 * 160"
   ]
  },
  {
   "cell_type": "code",
   "execution_count": 63,
   "id": "b2f4b193-442c-439b-9fd8-4f7edf88fdb1",
   "metadata": {},
   "outputs": [
    {
     "data": {
      "text/plain": [
       "740.7407407407408"
      ]
     },
     "execution_count": 63,
     "metadata": {},
     "output_type": "execute_result"
    }
   ],
   "source": [
    "(600-440) * (0.25/0.054)"
   ]
  },
  {
   "cell_type": "code",
   "execution_count": null,
   "id": "2458516a-97cb-4071-bedc-5106ee932082",
   "metadata": {},
   "outputs": [],
   "source": [
    "132, 160"
   ]
  },
  {
   "cell_type": "code",
   "execution_count": 59,
   "id": "7408eeb5-e3ec-48dc-95ff-cd7603ace3c4",
   "metadata": {},
   "outputs": [
    {
     "data": {
      "text/plain": [
       "(611, 741)"
      ]
     },
     "execution_count": 59,
     "metadata": {},
     "output_type": "execute_result"
    }
   ],
   "source": [
    "data.shape"
   ]
  },
  {
   "cell_type": "code",
   "execution_count": 77,
   "id": "eef20109-2442-4a41-b2ca-cfb32036feaa",
   "metadata": {},
   "outputs": [
    {
     "name": "stdout",
     "output_type": "stream",
     "text": [
      "(376, 455)\n",
      "376\n",
      "455\n"
     ]
    }
   ],
   "source": [
    "base_dir = '/Volumes/T7/new_data/file_size_test/'\n",
    "file_name = 'rok'\n",
    "\n",
    "grid_size = 0.08789\n",
    "nc_path = os.path.join(base_dir, 'nc' ,file_name+f'_{grid_size}.nc')\n",
    "\n",
    "ds_new = Dataset(nc_path, 'w', format='NETCDF4')\n",
    "title = 'Republic Of Korea Vicinity 30 years(1981~2011) SST average data'\n",
    "comment = 'calculation 1981/9/1 ~ 2011/8/31'\n",
    "\n",
    "lat_range = (440, 572)\n",
    "lon_range = (440, 600)\n",
    "\n",
    "data = np.mean(value_1[(1,1)], axis=0)\n",
    "ratio = 0.25 / grid_size\n",
    "data = ndimage.zoom(data, ratio, order=0) # nearest interpolation\n",
    "data = cropping(data, 'rok', grid_size)\n",
    "\n",
    "variable_name = 'avgsst'\n",
    "variable_standard_name = 'averageSST'\n",
    "variable_unit = 'degree C'\n",
    "variable_dtype = np.float32\n",
    "variable_values = data\n",
    "\n",
    "ds_new = nc_write(ds_new, title, comment, grid_size,\n",
    "                         variable_name, \n",
    "                         variable_standard_name, \n",
    "                         variable_unit, \n",
    "                         variable_dtype, \n",
    "                         variable_values,\n",
    "                         lat_range,\n",
    "                         lon_range)\n",
    "\n",
    "ds_new.close()"
   ]
  },
  {
   "cell_type": "code",
   "execution_count": 6,
   "id": "94a6524b-3fb7-449f-9a99-2f9eb6ff4de7",
   "metadata": {},
   "outputs": [
    {
     "data": {
      "application/vnd.jupyter.widget-view+json": {
       "model_id": "b375b187dc6943938d26c7a7695dc4bb",
       "version_major": 2,
       "version_minor": 0
      },
      "text/plain": [
       "  0%|          | 0/22 [00:00<?, ?it/s]"
      ]
     },
     "metadata": {},
     "output_type": "display_data"
    },
    {
     "name": "stdout",
     "output_type": "stream",
     "text": [
      "0.25\n",
      "0.25\n",
      "0.25\n",
      "0.01\n"
     ]
    },
    {
     "data": {
      "application/vnd.jupyter.widget-view+json": {
       "model_id": "8858e71e4e4d4de08e4fe29be58d1f56",
       "version_major": 2,
       "version_minor": 0
      },
      "text/plain": [
       "  0%|          | 0/6000 [00:00<?, ?it/s]"
      ]
     },
     "metadata": {},
     "output_type": "display_data"
    },
    {
     "data": {
      "application/vnd.jupyter.widget-view+json": {
       "model_id": "a2e2a7eb38ab4f17a440f0624bf40ef8",
       "version_major": 2,
       "version_minor": 0
      },
      "text/plain": [
       "  0%|          | 0/6000 [00:00<?, ?it/s]"
      ]
     },
     "metadata": {},
     "output_type": "display_data"
    },
    {
     "data": {
      "application/vnd.jupyter.widget-view+json": {
       "model_id": "d6cccc8540f64fbf81ccf4e0dad57a68",
       "version_major": 2,
       "version_minor": 0
      },
      "text/plain": [
       "  0%|          | 0/6000 [00:00<?, ?it/s]"
      ]
     },
     "metadata": {},
     "output_type": "display_data"
    },
    {
     "name": "stdout",
     "output_type": "stream",
     "text": [
      "0.05\n",
      "0.054\n",
      "0.081\n",
      "0.08789\n",
      "0.1\n",
      "0.01\n"
     ]
    },
    {
     "data": {
      "application/vnd.jupyter.widget-view+json": {
       "model_id": "4aa712256b1a4aae9826f337ee1a16b9",
       "version_major": 2,
       "version_minor": 0
      },
      "text/plain": [
       "  0%|          | 0/2866 [00:00<?, ?it/s]"
      ]
     },
     "metadata": {},
     "output_type": "display_data"
    },
    {
     "data": {
      "application/vnd.jupyter.widget-view+json": {
       "model_id": "a58b665586664e1d839dd7ebe82c597d",
       "version_major": 2,
       "version_minor": 0
      },
      "text/plain": [
       "  0%|          | 0/2866 [00:00<?, ?it/s]"
      ]
     },
     "metadata": {},
     "output_type": "display_data"
    },
    {
     "data": {
      "application/vnd.jupyter.widget-view+json": {
       "model_id": "23334a5ac92647e89e89e3a38e01959d",
       "version_major": 2,
       "version_minor": 0
      },
      "text/plain": [
       "  0%|          | 0/2866 [00:00<?, ?it/s]"
      ]
     },
     "metadata": {},
     "output_type": "display_data"
    },
    {
     "name": "stdout",
     "output_type": "stream",
     "text": [
      "0.05\n",
      "0.1\n",
      "0.081\n",
      "0.054\n",
      "0.08789\n",
      "0.01\n"
     ]
    },
    {
     "data": {
      "application/vnd.jupyter.widget-view+json": {
       "model_id": "3f392e13383845a1a0894b6f20658dee",
       "version_major": 2,
       "version_minor": 0
      },
      "text/plain": [
       "  0%|          | 0/1100 [00:00<?, ?it/s]"
      ]
     },
     "metadata": {},
     "output_type": "display_data"
    },
    {
     "data": {
      "application/vnd.jupyter.widget-view+json": {
       "model_id": "4d86fbf0b71a404da1521cad923956df",
       "version_major": 2,
       "version_minor": 0
      },
      "text/plain": [
       "  0%|          | 0/1100 [00:00<?, ?it/s]"
      ]
     },
     "metadata": {},
     "output_type": "display_data"
    },
    {
     "data": {
      "application/vnd.jupyter.widget-view+json": {
       "model_id": "1f8233a13c954724a9f5d3b2e010c3ab",
       "version_major": 2,
       "version_minor": 0
      },
      "text/plain": [
       "  0%|          | 0/1100 [00:00<?, ?it/s]"
      ]
     },
     "metadata": {},
     "output_type": "display_data"
    },
    {
     "name": "stdout",
     "output_type": "stream",
     "text": [
      "0.05\n",
      "0.1\n",
      "0.054\n",
      "0.081\n",
      "0.08789\n",
      "file.zip\n"
     ]
    }
   ],
   "source": [
    "base_dir = '/Volumes/T7/new_data/file_size_test/nc'\n",
    "dic = dict()\n",
    "\n",
    "for data_name in tqdm(os.listdir(base_dir)) :\n",
    "    data_file = os.path.join(base_dir, data_name)\n",
    "    region, grid = data_name.replace('.nc','').split('_')\n",
    "    \n",
    "    print(grid)\n",
    "    if grid != '0.01':\n",
    "        continue\n",
    "    \n",
    "    if dic.get(region) == None :\n",
    "        dic[region] = dict()\n",
    "    dic[region][grid] = round(os.path.getsize(data_file) / 1024,1)\n",
    "    \n",
    "    ds = Dataset(data_file, 'r', format='NETCDF4')\n",
    "    \n",
    "    data = ds['avgsst'][:].data\n",
    "    lat_range = ds['lat'][:]\n",
    "    lon_range = ds['lon'][:]\n",
    "    \n",
    "    s_index = 0\n",
    "    e_index = len(lat_range) // 3\n",
    "    \n",
    "    for n in range(3):\n",
    "        d_stack = []\n",
    "\n",
    "        if e_index >= len(lat_range) :\n",
    "            e_index = len(lat_range)\n",
    "        for i in tqdm(range(s_index, e_index)):\n",
    "            for j in range(len(lon_range)):\n",
    "#                 if data[0][i][j] != -999:\n",
    "                d_stack.append((lat_range[i], lon_range[j], data[0][i][j]))\n",
    "                \n",
    "        s_index = e_index\n",
    "        e_index += len(lat_range) // 3\n",
    "    \n",
    "        df = pd.DataFrame(d_stack, columns=['lat', 'lon', 'sst'])\n",
    "        df.to_csv(f'/Volumes/T7/new_data/file_size_test/csv/{region}_{grid}{n}.csv', index=False)\n",
    "        \n",
    "    ds.close()"
   ]
  },
  {
   "cell_type": "code",
   "execution_count": null,
   "id": "c1830e2f-394e-48f5-832f-e1cf90ccd711",
   "metadata": {},
   "outputs": [],
   "source": []
  },
  {
   "cell_type": "code",
   "execution_count": 108,
   "id": "6821224f-beae-4c92-86b9-d00ea260c687",
   "metadata": {},
   "outputs": [
    {
     "data": {
      "text/html": [
       "<div>\n",
       "<style scoped>\n",
       "    .dataframe tbody tr th:only-of-type {\n",
       "        vertical-align: middle;\n",
       "    }\n",
       "\n",
       "    .dataframe tbody tr th {\n",
       "        vertical-align: top;\n",
       "    }\n",
       "\n",
       "    .dataframe thead th {\n",
       "        text-align: right;\n",
       "    }\n",
       "</style>\n",
       "<table border=\"1\" class=\"dataframe\">\n",
       "  <thead>\n",
       "    <tr style=\"text-align: right;\">\n",
       "      <th></th>\n",
       "      <th>global</th>\n",
       "      <th>nwp</th>\n",
       "      <th>rok</th>\n",
       "    </tr>\n",
       "  </thead>\n",
       "  <tbody>\n",
       "    <tr>\n",
       "      <th>0.25</th>\n",
       "      <td>4069.6</td>\n",
       "      <td>1013.8</td>\n",
       "      <td>93.7</td>\n",
       "    </tr>\n",
       "    <tr>\n",
       "      <th>0.01</th>\n",
       "      <td>2531472.1</td>\n",
       "      <td>624961.2</td>\n",
       "      <td>51602.2</td>\n",
       "    </tr>\n",
       "    <tr>\n",
       "      <th>0.05</th>\n",
       "      <td>101303.3</td>\n",
       "      <td>25026.2</td>\n",
       "      <td>2079.4</td>\n",
       "    </tr>\n",
       "    <tr>\n",
       "      <th>0.054</th>\n",
       "      <td>86851.4</td>\n",
       "      <td>21454.4</td>\n",
       "      <td>1782.6</td>\n",
       "    </tr>\n",
       "    <tr>\n",
       "      <th>0.081</th>\n",
       "      <td>38609.7</td>\n",
       "      <td>9544.3</td>\n",
       "      <td>797.0</td>\n",
       "    </tr>\n",
       "    <tr>\n",
       "      <th>0.08789</th>\n",
       "      <td>32803.1</td>\n",
       "      <td>8107.0</td>\n",
       "      <td>681.4</td>\n",
       "    </tr>\n",
       "    <tr>\n",
       "      <th>0.1</th>\n",
       "      <td>25344.7</td>\n",
       "      <td>6270.2</td>\n",
       "      <td>528.8</td>\n",
       "    </tr>\n",
       "  </tbody>\n",
       "</table>\n",
       "</div>"
      ],
      "text/plain": [
       "            global       nwp      rok\n",
       "0.25        4069.6    1013.8     93.7\n",
       "0.01     2531472.1  624961.2  51602.2\n",
       "0.05      101303.3   25026.2   2079.4\n",
       "0.054      86851.4   21454.4   1782.6\n",
       "0.081      38609.7    9544.3    797.0\n",
       "0.08789    32803.1    8107.0    681.4\n",
       "0.1        25344.7    6270.2    528.8"
      ]
     },
     "execution_count": 108,
     "metadata": {},
     "output_type": "execute_result"
    }
   ],
   "source": [
    "pd.DataFrame(dic)"
   ]
  },
  {
   "cell_type": "code",
   "execution_count": 175,
   "id": "c77fd2e7-a5ad-4e34-8b7b-6601e6ea368e",
   "metadata": {},
   "outputs": [
    {
     "data": {
      "text/plain": [
       "'._global_0.25.csv'"
      ]
     },
     "execution_count": 175,
     "metadata": {},
     "output_type": "execute_result"
    }
   ],
   "source": [
    "data_name"
   ]
  },
  {
   "cell_type": "code",
   "execution_count": 5,
   "id": "094f6f1d-c9d3-4ad6-b452-dd1a02a804da",
   "metadata": {},
   "outputs": [
    {
     "data": {
      "application/vnd.jupyter.widget-view+json": {
       "model_id": "8f25d0a97d5349f0800e415f9c0d1313",
       "version_major": 2,
       "version_minor": 0
      },
      "text/plain": [
       "  0%|          | 0/20 [00:00<?, ?it/s]"
      ]
     },
     "metadata": {},
     "output_type": "display_data"
    },
    {
     "name": "stdout",
     "output_type": "stream",
     "text": [
      "0.25\n",
      "0.25\n",
      "0.25\n",
      "file.zip\n",
      "0.05\n",
      "0.054\n",
      "0.081\n",
      "0.08789\n",
      "0.1\n",
      "0.05\n",
      "0.1\n",
      "0.081\n",
      "0.054\n",
      "0.08789\n",
      "0.05\n",
      "0.1\n",
      "0.054\n",
      "0.081\n",
      "0.08789\n"
     ]
    },
    {
     "ename": "ValueError",
     "evalue": "too many values to unpack (expected 2)",
     "output_type": "error",
     "traceback": [
      "\u001b[0;31m---------------------------------------------------------------------------\u001b[0m",
      "\u001b[0;31mValueError\u001b[0m                                Traceback (most recent call last)",
      "\u001b[0;32m/var/folders/3k/05vd5sp53wbgspztyxv0ksfm0000gn/T/ipykernel_53635/4039703847.py\u001b[0m in \u001b[0;36m<module>\u001b[0;34m\u001b[0m\n\u001b[1;32m      5\u001b[0m     \u001b[0md_stack\u001b[0m \u001b[0;34m=\u001b[0m \u001b[0;34m[\u001b[0m\u001b[0;34m]\u001b[0m\u001b[0;34m\u001b[0m\u001b[0;34m\u001b[0m\u001b[0m\n\u001b[1;32m      6\u001b[0m     \u001b[0mdata_file\u001b[0m \u001b[0;34m=\u001b[0m \u001b[0mos\u001b[0m\u001b[0;34m.\u001b[0m\u001b[0mpath\u001b[0m\u001b[0;34m.\u001b[0m\u001b[0mjoin\u001b[0m\u001b[0;34m(\u001b[0m\u001b[0mbase_dir\u001b[0m\u001b[0;34m,\u001b[0m \u001b[0mdata_name\u001b[0m\u001b[0;34m)\u001b[0m\u001b[0;34m\u001b[0m\u001b[0;34m\u001b[0m\u001b[0m\n\u001b[0;32m----> 7\u001b[0;31m     \u001b[0mregion\u001b[0m\u001b[0;34m,\u001b[0m \u001b[0mgrid\u001b[0m \u001b[0;34m=\u001b[0m \u001b[0mdata_name\u001b[0m\u001b[0;34m.\u001b[0m\u001b[0mreplace\u001b[0m\u001b[0;34m(\u001b[0m\u001b[0;34m'.csv'\u001b[0m\u001b[0;34m,\u001b[0m\u001b[0;34m''\u001b[0m\u001b[0;34m)\u001b[0m\u001b[0;34m.\u001b[0m\u001b[0msplit\u001b[0m\u001b[0;34m(\u001b[0m\u001b[0;34m'_'\u001b[0m\u001b[0;34m)\u001b[0m\u001b[0;34m\u001b[0m\u001b[0;34m\u001b[0m\u001b[0m\n\u001b[0m\u001b[1;32m      8\u001b[0m \u001b[0;34m\u001b[0m\u001b[0m\n\u001b[1;32m      9\u001b[0m     \u001b[0mprint\u001b[0m\u001b[0;34m(\u001b[0m\u001b[0mgrid\u001b[0m\u001b[0;34m)\u001b[0m\u001b[0;34m\u001b[0m\u001b[0;34m\u001b[0m\u001b[0m\n",
      "\u001b[0;31mValueError\u001b[0m: too many values to unpack (expected 2)"
     ]
    }
   ],
   "source": [
    "base_dir = '/Volumes/T7/new_data/file_size_test/csv'\n",
    "dic = dict()\n",
    "\n",
    "for data_name in tqdm(os.listdir(base_dir)) :\n",
    "    d_stack = []\n",
    "    data_file = os.path.join(base_dir, data_name)\n",
    "    region, grid = data_name.replace('.csv','').split('_')\n",
    "    \n",
    "    print(grid)\n",
    "    if grid == '0.01':\n",
    "        continue\n",
    "    \n",
    "    if dic.get(region) == None :\n",
    "        dic[region] = dict()\n",
    "    dic[region][grid] = os.path.getsize(data_file) / 1024 / 1024"
   ]
  },
  {
   "cell_type": "code",
   "execution_count": 14,
   "id": "363cf2be-ae20-442e-8553-faa8a52d40a4",
   "metadata": {},
   "outputs": [
    {
     "data": {
      "text/plain": [
       "172.99725246429443"
      ]
     },
     "execution_count": 14,
     "metadata": {},
     "output_type": "execute_result"
    }
   ],
   "source": [
    "(86722094 + 65874973 + 28803700) / 1024 / 1024"
   ]
  },
  {
   "cell_type": "code",
   "execution_count": 7,
   "id": "0a7e208d-95d2-44c6-bb11-97f6fdaa7eef",
   "metadata": {},
   "outputs": [
    {
     "data": {
      "application/vnd.jupyter.widget-view+json": {
       "model_id": "999b935ae6d64820a5e79635c4256141",
       "version_major": 2,
       "version_minor": 0
      },
      "text/plain": [
       "  0%|          | 0/29 [00:00<?, ?it/s]"
      ]
     },
     "metadata": {},
     "output_type": "display_data"
    },
    {
     "name": "stdout",
     "output_type": "stream",
     "text": [
      "0.25\n",
      "0.25\n",
      "0.25\n",
      "0.010\n",
      "file.zip\n",
      "0.05\n",
      "0.054\n",
      "0.081\n",
      "0.08789\n",
      "0.1\n",
      "0.05\n",
      "0.1\n",
      "0.081\n",
      "0.054\n",
      "0.08789\n",
      "0.05\n",
      "0.1\n",
      "0.054\n",
      "0.081\n",
      "0.08789\n"
     ]
    },
    {
     "ename": "ValueError",
     "evalue": "too many values to unpack (expected 2)",
     "output_type": "error",
     "traceback": [
      "\u001b[0;31m---------------------------------------------------------------------------\u001b[0m",
      "\u001b[0;31mValueError\u001b[0m                                Traceback (most recent call last)",
      "\u001b[0;32m/var/folders/3k/05vd5sp53wbgspztyxv0ksfm0000gn/T/ipykernel_53635/4039703847.py\u001b[0m in \u001b[0;36m<module>\u001b[0;34m\u001b[0m\n\u001b[1;32m      5\u001b[0m     \u001b[0md_stack\u001b[0m \u001b[0;34m=\u001b[0m \u001b[0;34m[\u001b[0m\u001b[0;34m]\u001b[0m\u001b[0;34m\u001b[0m\u001b[0;34m\u001b[0m\u001b[0m\n\u001b[1;32m      6\u001b[0m     \u001b[0mdata_file\u001b[0m \u001b[0;34m=\u001b[0m \u001b[0mos\u001b[0m\u001b[0;34m.\u001b[0m\u001b[0mpath\u001b[0m\u001b[0;34m.\u001b[0m\u001b[0mjoin\u001b[0m\u001b[0;34m(\u001b[0m\u001b[0mbase_dir\u001b[0m\u001b[0;34m,\u001b[0m \u001b[0mdata_name\u001b[0m\u001b[0;34m)\u001b[0m\u001b[0;34m\u001b[0m\u001b[0;34m\u001b[0m\u001b[0m\n\u001b[0;32m----> 7\u001b[0;31m     \u001b[0mregion\u001b[0m\u001b[0;34m,\u001b[0m \u001b[0mgrid\u001b[0m \u001b[0;34m=\u001b[0m \u001b[0mdata_name\u001b[0m\u001b[0;34m.\u001b[0m\u001b[0mreplace\u001b[0m\u001b[0;34m(\u001b[0m\u001b[0;34m'.csv'\u001b[0m\u001b[0;34m,\u001b[0m\u001b[0;34m''\u001b[0m\u001b[0;34m)\u001b[0m\u001b[0;34m.\u001b[0m\u001b[0msplit\u001b[0m\u001b[0;34m(\u001b[0m\u001b[0;34m'_'\u001b[0m\u001b[0;34m)\u001b[0m\u001b[0;34m\u001b[0m\u001b[0;34m\u001b[0m\u001b[0m\n\u001b[0m\u001b[1;32m      8\u001b[0m \u001b[0;34m\u001b[0m\u001b[0m\n\u001b[1;32m      9\u001b[0m     \u001b[0mprint\u001b[0m\u001b[0;34m(\u001b[0m\u001b[0mgrid\u001b[0m\u001b[0;34m)\u001b[0m\u001b[0;34m\u001b[0m\u001b[0;34m\u001b[0m\u001b[0m\n",
      "\u001b[0;31mValueError\u001b[0m: too many values to unpack (expected 2)"
     ]
    }
   ],
   "source": [
    "base_dir = '/Volumes/T7/new_data/file_size_test/csv'\n",
    "dic = dict()\n",
    "\n",
    "for data_name in tqdm(os.listdir(base_dir)) :\n",
    "    d_stack = []\n",
    "    data_file = os.path.join(base_dir, data_name)\n",
    "    region, grid = data_name.replace('.csv','').split('_')\n",
    "    \n",
    "    print(grid)\n",
    "    if grid == '0.01':\n",
    "        continue\n",
    "    \n",
    "    if dic.get(region) == None :\n",
    "        dic[region] = dict()\n",
    "    dic[region][grid] = os.path.getsize(data_file) / 1024 / 1024"
   ]
  },
  {
   "cell_type": "code",
   "execution_count": 189,
   "id": "2efc0524-a29d-49d9-ab4f-63017b46d833",
   "metadata": {},
   "outputs": [
    {
     "data": {
      "text/html": [
       "<div>\n",
       "<style scoped>\n",
       "    .dataframe tbody tr th:only-of-type {\n",
       "        vertical-align: middle;\n",
       "    }\n",
       "\n",
       "    .dataframe tbody tr th {\n",
       "        vertical-align: top;\n",
       "    }\n",
       "\n",
       "    .dataframe thead th {\n",
       "        text-align: right;\n",
       "    }\n",
       "</style>\n",
       "<table border=\"1\" class=\"dataframe\">\n",
       "  <thead>\n",
       "    <tr style=\"text-align: right;\">\n",
       "      <th></th>\n",
       "      <th>nwp</th>\n",
       "      <th>global</th>\n",
       "      <th>rok</th>\n",
       "    </tr>\n",
       "  </thead>\n",
       "  <tbody>\n",
       "    <tr>\n",
       "      <th>0.25</th>\n",
       "      <td>4.371607</td>\n",
       "      <td>16.446783</td>\n",
       "      <td>0.275848</td>\n",
       "    </tr>\n",
       "    <tr>\n",
       "      <th>0.05</th>\n",
       "      <td>109.386656</td>\n",
       "      <td>411.234356</td>\n",
       "      <td>11.621775</td>\n",
       "    </tr>\n",
       "    <tr>\n",
       "      <th>0.1</th>\n",
       "      <td>25.117818</td>\n",
       "      <td>94.587078</td>\n",
       "      <td>1.587106</td>\n",
       "    </tr>\n",
       "    <tr>\n",
       "      <th>0.081</th>\n",
       "      <td>45.068994</td>\n",
       "      <td>169.212512</td>\n",
       "      <td>2.838483</td>\n",
       "    </tr>\n",
       "    <tr>\n",
       "      <th>0.054</th>\n",
       "      <td>93.799170</td>\n",
       "      <td>352.591250</td>\n",
       "      <td>5.911266</td>\n",
       "    </tr>\n",
       "    <tr>\n",
       "      <th>0.08789</th>\n",
       "      <td>42.410763</td>\n",
       "      <td>158.885700</td>\n",
       "      <td>2.687705</td>\n",
       "    </tr>\n",
       "  </tbody>\n",
       "</table>\n",
       "</div>"
      ],
      "text/plain": [
       "                nwp      global        rok\n",
       "0.25       4.371607   16.446783   0.275848\n",
       "0.05     109.386656  411.234356  11.621775\n",
       "0.1       25.117818   94.587078   1.587106\n",
       "0.081     45.068994  169.212512   2.838483\n",
       "0.054     93.799170  352.591250   5.911266\n",
       "0.08789   42.410763  158.885700   2.687705"
      ]
     },
     "execution_count": 189,
     "metadata": {},
     "output_type": "execute_result"
    }
   ],
   "source": [
    "pd.DataFrame(dic)"
   ]
  },
  {
   "cell_type": "code",
   "execution_count": 126,
   "id": "99a0348e-1783-42fd-aed6-bfd77fecf696",
   "metadata": {},
   "outputs": [
    {
     "data": {
      "text/html": [
       "<div>\n",
       "<style scoped>\n",
       "    .dataframe tbody tr th:only-of-type {\n",
       "        vertical-align: middle;\n",
       "    }\n",
       "\n",
       "    .dataframe tbody tr th {\n",
       "        vertical-align: top;\n",
       "    }\n",
       "\n",
       "    .dataframe thead th {\n",
       "        text-align: right;\n",
       "    }\n",
       "</style>\n",
       "<table border=\"1\" class=\"dataframe\">\n",
       "  <thead>\n",
       "    <tr style=\"text-align: right;\">\n",
       "      <th></th>\n",
       "      <th>lat</th>\n",
       "      <th>lon</th>\n",
       "      <th>sst</th>\n",
       "    </tr>\n",
       "  </thead>\n",
       "  <tbody>\n",
       "    <tr>\n",
       "      <th>0</th>\n",
       "      <td>-78.375</td>\n",
       "      <td>165.875</td>\n",
       "      <td>-1.502000</td>\n",
       "    </tr>\n",
       "    <tr>\n",
       "      <th>1</th>\n",
       "      <td>-78.375</td>\n",
       "      <td>166.125</td>\n",
       "      <td>-1.494667</td>\n",
       "    </tr>\n",
       "    <tr>\n",
       "      <th>2</th>\n",
       "      <td>-78.375</td>\n",
       "      <td>166.375</td>\n",
       "      <td>-1.480000</td>\n",
       "    </tr>\n",
       "    <tr>\n",
       "      <th>3</th>\n",
       "      <td>-78.375</td>\n",
       "      <td>166.625</td>\n",
       "      <td>-1.458000</td>\n",
       "    </tr>\n",
       "    <tr>\n",
       "      <th>4</th>\n",
       "      <td>-78.375</td>\n",
       "      <td>166.875</td>\n",
       "      <td>-1.426667</td>\n",
       "    </tr>\n",
       "    <tr>\n",
       "      <th>...</th>\n",
       "      <td>...</td>\n",
       "      <td>...</td>\n",
       "      <td>...</td>\n",
       "    </tr>\n",
       "    <tr>\n",
       "      <th>691145</th>\n",
       "      <td>89.875</td>\n",
       "      <td>358.875</td>\n",
       "      <td>-1.730333</td>\n",
       "    </tr>\n",
       "    <tr>\n",
       "      <th>691146</th>\n",
       "      <td>89.875</td>\n",
       "      <td>359.125</td>\n",
       "      <td>-1.730333</td>\n",
       "    </tr>\n",
       "    <tr>\n",
       "      <th>691147</th>\n",
       "      <td>89.875</td>\n",
       "      <td>359.375</td>\n",
       "      <td>-1.730333</td>\n",
       "    </tr>\n",
       "    <tr>\n",
       "      <th>691148</th>\n",
       "      <td>89.875</td>\n",
       "      <td>359.625</td>\n",
       "      <td>-1.730333</td>\n",
       "    </tr>\n",
       "    <tr>\n",
       "      <th>691149</th>\n",
       "      <td>89.875</td>\n",
       "      <td>359.875</td>\n",
       "      <td>-1.730333</td>\n",
       "    </tr>\n",
       "  </tbody>\n",
       "</table>\n",
       "<p>691150 rows × 3 columns</p>\n",
       "</div>"
      ],
      "text/plain": [
       "           lat      lon       sst\n",
       "0      -78.375  165.875 -1.502000\n",
       "1      -78.375  166.125 -1.494667\n",
       "2      -78.375  166.375 -1.480000\n",
       "3      -78.375  166.625 -1.458000\n",
       "4      -78.375  166.875 -1.426667\n",
       "...        ...      ...       ...\n",
       "691145  89.875  358.875 -1.730333\n",
       "691146  89.875  359.125 -1.730333\n",
       "691147  89.875  359.375 -1.730333\n",
       "691148  89.875  359.625 -1.730333\n",
       "691149  89.875  359.875 -1.730333\n",
       "\n",
       "[691150 rows x 3 columns]"
      ]
     },
     "execution_count": 126,
     "metadata": {},
     "output_type": "execute_result"
    }
   ],
   "source": [
    "pd.DataFrame(d_stack, columns=['lat', 'lon', 'sst'])"
   ]
  },
  {
   "cell_type": "code",
   "execution_count": 135,
   "id": "53419c4c-e99d-4e27-9ea3-391da87abc69",
   "metadata": {},
   "outputs": [
    {
     "data": {
      "text/plain": [
       "(1, 3333, 6667)"
      ]
     },
     "execution_count": 135,
     "metadata": {},
     "output_type": "execute_result"
    }
   ],
   "source": [
    "ds['avgsst'][:].shape"
   ]
  },
  {
   "cell_type": "code",
   "execution_count": null,
   "id": "612b4ab9-fa76-49a5-acab-b01bf263509a",
   "metadata": {},
   "outputs": [],
   "source": []
  }
 ],
 "metadata": {
  "kernelspec": {
   "display_name": "Python 3 (ipykernel)",
   "language": "python",
   "name": "python3"
  },
  "language_info": {
   "codemirror_mode": {
    "name": "ipython",
    "version": 3
   },
   "file_extension": ".py",
   "mimetype": "text/x-python",
   "name": "python",
   "nbconvert_exporter": "python",
   "pygments_lexer": "ipython3",
   "version": "3.8.13"
  }
 },
 "nbformat": 4,
 "nbformat_minor": 5
}
