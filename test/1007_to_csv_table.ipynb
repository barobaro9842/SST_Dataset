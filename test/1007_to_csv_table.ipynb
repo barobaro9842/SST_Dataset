{
 "cells": [
  {
   "cell_type": "code",
   "execution_count": 46,
   "id": "fa32fe92-bc4e-4855-a62d-69dec49be0b6",
   "metadata": {},
   "outputs": [],
   "source": [
    "from netCDF4 import Dataset\n",
    "import numpy as np\n",
    "import pandas as pd"
   ]
  },
  {
   "cell_type": "code",
   "execution_count": 30,
   "id": "0151962c-ea4c-40f7-9076-4de44db0fa2b",
   "metadata": {},
   "outputs": [],
   "source": []
  },
  {
   "cell_type": "code",
   "execution_count": 24,
   "id": "c21cbf79-9617-4c37-a38c-40f9ebf0daf9",
   "metadata": {},
   "outputs": [
    {
     "data": {
      "text/plain": [
       "<class 'netCDF4._netCDF4.Dataset'>\n",
       "root group (NETCDF4 data model, file format HDF5):\n",
       "    Observation Date: 2022.10.02\n",
       "    Source Data Organization: National Centers for Environmental Information\n",
       "    Source Data Name: AVHRR_OI_SST\n",
       "    Data Interval(deg): 0.250\n",
       "    30years SST Average Data Organization: National Centers for Environmental Information\n",
       "    30years SST Average Data Name: AVHRR_OI_SST\n",
       "    30years SST Average Start Date: 1991.01.01\n",
       "    30years SST Average End date: 2020.12.31\n",
       "    Observation Area: ROK\n",
       "    dimensions(sizes): nlat(132), nlon(160)\n",
       "    variables(dimensions): float32 LA(nlat), float32 LO(nlon), float32 YY30_AVG_SST_ANOMALY(nlat, nlon), float32 YY30_AVG_SST(nlat, nlon)\n",
       "    groups: "
      ]
     },
     "execution_count": 24,
     "metadata": {},
     "output_type": "execute_result"
    }
   ],
   "source": [
    "ds"
   ]
  },
  {
   "cell_type": "code",
   "execution_count": 48,
   "id": "6aef124e-8c8a-4998-a573-ce059e6adf58",
   "metadata": {},
   "outputs": [],
   "source": [
    "for ds_name in ['AVHRR_OI_SST', 'CMC_SST', 'DMI_SST', 'GAMSSA_SST', 'MUR_SST', 'MW_IR_OI_SST', 'MW_OI_SST', 'NAVO_SST', 'OSPO_SST', 'OSTIA_SST']:\n",
    "    \n",
    "    ds_anomaly = Dataset(f'/Volumes/T7/output/{ds_name}/nc/anomaly/2022/{ds_name}_2022_10_02_ROK_Anomaly.nc')\n",
    "    ds_grade = Dataset(f'/Volumes/T7/output/{ds_name}/nc/grade/2022/{ds_name}_2022_10_02_ROK_Grade.nc')\n",
    "\n",
    "    lat_range = ds_anomaly['LA'][:].data\n",
    "    lon_range = ds_anomaly['LO'][:].data\n",
    "\n",
    "    avg_sst = ds_anomaly['YY30_AVG_SST'][:].data\n",
    "    anomaly_sst = ds_anomaly['YY30_AVG_SST_ANOMALY'][:].data\n",
    "    grade = ds_grade['SST_GRD_CD'][:].data\n",
    "    obs_date = ds_anomaly.getncattr('Observation Date')\n",
    "    organization = ds_anomaly.getncattr('Source Data Organization')\n",
    "    data_name = ds_anomaly.getncattr('Source Data Name')\n",
    "    grid = ds_anomaly.getncattr('Data Interval(deg)')\n",
    "    yy_organization = ds_anomaly.getncattr('30years SST Average Data Organization')\n",
    "    yy_data_name = ds_anomaly.getncattr('30years SST Average Data Name')\n",
    "    start_date = ds_anomaly.getncattr('30years SST Average Start Date')\n",
    "    end_date = ds_anomaly.getncattr('30years SST Average End date')\n",
    "    obs_area = ds_anomaly.getncattr('Observation Area')\n",
    "\n",
    "    data_stack = []\n",
    "\n",
    "    for i in range(len(lat_range)):\n",
    "        for j in range(len(lon_range)):\n",
    "            if anomaly_sst[i][j] == -32768 or anomaly_sst[i][j] == 32767 or np.isnan(anomaly_sst[i][j]) :\n",
    "                continue\n",
    "            else :\n",
    "                avg = avg_sst[i][j]\n",
    "                anom = anomaly_sst[i][j]\n",
    "                grd = grade[i][j]\n",
    "                lat = lat_range[i]\n",
    "                lon = lon_range[j]\n",
    "\n",
    "            data_stack.append((avg, anom, grd, lat, lon, obs_date, organization, data_name, grid, yy_organization, yy_data_name, start_date, end_date, obs_area))\n",
    "\n",
    "    df = pd.DataFrame(data_stack, \n",
    "                      columns=['YY30_AVG_SST', 'YY30_AVG_SST_ANOMALY', 'SST_GRD_CD', 'LA', 'LO', \n",
    "                               'WTCH_YMD', 'SRC_DATA_INST_NM', 'SRC_DATA_NM', 'SRC_DATA_INTV',\n",
    "                               'YY30_AVG_SST_SRC_DATA_INST_NM', 'YY30_AVG_SST_SRC_DATA_NM', \n",
    "                               'YY30_SYMD', 'YY30_EYMD', 'WTCH_RELM_AREA'])\n",
    "\n",
    "    df.to_csv(f'/Volumes/T7/csv_table/{ds_name}.csv')"
   ]
  },
  {
   "cell_type": "code",
   "execution_count": null,
   "id": "71c5c999-635d-4c20-9ca7-31bbee917352",
   "metadata": {},
   "outputs": [],
   "source": []
  }
 ],
 "metadata": {
  "kernelspec": {
   "display_name": "Python 3 (ipykernel)",
   "language": "python",
   "name": "python3"
  },
  "language_info": {
   "codemirror_mode": {
    "name": "ipython",
    "version": 3
   },
   "file_extension": ".py",
   "mimetype": "text/x-python",
   "name": "python",
   "nbconvert_exporter": "python",
   "pygments_lexer": "ipython3",
   "version": "3.8.13"
  }
 },
 "nbformat": 4,
 "nbformat_minor": 5
}
