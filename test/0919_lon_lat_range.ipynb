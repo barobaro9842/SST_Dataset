{
 "cells": [
  {
   "cell_type": "code",
   "execution_count": 1,
   "id": "36ded06b-a15c-4c8a-b088-c9ffe6e9dddc",
   "metadata": {},
   "outputs": [],
   "source": [
    "from netCDF4 import Dataset"
   ]
  },
  {
   "cell_type": "code",
   "execution_count": 25,
   "id": "2382fd7f-c292-4467-b10b-b166ad061f35",
   "metadata": {},
   "outputs": [],
   "source": [
    "ds = Dataset('/Volumes/T7/output/OSTIA_SST/nc/anomaly/2022/20220910-UKMO-L4HRfnd-GLOB-v01-fv02-OSTIA._rok_anomaly.nc')"
   ]
  },
  {
   "cell_type": "code",
   "execution_count": 26,
   "id": "83c5b129-7a6a-4935-91da-67aecb5e05cf",
   "metadata": {},
   "outputs": [
    {
     "name": "stdout",
     "output_type": "stream",
     "text": [
      "\n",
      "경도 최소 : 110.0250015258789\n",
      "위도 최소 : 20.024999618530273\n",
      "경도 최대 : 149.97500610351562\n",
      "위도 최대 : 52.974998474121094\n",
      "\n"
     ]
    }
   ],
   "source": [
    "print(f'''\n",
    "경도 최소 : {ds['lon'][:][0]}\n",
    "위도 최소 : {ds['lat'][:][0]}\n",
    "경도 최대 : {ds['lon'][:][-1]}\n",
    "위도 최대 : {ds['lat'][:][-1]}\n",
    "''')"
   ]
  },
  {
   "cell_type": "code",
   "execution_count": null,
   "id": "39526abb-cf06-454e-a7f4-c08dbb3b502a",
   "metadata": {},
   "outputs": [],
   "source": []
  }
 ],
 "metadata": {
  "kernelspec": {
   "display_name": "Python 3 (ipykernel)",
   "language": "python",
   "name": "python3"
  },
  "language_info": {
   "codemirror_mode": {
    "name": "ipython",
    "version": 3
   },
   "file_extension": ".py",
   "mimetype": "text/x-python",
   "name": "python",
   "nbconvert_exporter": "python",
   "pygments_lexer": "ipython3",
   "version": "3.8.13"
  }
 },
 "nbformat": 4,
 "nbformat_minor": 5
}
