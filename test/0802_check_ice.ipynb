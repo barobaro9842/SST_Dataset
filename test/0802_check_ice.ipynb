{
 "cells": [
  {
   "cell_type": "code",
   "execution_count": 1,
   "id": "85dd35d3-c1a6-45bc-88c4-a6fe592b9da5",
   "metadata": {},
   "outputs": [],
   "source": [
    "from netCDF4 import Dataset\n",
    "from netCDFfunc.utility import get_data_sequence, get_data_A, get_data_by_date, save_img, show_img, masking\n",
    "\n",
    "import numpy as np\n",
    "import matplotlib.pyplot as plt\n",
    "\n",
    "from collections import Counter"
   ]
  },
  {
   "cell_type": "code",
   "execution_count": 2,
   "id": "50e7cb48-744d-44ed-a580-2504e7813ad0",
   "metadata": {},
   "outputs": [],
   "source": [
    "base_dir = '/Volumes/T7/AVHRR_OI_SST/v2.1/'"
   ]
  },
  {
   "cell_type": "markdown",
   "id": "a4227f14-050a-4fc5-9a32-e4a1f8aa1a92",
   "metadata": {
    "jupyter": {
     "outputs_hidden": true
    },
    "tags": []
   },
   "source": [
    "for year in range(1982, 2021):\n",
    "    value = get_data_sequence(base_dir = base_dir,\n",
    "                              get_data_func = get_data_A,\n",
    "                              var_name = 'sst',\n",
    "                              start_date = (year,1,1),\n",
    "                              end_date = (year,12,31))\n",
    "    ice = get_data_sequence(base_dir = base_dir,\n",
    "                              get_data_func = get_data_A,\n",
    "                              var_name = 'ice',\n",
    "                              start_date = (year,1,1),\n",
    "                              end_date = (year,12,31),\n",
    "                            is_mask=True)\n",
    "    \n",
    "    result = []\n",
    "    for v, i in zip(value, ice):\n",
    "        iced_pixel = np.ma.array(v, mask=i)\n",
    "        result.append(iced_pixel.filled(fill_value=np.nan))\n",
    "    \n",
    "    distribution = np.array(result).flatten()\n",
    "    np.place(distribution, distribution == -999, np.nan)\n",
    "    min_value = np.nanmin(distribution)\n",
    "    max_value = np.nanmax(distribution)\n",
    "    plt.hist(distribution, bins=100)\n",
    "    plt.savefig(f'/Volumes/T7/intermediate output/iced_pixel_values/{year}_min=({min_value:.2f})&max=({max_value:.2f}).jpg', dpi=100)\n",
    "    plt.close()"
   ]
  },
  {
   "cell_type": "code",
   "execution_count": 47,
   "id": "8896f3df-4916-41e3-b532-d9593264021e",
   "metadata": {},
   "outputs": [],
   "source": [
    "def monthly_ice_mask(month):\n",
    "    sst = get_data_by_date(base_dir = base_dir,\n",
    "                            get_data_func = get_data_A,\n",
    "                            var_name = 'sst',\n",
    "                            start_date = (1982,1,1),\n",
    "                            end_date = (2021,12,31),\n",
    "                            specific_date=(month,1),\n",
    "                            is_mask=False)\n",
    "\n",
    "    ice = get_data_by_date(base_dir = base_dir,\n",
    "                            get_data_func = get_data_A,\n",
    "                            var_name = 'ice',\n",
    "                            start_date = (1982,1,1),\n",
    "                            end_date = (2021,12,31),\n",
    "                            specific_date=(month,1),\n",
    "                            is_mask=True)\n",
    "\n",
    "    ice_sst_arr = masking(np.array(sst[(month,1)]), np.array(ice[(month,1)]), fill_value=np.nan)\n",
    "    \n",
    "    return ice_sst_arr"
   ]
  },
  {
   "cell_type": "markdown",
   "id": "cafae64e-dc6a-47d9-92d9-3bb1f43b423f",
   "metadata": {},
   "source": [
    "year = 1982\n",
    "for ice_sst in ice_sst_arr :\n",
    "    save_img(ice_sst, f'/Volumes/T7/other_data/ice_img/7/{year}.jpg')\n",
    "    year += 1"
   ]
  },
  {
   "cell_type": "code",
   "execution_count": 104,
   "id": "fe63a4f3-6f04-47ed-bdf7-3edb426925d4",
   "metadata": {},
   "outputs": [],
   "source": [
    "def get_ice_dist(month, delete_normal=True):\n",
    "    ice = get_data_by_date(base_dir = base_dir,\n",
    "                            get_data_func = get_data_A,\n",
    "                            var_name = 'ice',\n",
    "                            start_date = (1982,1,1),\n",
    "                            end_date = (2021,12,31),\n",
    "                            specific_date=(month,1),\n",
    "                            is_mask=True)\n",
    "    ice_dist = np.sum(np.invert(np.array(ice[(month,1)])), axis=0).flatten()\n",
    "    normal_per = Counter(ice_dist)[0] / len(ice_dist) * 100 + Counter(ice_dist)[40] / len(ice_dist) * 100\n",
    "    anormal_per = round(100 - normal_per,1)\n",
    "    \n",
    "    if delete_normal == True :\n",
    "        ice_dist = np.delete(ice_dist, np.where(ice_dist==0))\n",
    "        ice_dist = np.delete(ice_dist, np.where(ice_dist==40))\n",
    "        bins = 39\n",
    "    else :\n",
    "        bins = 41\n",
    "\n",
    "    plt.hist(ice_dist, bins=bins)\n",
    "    plt.savefig(f'/Volumes/T7/intermediate output/monthly_ice_pixel_anormally_distribution/{month}(anormal_data = {anormal_per}%).jpg')\n",
    "    plt.close()\n",
    "    \n",
    "    return ice_dist"
   ]
  },
  {
   "cell_type": "code",
   "execution_count": 105,
   "id": "50cb79e1-3784-43bf-a65f-54c7d10db438",
   "metadata": {},
   "outputs": [
    {
     "data": {
      "application/vnd.jupyter.widget-view+json": {
       "model_id": "795591c993a04fe8b4685af34bfec989",
       "version_major": 2,
       "version_minor": 0
      },
      "text/plain": [
       "  0%|          | 0/40 [00:00<?, ?it/s]"
      ]
     },
     "metadata": {},
     "output_type": "display_data"
    },
    {
     "data": {
      "application/vnd.jupyter.widget-view+json": {
       "model_id": "bc852176fc604a249f982b1d821be9a0",
       "version_major": 2,
       "version_minor": 0
      },
      "text/plain": [
       "  0%|          | 0/40 [00:00<?, ?it/s]"
      ]
     },
     "metadata": {},
     "output_type": "display_data"
    },
    {
     "data": {
      "application/vnd.jupyter.widget-view+json": {
       "model_id": "86a5a22a917741398aac153741b8b2a3",
       "version_major": 2,
       "version_minor": 0
      },
      "text/plain": [
       "  0%|          | 0/40 [00:00<?, ?it/s]"
      ]
     },
     "metadata": {},
     "output_type": "display_data"
    },
    {
     "data": {
      "application/vnd.jupyter.widget-view+json": {
       "model_id": "d6b80bff77d7449f8512c0959afe5102",
       "version_major": 2,
       "version_minor": 0
      },
      "text/plain": [
       "  0%|          | 0/40 [00:00<?, ?it/s]"
      ]
     },
     "metadata": {},
     "output_type": "display_data"
    },
    {
     "data": {
      "application/vnd.jupyter.widget-view+json": {
       "model_id": "d45e548d1d9f4b28900719c48616cd99",
       "version_major": 2,
       "version_minor": 0
      },
      "text/plain": [
       "  0%|          | 0/40 [00:00<?, ?it/s]"
      ]
     },
     "metadata": {},
     "output_type": "display_data"
    },
    {
     "data": {
      "application/vnd.jupyter.widget-view+json": {
       "model_id": "7834d39f1d5a48f28084d0300783c276",
       "version_major": 2,
       "version_minor": 0
      },
      "text/plain": [
       "  0%|          | 0/40 [00:00<?, ?it/s]"
      ]
     },
     "metadata": {},
     "output_type": "display_data"
    },
    {
     "data": {
      "application/vnd.jupyter.widget-view+json": {
       "model_id": "b679ab358b824f50b4ec8f571dff6064",
       "version_major": 2,
       "version_minor": 0
      },
      "text/plain": [
       "  0%|          | 0/40 [00:00<?, ?it/s]"
      ]
     },
     "metadata": {},
     "output_type": "display_data"
    },
    {
     "data": {
      "application/vnd.jupyter.widget-view+json": {
       "model_id": "b44ae649f3854bafb3e66d6738b58318",
       "version_major": 2,
       "version_minor": 0
      },
      "text/plain": [
       "  0%|          | 0/40 [00:00<?, ?it/s]"
      ]
     },
     "metadata": {},
     "output_type": "display_data"
    },
    {
     "data": {
      "application/vnd.jupyter.widget-view+json": {
       "model_id": "6177e7dab313429fb38f5900cf6db4d2",
       "version_major": 2,
       "version_minor": 0
      },
      "text/plain": [
       "  0%|          | 0/40 [00:00<?, ?it/s]"
      ]
     },
     "metadata": {},
     "output_type": "display_data"
    },
    {
     "data": {
      "application/vnd.jupyter.widget-view+json": {
       "model_id": "f3c73989224549d4bfe9f5c884d395f8",
       "version_major": 2,
       "version_minor": 0
      },
      "text/plain": [
       "  0%|          | 0/40 [00:00<?, ?it/s]"
      ]
     },
     "metadata": {},
     "output_type": "display_data"
    },
    {
     "data": {
      "application/vnd.jupyter.widget-view+json": {
       "model_id": "832cdc674de94e388cc08298ae562f0a",
       "version_major": 2,
       "version_minor": 0
      },
      "text/plain": [
       "  0%|          | 0/40 [00:00<?, ?it/s]"
      ]
     },
     "metadata": {},
     "output_type": "display_data"
    },
    {
     "data": {
      "application/vnd.jupyter.widget-view+json": {
       "model_id": "3d5b6ed3c3da4d9c8d9b298daebfc843",
       "version_major": 2,
       "version_minor": 0
      },
      "text/plain": [
       "  0%|          | 0/40 [00:00<?, ?it/s]"
      ]
     },
     "metadata": {},
     "output_type": "display_data"
    }
   ],
   "source": [
    "for i in range(1,13):\n",
    "    ice_dist = get_ice_dist(i, delete_normal=True)"
   ]
  },
  {
   "cell_type": "code",
   "execution_count": 79,
   "id": "cda93ad4-16bc-4f46-b864-22249af33b58",
   "metadata": {},
   "outputs": [],
   "source": []
  },
  {
   "cell_type": "code",
   "execution_count": 86,
   "id": "d089065b-8cf6-4f82-921e-c7b66fe6803c",
   "metadata": {},
   "outputs": [
    {
     "data": {
      "text/plain": [
       "92.9"
      ]
     },
     "execution_count": 86,
     "metadata": {},
     "output_type": "execute_result"
    }
   ],
   "source": [
    "round(Counter(ice_dist)[0] / len(ice_dist) * 100 + Counter(ice_dist)[40] / len(ice_dist) * 100, 1)"
   ]
  },
  {
   "cell_type": "code",
   "execution_count": 106,
   "id": "54fe181d-14f2-4564-9e4c-89ad221eabdb",
   "metadata": {},
   "outputs": [
    {
     "data": {
      "text/plain": [
       "Counter({5: 2152,\n",
       "         4: 1869,\n",
       "         17: 4736,\n",
       "         37: 3918,\n",
       "         38: 4557,\n",
       "         39: 8468,\n",
       "         35: 1906,\n",
       "         33: 1488,\n",
       "         31: 1383,\n",
       "         32: 1337,\n",
       "         30: 1386,\n",
       "         29: 1306,\n",
       "         34: 1655,\n",
       "         16: 1270,\n",
       "         28: 1170,\n",
       "         36: 2474,\n",
       "         14: 1168,\n",
       "         23: 1155,\n",
       "         25: 859,\n",
       "         21: 1054,\n",
       "         11: 1124,\n",
       "         9: 1099,\n",
       "         8: 1256,\n",
       "         7: 1429,\n",
       "         12: 1033,\n",
       "         27: 1001,\n",
       "         26: 909,\n",
       "         24: 908,\n",
       "         22: 1020,\n",
       "         20: 956,\n",
       "         18: 958,\n",
       "         19: 1031,\n",
       "         13: 1117,\n",
       "         10: 1036,\n",
       "         15: 1146,\n",
       "         3: 1984,\n",
       "         6: 1434,\n",
       "         2: 3484,\n",
       "         1: 5114})"
      ]
     },
     "execution_count": 106,
     "metadata": {},
     "output_type": "execute_result"
    }
   ],
   "source": [
    "Counter(ice_dist)"
   ]
  },
  {
   "cell_type": "code",
   "execution_count": null,
   "id": "702d6b1b-71c2-440f-ab01-d67ec46048fe",
   "metadata": {},
   "outputs": [],
   "source": []
  }
 ],
 "metadata": {
  "kernelspec": {
   "display_name": "Python 3 (ipykernel)",
   "language": "python",
   "name": "python3"
  },
  "language_info": {
   "codemirror_mode": {
    "name": "ipython",
    "version": 3
   },
   "file_extension": ".py",
   "mimetype": "text/x-python",
   "name": "python",
   "nbconvert_exporter": "python",
   "pygments_lexer": "ipython3",
   "version": "3.8.13"
  }
 },
 "nbformat": 4,
 "nbformat_minor": 5
}
