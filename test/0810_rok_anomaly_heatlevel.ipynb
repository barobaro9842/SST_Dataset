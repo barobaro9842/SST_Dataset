{
 "cells": [
  {
   "cell_type": "code",
   "execution_count": 1,
   "id": "e98b15c0-fa9f-46e5-903c-7ac89a8759bf",
   "metadata": {},
   "outputs": [],
   "source": [
    "from netCDF4 import Dataset\n",
    "from netCDFfunc.utility import get_data_sequence, get_data_A, get_data_by_date, save_img, show_img, masking, cropping\n",
    "\n",
    "import numpy as np\n",
    "import matplotlib.pyplot as plt\n",
    "import matplotlib.cm as cm\n",
    "from matplotlib.colors import ListedColormap\n",
    "from mpl_toolkits.axes_grid1 import make_axes_locatable\n",
    "\n",
    "from collections import Counter\n",
    "import datetime as dt\n",
    "\n",
    "import math\n",
    "from tqdm.notebook import tqdm"
   ]
  },
  {
   "cell_type": "code",
   "execution_count": 2,
   "id": "a38364e6-51f8-42c6-8506-ca0749baa453",
   "metadata": {},
   "outputs": [],
   "source": [
    "base_dir = '/Volumes/T7/AVHRR_OI_SST/v2.1/'"
   ]
  },
  {
   "cell_type": "code",
   "execution_count": 3,
   "id": "c267b673-72dc-4e1a-8ee2-19aa6c3360c9",
   "metadata": {},
   "outputs": [],
   "source": [
    "def to_img(arr, output_path, time, lon=None, lat=None, figsize=(), save_img=False, show_img=False, is_anomaly = False, is_grade=False):\n",
    "    plt.style.use('default')\n",
    "    \n",
    "    if figsize == ():\n",
    "        x, y = arr.shape\n",
    "    else :\n",
    "        x,y = figsize\n",
    "        \n",
    "    x = x/60\n",
    "    y = y/60\n",
    "    \n",
    "    fig, ax = plt.subplots(figsize=(24,12))\n",
    "    gca_ax = plt.gca()\n",
    "    \n",
    "    if arr.dtype == np.float32:\n",
    "        np.place(arr, arr[:,:]==-999, np.nan)\n",
    "        \n",
    "    if is_anomaly == True :\n",
    "        cmap = cm.jet.copy()\n",
    "        vmax = 10.2\n",
    "        vmin = 0\n",
    "        \n",
    "    elif is_grade == True :\n",
    "        vmax = 5\n",
    "        vmin = 0\n",
    "        \n",
    "        grade_0 = np.array([179/256, 241/256, 255/256, 1])\n",
    "        grade_1 = np.array([255/256, 255/256, 128/256, 1])\n",
    "        grade_2 = np.array([255/256, 179/256, 53/256, 1])\n",
    "        grade_3 = np.array([255/256, 129/256, 0/256, 1])\n",
    "        grade_4 = np.array([203/256, 76/256, 1/256, 1])\n",
    "        grade_5 = np.array([153/256, 26/256, 0/256, 1])\n",
    "        new_cmap = np.array([grade_0, grade_1, grade_2, grade_3, grade_4, grade_5])\n",
    "\n",
    "        if 5 not in arr :\n",
    "            new_cmap = new_cmap[:-1]\n",
    "            if 4 not in arr :\n",
    "                new_cmap = new_cmap[:-1]\n",
    "                if 3 not in arr :\n",
    "                    new_cmap = new_cmap[:-1]\n",
    "                    if 2 not in arr :\n",
    "                        new_cmap = new_cmap[:-1]\n",
    "                        if 1 not in arr :\n",
    "                            new_cmap = new_cmap[:-1]\n",
    "\n",
    "            \n",
    "        cmap = ListedColormap(new_cmap)\n",
    "        \n",
    "    cmap.set_bad(color='gray')\n",
    "    cmap.set_under(color=np.array([250/256, 250/256, 250/256, 1]))\n",
    "    \n",
    "        \n",
    "    if type(lat) != np.ndarray or type(lon) != np.ndarray :\n",
    "        if is_anomaly == True : im = plt.imshow(arr, cmap=cmap, origin='lower', vmin=vmin, vmax=vmax)\n",
    "        elif is_grade == True : im = plt.imshow(arr, cmap=cmap, origin='lower', vmin=vmin)#, vmax=vmax)\n",
    "    else :\n",
    "        im = plt.imshow(arr, cmap=cmap, origin='lower', extent=[lon.min(), lon.max(), lat.min(), lat.max()], vmin=vmin, vmax=vmax) \n",
    "    \n",
    "        plt.xticks(range(0,361, 20))\n",
    "        plt.yticks(range(-80,81,20))\n",
    "        plt.grid(True, linestyle='--', color='black')\n",
    "        \n",
    "        x_labels = ['20°E','40°E','60°E','80°E','100°E','120°E','140°E','160°E','180°','160°W','140°W','120°W','100°W','80°W','60°W','40°W','20°W','0','20°E']\n",
    "        y_labels = ['80°S','60°S','40°S','20°S','0°','20°N','40°N','60°N','80°N']\n",
    "        ax.set_xticklabels(x_labels)\n",
    "        ax.set_yticklabels(y_labels)\n",
    "    \n",
    "    \n",
    "    \n",
    "    divider = make_axes_locatable(gca_ax)\n",
    "    cax = divider.append_axes(\"right\", size=\"3%\", pad=0.1)\n",
    "    if is_anomaly == True : \n",
    "        plt.colorbar(im, cax=cax)\n",
    "    \n",
    "    plt.text(-30,0.9,f'{time}',{'fontsize':30}, transform=plt.gca().transAxes, va='top', ha='left')\n",
    "    \n",
    "    if save_img == True :\n",
    "        plt.savefig(output_path, dpi=150, bbox_inches='tight')\n",
    "\n",
    "    if show_img == True :\n",
    "        plt.show()\n",
    "    plt.close()"
   ]
  },
  {
   "cell_type": "code",
   "execution_count": 4,
   "id": "cc38262a-2bb8-4b08-980a-b76530b0205e",
   "metadata": {},
   "outputs": [
    {
     "data": {
      "application/vnd.jupyter.widget-view+json": {
       "model_id": "495ed479c4a54e7d9756825fa51a0276",
       "version_major": 2,
       "version_minor": 0
      },
      "text/plain": [
       "  0%|          | 0/30 [00:00<?, ?it/s]"
      ]
     },
     "metadata": {},
     "output_type": "display_data"
    }
   ],
   "source": [
    "ds_in = get_data_by_date(base_dir=base_dir,\n",
    "                         get_data_func=get_data_A,\n",
    "                         var_name='sst',\n",
    "                         start_date=(1991,1,1),\n",
    "                         end_date=(2020,12,31))"
   ]
  },
  {
   "cell_type": "code",
   "execution_count": 5,
   "id": "7b3d3986-f299-4533-ab98-61c891f849ef",
   "metadata": {},
   "outputs": [
    {
     "data": {
      "application/vnd.jupyter.widget-view+json": {
       "model_id": "987061fff3fc49f99809f4feb46abe7c",
       "version_major": 2,
       "version_minor": 0
      },
      "text/plain": [
       "  0%|          | 0/30 [00:00<?, ?it/s]"
      ]
     },
     "metadata": {},
     "output_type": "display_data"
    }
   ],
   "source": [
    "ds_ice = get_data_by_date(base_dir=base_dir,\n",
    "                          get_data_func=get_data_A,\n",
    "                          var_name='ice',\n",
    "                          start_date=(1991,1,1),\n",
    "                          end_date=(2020,12,31),\n",
    "                          is_mask=True)"
   ]
  },
  {
   "cell_type": "code",
   "execution_count": 6,
   "id": "41614cb0-16d0-4677-90a3-65d7a231f65d",
   "metadata": {},
   "outputs": [
    {
     "data": {
      "application/vnd.jupyter.widget-view+json": {
       "model_id": "c362ae2c001743e3bb055b295c08c355",
       "version_major": 2,
       "version_minor": 0
      },
      "text/plain": [
       "  0%|          | 0/1 [00:00<?, ?it/s]"
      ]
     },
     "metadata": {},
     "output_type": "display_data"
    }
   ],
   "source": [
    "ds_sst = get_data_by_date(base_dir=base_dir,\n",
    "                            get_data_func=get_data_A,\n",
    "                            var_name='sst',\n",
    "                            start_date=(2020,1,1),\n",
    "                            end_date=(2020,12,31))"
   ]
  },
  {
   "cell_type": "code",
   "execution_count": 7,
   "id": "753c565d-528b-4bd8-ae98-351a5058727f",
   "metadata": {},
   "outputs": [
    {
     "data": {
      "application/vnd.jupyter.widget-view+json": {
       "model_id": "9722af0272bd496ca5a8ef976e718111",
       "version_major": 2,
       "version_minor": 0
      },
      "text/plain": [
       "0it [00:00, ?it/s]"
      ]
     },
     "metadata": {},
     "output_type": "display_data"
    }
   ],
   "source": [
    "days = [31,28,31,30,31,30,31,31,30,31,30,31]\n",
    "anomaly_chk = []\n",
    "heat_level_chk = []\n",
    "for month, day_len in tqdm(zip(range(1,13), days)):\n",
    "    for day in range(1,day_len+1):\n",
    "        pctl = np.percentile(ds_in[(month, day)], 90, axis=0)\n",
    "        pctl = cropping(pctl, 'rok')\n",
    "        np.place(pctl, pctl[:,:]==-999, np.nan)\n",
    "        \n",
    "        mean = np.mean(ds_in[(month, day)], axis=0)\n",
    "        mean = cropping(mean, 'rok')\n",
    "        np.place(mean, mean[:,:]==-999, np.nan)\n",
    "        \n",
    "        sst = ds_sst[(month, day)][0]\n",
    "        sst = cropping(sst, 'rok')\n",
    "        \n",
    "        ice_accum = np.sum(ds_ice[(month, day)], axis=0)\n",
    "        np.place(ice_accum, ice_accum[:,:] <= 30 * 0.15, False)\n",
    "        np.place(ice_accum, ice_accum[:,:] > 30 * 0.15, True)\n",
    "        ice_accum = ice_accum.astype(bool)\n",
    "        ice_accum = cropping(ice_accum, 'rok')\n",
    "        \n",
    "        anomaly = sst - mean\n",
    "        np.place(anomaly, anomaly[:,:]<0, 0)\n",
    "        anomaly = masking(anomaly, np.invert(ice_accum), fill_value=-1)\n",
    "        anomaly_chk.append(anomaly)\n",
    "        \n",
    "        diff = pctl - mean\n",
    "        \n",
    "        heat_level = np.ceil(anomaly / diff)\n",
    "        heat_level = masking(heat_level, np.invert(ice_accum), fill_value=-1)\n",
    "        heat_level_chk.append(heat_level)\n",
    "        np.place(heat_level, heat_level[:,:]>5, 5)\n",
    "        \n",
    "        date = dt.date(1000, month,day).strftime('%m%d')\n",
    "        \n",
    "        save_img(anomaly, f'/Volumes/T7/intermediate_output/rok_anomaly_heatlevel_criteria_change_2/anomaly_{date}', date)\n",
    "        save_img(heat_level, f'/Volumes/T7/intermediate_output/rok_anomaly_heatlevel_criteria_change_2/heat_level_{date}', date, is_grade=True)"
   ]
  },
  {
   "cell_type": "code",
   "execution_count": 8,
   "id": "f45fc267-4d79-4108-ad69-06bc69b810de",
   "metadata": {},
   "outputs": [
    {
     "data": {
      "image/png": "[encoded data removed]",
      "text/plain": [
       "<Figure size 640x480 with 1 Axes>"
      ]
     },
     "metadata": {},
     "output_type": "display_data"
    }
   ],
   "source": [
    "anomaly_dist = np.array(anomaly_chk).flatten()\n",
    "np.place(anomaly_dist, anomaly_dist <= 0, np.nan)\n",
    "\n",
    "plt.hist(anomaly_dist, bins=500, color='green')\n",
    "plt.show()"
   ]
  },
  {
   "cell_type": "code",
   "execution_count": 9,
   "id": "198dc1a9-bfc3-422f-97a6-8dbf40c2066e",
   "metadata": {},
   "outputs": [
    {
     "name": "stdout",
     "output_type": "stream",
     "text": [
      "\n",
      "min : 2.384185791015625e-07\n",
      "max : 9.108997344970703\n",
      "mean : 1.0773943662643433\n",
      "med : 0.961319088935852\n",
      "\n"
     ]
    }
   ],
   "source": [
    "print(f'''\n",
    "min : {np.nanmin(anomaly_dist)}\n",
    "max : {np.nanmax(anomaly_dist)}\n",
    "mean : {np.nanmean(anomaly_dist)}\n",
    "med : {np.nanmedian(anomaly_dist)}\n",
    "''')"
   ]
  },
  {
   "cell_type": "code",
   "execution_count": 10,
   "id": "ed5dbd11-40bb-4aa0-bc13-6580e7ec5efa",
   "metadata": {},
   "outputs": [
    {
     "data": {
      "image/png": "[encoded data removed]",
      "text/plain": [
       "<Figure size 640x480 with 1 Axes>"
      ]
     },
     "metadata": {},
     "output_type": "display_data"
    }
   ],
   "source": [
    "heat_level_dist = np.array(heat_level_chk).flatten()\n",
    "np.place(heat_level_dist, heat_level_dist <= 0, np.nan)\n",
    "\n",
    "plt.hist(heat_level_dist, bins=5, color='green')\n",
    "plt.show()"
   ]
  },
  {
   "cell_type": "code",
   "execution_count": 11,
   "id": "6cd75835-de9e-4eae-bad5-32dcbb440b7a",
   "metadata": {},
   "outputs": [
    {
     "data": {
      "text/plain": [
       "array([ 1.,  2.,  3.,  4.,  5., nan])"
      ]
     },
     "execution_count": 11,
     "metadata": {},
     "output_type": "execute_result"
    }
   ],
   "source": [
    "np.unique(heat_level_dist)"
   ]
  },
  {
   "cell_type": "code",
   "execution_count": null,
   "id": "ead8db62-3f77-4660-986a-7b73ec1f145f",
   "metadata": {},
   "outputs": [],
   "source": []
  }
 ],
 "metadata": {
  "kernelspec": {
   "display_name": "Python 3 (ipykernel)",
   "language": "python",
   "name": "python3"
  },
  "language_info": {
   "codemirror_mode": {
    "name": "ipython",
    "version": 3
   },
   "file_extension": ".py",
   "mimetype": "text/x-python",
   "name": "python",
   "nbconvert_exporter": "python",
   "pygments_lexer": "ipython3",
   "version": "3.8.13"
  }
 },
 "nbformat": 4,
 "nbformat_minor": 5
}
