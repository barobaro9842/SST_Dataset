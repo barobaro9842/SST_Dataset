{
 "cells": [
  {
   "cell_type": "code",
   "execution_count": 2,
   "id": "0b911cf9-b981-47ac-8997-9ee538615cda",
   "metadata": {},
   "outputs": [],
   "source": [
    "from netCDFfunc.preprocessing import get_data_A\n",
    "from netCDFfunc.utility import get_data_by_date, get_data_sequence, show_img\n",
    "\n",
    "import numpy as np\n",
    "from tqdm.notebook import tqdm"
   ]
  },
  {
   "cell_type": "code",
   "execution_count": 3,
   "id": "266acb28-a155-45f0-b7f7-888e8f7034fe",
   "metadata": {
    "tags": []
   },
   "outputs": [
    {
     "data": {
      "application/vnd.jupyter.widget-view+json": {
       "model_id": "9f0514bb12c1465d883bddbca59d68bb",
       "version_major": 2,
       "version_minor": 0
      },
      "text/plain": [
       "  0%|          | 0/31 [00:00<?, ?it/s]"
      ]
     },
     "metadata": {},
     "output_type": "display_data"
    }
   ],
   "source": [
    "start_date = (1981,9,1)\n",
    "end_date = (2011,8,31)\n",
    "result = get_data_by_date(get_data_A, 'sst', start_date, end_date)"
   ]
  },
  {
   "cell_type": "code",
   "execution_count": 4,
   "id": "dd3beecf-942d-425d-a538-6ea7713a5dfd",
   "metadata": {},
   "outputs": [],
   "source": [
    "import json"
   ]
  },
  {
   "cell_type": "code",
   "execution_count": 5,
   "id": "e70baf02-d8a3-4096-b5ad-de6a58026a4c",
   "metadata": {},
   "outputs": [],
   "source": [
    "def remap_keys(mapping):\n",
    "    return [{'key':k, 'value': v} for k, v in mapping.items()]"
   ]
  },
  {
   "cell_type": "code",
   "execution_count": 6,
   "id": "00434af4-a091-4b90-935b-853c2db5cee3",
   "metadata": {},
   "outputs": [
    {
     "data": {
      "application/vnd.jupyter.widget-view+json": {
       "model_id": "e229296e3ec44a73a311eb7709380b6e",
       "version_major": 2,
       "version_minor": 0
      },
      "text/plain": [
       "0it [00:00, ?it/s]"
      ]
     },
     "metadata": {},
     "output_type": "display_data"
    }
   ],
   "source": [
    "# mean\n",
    "\n",
    "mean_dic = dict()\n",
    "\n",
    "days = [31,28,31,30,31,30,31,31,30,31,30,31]\n",
    "\n",
    "for month, day_len in tqdm(zip(range(1,13), days)):\n",
    "    for day in range(1,day_len+1):\n",
    "        mean_arr = np.mean(np.array(result[(month, day)]), axis=0)\n",
    "        np.place(mean_arr, mean_arr[:,:] == -999, np.nan)\n",
    "        mean_dic[(month, day)] = mean_arr.tolist()"
   ]
  },
  {
   "cell_type": "code",
   "execution_count": 8,
   "id": "d702d970-d443-4b8f-81ab-d6894dbc110c",
   "metadata": {},
   "outputs": [
    {
     "data": {
      "application/vnd.jupyter.widget-view+json": {
       "model_id": "3b9a56f89d134a4793fa4c3bdcb676c6",
       "version_major": 2,
       "version_minor": 0
      },
      "text/plain": [
       "0it [00:00, ?it/s]"
      ]
     },
     "metadata": {},
     "output_type": "display_data"
    }
   ],
   "source": [
    "# cnt\n",
    "\n",
    "cnt_dic = dict()\n",
    "\n",
    "days = [31,28,31,30,31,30,31,31,30,31,30,31]\n",
    "\n",
    "for month, day_len in tqdm(zip(range(1,13), days)):\n",
    "    for day in range(1,day_len+1):\n",
    "        cnt_dic[(month, day)] = len(np.array(result[(month, day)]))"
   ]
  },
  {
   "cell_type": "code",
   "execution_count": 9,
   "id": "16cd39c6-c501-4859-a77c-6dba077afc29",
   "metadata": {},
   "outputs": [
    {
     "data": {
      "application/vnd.jupyter.widget-view+json": {
       "model_id": "97347bc550a94d618a542e46632bde3a",
       "version_major": 2,
       "version_minor": 0
      },
      "text/plain": [
       "0it [00:00, ?it/s]"
      ]
     },
     "metadata": {},
     "output_type": "display_data"
    }
   ],
   "source": [
    "# percentile\n",
    "\n",
    "percentile_dic = dict()\n",
    "\n",
    "days = [31,28,31,30,31,30,31,31,30,31,30,31]\n",
    "\n",
    "for month, day_len in tqdm(zip(range(1,13), days)):\n",
    "    for day in range(1,day_len+1):\n",
    "        max_arr = np.max(np.array(result[(month, day)]), axis=0)\n",
    "        np.place(max_arr, max_arr[:,:] == -999, np.nan)\n",
    "        percentile_dic[(month, day)] = (max_arr * 0.9).tolist()"
   ]
  },
  {
   "cell_type": "code",
   "execution_count": 10,
   "id": "df2a38d4-2d31-4faf-a6c2-8a374743404c",
   "metadata": {},
   "outputs": [],
   "source": [
    "cnt_dic_for_json = remap_keys(cnt_dic)\n",
    "\n",
    "with open('/Volumes/T7/other_data/cnt.json','w') as f:\n",
    "    json.dump(cnt_dic_for_json, f, indent=4)"
   ]
  },
  {
   "cell_type": "code",
   "execution_count": 11,
   "id": "09744229-4770-4bb2-b64e-70047c08665c",
   "metadata": {
    "tags": []
   },
   "outputs": [],
   "source": [
    "mean_dic_for_json = remap_keys(mean_dic)\n",
    "\n",
    "with open('/Volumes/T7/other_data/mean.json','w') as f:\n",
    "    json.dump(mean_dic_for_json, f, indent=4)"
   ]
  },
  {
   "cell_type": "code",
   "execution_count": 12,
   "id": "ad4880b2-193f-490e-9c13-42a8420cc40c",
   "metadata": {},
   "outputs": [],
   "source": [
    "percentile_dic_for_json = remap_keys(percentile_dic)\n",
    "\n",
    "with open('../data/percentile.json','w') as f:\n",
    "    json.dump(percentile_dic_for_json, f, indent=4)"
   ]
  },
  {
   "cell_type": "code",
   "execution_count": null,
   "id": "33bb4b70-f96d-42c5-91dd-461591f4b712",
   "metadata": {},
   "outputs": [],
   "source": []
  }
 ],
 "metadata": {
  "kernelspec": {
   "display_name": "Python 3 (ipykernel)",
   "language": "python",
   "name": "python3"
  },
  "language_info": {
   "codemirror_mode": {
    "name": "ipython",
    "version": 3
   },
   "file_extension": ".py",
   "mimetype": "text/x-python",
   "name": "python",
   "nbconvert_exporter": "python",
   "pygments_lexer": "ipython3",
   "version": "3.8.12"
  }
 },
 "nbformat": 4,
 "nbformat_minor": 5
}
