{
 "cells": [
  {
   "cell_type": "code",
   "execution_count": 1,
   "id": "6c570f85-33f1-4c4d-8db8-4f92740dc6fe",
   "metadata": {},
   "outputs": [],
   "source": [
    "from netCDF4 import Dataset\n",
    "from netCDFfunc.utility import get_data_sequence, get_data_A, get_data_by_date, save_img, show_img, masking, cropping\n",
    "\n",
    "import numpy as np\n",
    "import matplotlib.pyplot as plt\n",
    "import matplotlib.cm as cm\n",
    "from matplotlib.colors import ListedColormap\n",
    "from mpl_toolkits.axes_grid1 import make_axes_locatable\n",
    "\n",
    "from collections import Counter\n",
    "import datetime as dt\n",
    "\n",
    "import math\n",
    "from tqdm.notebook import tqdm"
   ]
  },
  {
   "cell_type": "code",
   "execution_count": 2,
   "id": "c0d55140-6809-4e70-b783-0269ff106d02",
   "metadata": {},
   "outputs": [],
   "source": [
    "base_dir = '/Volumes/T7/AVHRR_OI_SST/v2.1/'"
   ]
  },
  {
   "cell_type": "code",
   "execution_count": 12,
   "id": "3fdc15ef-99d0-4603-8082-5565bd7c989a",
   "metadata": {},
   "outputs": [],
   "source": [
    "def save_img(arr, output_path, time, lon=None, lat=None, figsize=(), show_img=False, is_grade=False):\n",
    "    if figsize == ():\n",
    "        x, y = arr.shape\n",
    "    else :\n",
    "        x,y = figsize\n",
    "        \n",
    "    x = x/60\n",
    "    y = y/60\n",
    "    \n",
    "    fig, ax = plt.subplots(figsize=(24,12))\n",
    "    gca_ax = plt.gca()\n",
    "    \n",
    "    if arr.dtype == np.float32:\n",
    "        np.place(arr, arr[:,:]==-999, np.nan)\n",
    "        \n",
    "    if is_grade == False :\n",
    "        cmap = cm.jet.copy()\n",
    "        vmax = 7.72\n",
    "        vmin = 0\n",
    "        \n",
    "    elif is_grade == True :\n",
    "        vmax = 5\n",
    "        vmin = 0\n",
    "        \n",
    "        ice = np.array([240/256, 240/256, 240/256, 1])\n",
    "        grade_0 = np.array([179/256, 241/256, 255/256, 1])\n",
    "        grade_1 = np.array([255/256, 255/256, 128/256, 1])\n",
    "        grade_2 = np.array([255/256, 179/256, 53/256, 1])\n",
    "        grade_3 = np.array([255/256, 129/256, 0/256, 1])\n",
    "        grade_4 = np.array([203/256, 76/256, 1/256, 1])\n",
    "        grade_5 = np.array([153/256, 26/256, 0/256, 1])\n",
    "        new_cmap = np.array([grade_0, grade_1, grade_2, grade_3, grade_4, grade_5])\n",
    "\n",
    "        if 5 not in arr :\n",
    "            new_cmap = new_cmap[:-1]\n",
    "            if 4 not in arr :\n",
    "                new_cmap = new_cmap[:-1]\n",
    "                if 3 not in arr :\n",
    "                    new_cmap = new_cmap[:-1]\n",
    "                    if 2 not in arr :\n",
    "                        new_cmap = new_cmap[:-1]\n",
    "                        if 1 not in arr :\n",
    "                            new_cmap = new_cmap[:-1]\n",
    "\n",
    "            \n",
    "        cmap = ListedColormap(new_cmap)\n",
    "        \n",
    "    cmap.set_bad(color='gray')\n",
    "    cmap.set_under(color=np.array([230/256, 230/256, 230/256, 1]))\n",
    "    \n",
    "        \n",
    "    if type(lat) != np.ndarray or type(lon) != np.ndarray :\n",
    "        if is_grade == False : im = plt.imshow(arr, cmap=cmap, origin='lower', vmin=vmin, vmax=vmax)\n",
    "        elif is_grade == True : im = plt.imshow(arr, cmap=cmap, origin='lower', vmin=vmin)#, vmax=vmax)\n",
    "    else :\n",
    "        im = plt.imshow(arr, cmap=cmap, origin='lower', extent=[lon.min(), lon.max(), lat.min(), lat.max()], vmin=vmin, vmax=vmax) \n",
    "    \n",
    "        plt.xticks(range(0,361, 20))\n",
    "        plt.yticks(range(-80,81,20))\n",
    "        plt.grid(True, linestyle='--', color='black')\n",
    "        \n",
    "        x_labels = ['20°E','40°E','60°E','80°E','100°E','120°E','140°E','160°E','180°','160°W','140°W','120°W','100°W','80°W','60°W','40°W','20°W','0','20°E']\n",
    "        y_labels = ['80°S','60°S','40°S','20°S','0°','20°N','40°N','60°N','80°N']\n",
    "        ax.set_xticklabels(x_labels)\n",
    "        ax.set_yticklabels(y_labels)\n",
    "    \n",
    "    divider = make_axes_locatable(gca_ax)\n",
    "    cax = divider.append_axes(\"right\", size=\"3%\", pad=0.1)\n",
    "    plt.colorbar(im, cax=cax)\n",
    "    plt.text(-30,0.9,f'{time}',{'fontsize':30}, transform=plt.gca().transAxes, va='top', ha='left')\n",
    "    plt.savefig(output_path, dpi=150, bbox_inches='tight')\n",
    "\n",
    "    if show_img == True :\n",
    "        plt.show()\n",
    "    plt.close()"
   ]
  },
  {
   "cell_type": "code",
   "execution_count": 4,
   "id": "483d0ffa-8cb8-4b68-a441-71ad62492f76",
   "metadata": {},
   "outputs": [
    {
     "data": {
      "application/vnd.jupyter.widget-view+json": {
       "model_id": "5ba8f38f08444193abe4213b66b6cb19",
       "version_major": 2,
       "version_minor": 0
      },
      "text/plain": [
       "  0%|          | 0/30 [00:00<?, ?it/s]"
      ]
     },
     "metadata": {},
     "output_type": "display_data"
    }
   ],
   "source": [
    "ds_in = get_data_by_date(base_dir=base_dir,\n",
    "                            get_data_func=get_data_A,\n",
    "                            var_name='sst',\n",
    "                            start_date=(1991,1,1),\n",
    "                            end_date=(2020,12,31))"
   ]
  },
  {
   "cell_type": "code",
   "execution_count": 5,
   "id": "c3881b83-9f34-45be-98a6-e38530d2fcd5",
   "metadata": {},
   "outputs": [
    {
     "data": {
      "application/vnd.jupyter.widget-view+json": {
       "model_id": "fa3da0a676584fd2a06b6895f403b501",
       "version_major": 2,
       "version_minor": 0
      },
      "text/plain": [
       "  0%|          | 0/30 [00:00<?, ?it/s]"
      ]
     },
     "metadata": {},
     "output_type": "display_data"
    }
   ],
   "source": [
    "ds_ice = get_data_by_date(base_dir=base_dir,\n",
    "                            get_data_func=get_data_A,\n",
    "                            var_name='ice',\n",
    "                            start_date=(1991,1,1),\n",
    "                            end_date=(2020,12,31),\n",
    "                          is_mask=True)"
   ]
  },
  {
   "cell_type": "code",
   "execution_count": 6,
   "id": "f60688c7-5ca3-4ece-91af-dd946f1f57a1",
   "metadata": {},
   "outputs": [
    {
     "data": {
      "application/vnd.jupyter.widget-view+json": {
       "model_id": "eb5e0e47dbd1422e9cc2e7d77a0a7a7d",
       "version_major": 2,
       "version_minor": 0
      },
      "text/plain": [
       "  0%|          | 0/1 [00:00<?, ?it/s]"
      ]
     },
     "metadata": {},
     "output_type": "display_data"
    }
   ],
   "source": [
    "ds_sst = get_data_by_date(base_dir=base_dir,\n",
    "                            get_data_func=get_data_A,\n",
    "                            var_name='sst',\n",
    "                            start_date=(2020,1,1),\n",
    "                            end_date=(2020,12,31))"
   ]
  },
  {
   "cell_type": "code",
   "execution_count": 13,
   "id": "970b14e5-2004-4ba3-b695-2e9a61bf992d",
   "metadata": {
    "tags": []
   },
   "outputs": [
    {
     "data": {
      "application/vnd.jupyter.widget-view+json": {
       "model_id": "6cd4e6744af84898b51f2ec2775f3d2e",
       "version_major": 2,
       "version_minor": 0
      },
      "text/plain": [
       "0it [00:00, ?it/s]"
      ]
     },
     "metadata": {},
     "output_type": "display_data"
    }
   ],
   "source": [
    "days = [31,28,31,30,31,30,31,31,30,31,30,31] #\n",
    "anomaly_chk = []\n",
    "heat_level_chk = []\n",
    "for month, day_len in tqdm(zip(range(1,13), days)):\n",
    "    for day in range(1,day_len+1):\n",
    "        pctl = np.percentile(ds_in[(month, day)], 90, axis=0)\n",
    "        pctl = cropping(pctl, 'rok')\n",
    "        np.place(pctl, pctl[:,:]==-999, np.nan)\n",
    "        \n",
    "        std = np.std(ds_in[(month, day)], axis=0)\n",
    "        std = cropping(std, 'rok')\n",
    "        \n",
    "        sst = ds_sst[(month, day)][0]\n",
    "        sst = cropping(sst, 'rok')\n",
    "        \n",
    "        ice_accum = np.sum(ds_ice[(month, day)], axis=0)\n",
    "        np.place(ice_accum, ice_accum[:,:] <= 30 * 0.15, False)\n",
    "        np.place(ice_accum, ice_accum[:,:] > 30 * 0.15, True)\n",
    "        ice_accum = ice_accum.astype(bool)\n",
    "        ice_accum = cropping(ice_accum, 'rok')\n",
    "        \n",
    "        anomaly = sst - pctl\n",
    "        np.place(anomaly, anomaly[:,:]<0, 0)\n",
    "        anomaly = masking(anomaly, np.invert(ice_accum), fill_value=-1)\n",
    "        anomaly_chk.append(anomaly)\n",
    "        \n",
    "        heat_level = np.ceil(anomaly / std)\n",
    "        heat_level = masking(heat_level, np.invert(ice_accum), fill_value=-1)\n",
    "        heat_level_chk.append(heat_level)\n",
    "        np.place(heat_level, heat_level[:,:]>5, 5)\n",
    "        \n",
    "        date = dt.date(1000, month,day).strftime('%m%d')\n",
    "        \n",
    "        save_img(anomaly, f'/Volumes/T7/intermediate_output/rok_anomaly_heatlevel_15percent_2/anomaly_{date}', date)\n",
    "        save_img(heat_level, f'/Volumes/T7/intermediate_output/rok_anomaly_heatlevel_15percent_2/heat_level_{date}', date, is_grade=True)"
   ]
  },
  {
   "cell_type": "code",
   "execution_count": 18,
   "id": "3c37dba7-1d19-422a-990a-b7f1a7a24f31",
   "metadata": {},
   "outputs": [
    {
     "data": {
      "text/plain": [
       "7.719006586074828"
      ]
     },
     "execution_count": 18,
     "metadata": {},
     "output_type": "execute_result"
    }
   ],
   "source": [
    "np.nanmax(anomaly_dist)"
   ]
  },
  {
   "cell_type": "code",
   "execution_count": 15,
   "id": "b92ae6a1-92cf-4650-9caf-e2692d48da5f",
   "metadata": {},
   "outputs": [
    {
     "data": {
      "image/png": "[encoded data removed]",
      "text/plain": [
       "<Figure size 432x288 with 1 Axes>"
      ]
     },
     "metadata": {
      "needs_background": "light"
     },
     "output_type": "display_data"
    }
   ],
   "source": [
    "anomaly_dist = np.array(anomaly_chk).flatten()\n",
    "np.place(anomaly_dist, anomaly_dist <= 0, np.nan)\n",
    "\n",
    "plt.hist(anomaly_dist, bins=100)\n",
    "plt.show()"
   ]
  },
  {
   "cell_type": "code",
   "execution_count": 16,
   "id": "6fd9bc44-89c5-48d9-9d0b-9d87aa5a59a5",
   "metadata": {},
   "outputs": [
    {
     "data": {
      "image/png": "[encoded data removed]",
      "text/plain": [
       "<Figure size 432x288 with 1 Axes>"
      ]
     },
     "metadata": {
      "needs_background": "light"
     },
     "output_type": "display_data"
    }
   ],
   "source": [
    "heat_level_dist = np.array(heat_level_chk).flatten()\n",
    "np.place(heat_level_dist, heat_level_dist <= 0, np.nan)\n",
    "\n",
    "plt.hist(heat_level_dist, bins=5)\n",
    "plt.show()"
   ]
  },
  {
   "cell_type": "code",
   "execution_count": 10,
   "id": "db11e531-3dd1-474c-b956-213e10a28a89",
   "metadata": {},
   "outputs": [
    {
     "data": {
      "text/plain": [
       "array([ 1.,  2.,  3.,  4.,  5., nan])"
      ]
     },
     "execution_count": 10,
     "metadata": {},
     "output_type": "execute_result"
    }
   ],
   "source": [
    "np.unique(heat_level_dist)"
   ]
  },
  {
   "cell_type": "code",
   "execution_count": null,
   "id": "af99fe1d-5bab-47ca-bdf2-58aa7a69052c",
   "metadata": {},
   "outputs": [],
   "source": []
  }
 ],
 "metadata": {
  "kernelspec": {
   "display_name": "Python 3 (ipykernel)",
   "language": "python",
   "name": "python3"
  },
  "language_info": {
   "codemirror_mode": {
    "name": "ipython",
    "version": 3
   },
   "file_extension": ".py",
   "mimetype": "text/x-python",
   "name": "python",
   "nbconvert_exporter": "python",
   "pygments_lexer": "ipython3",
   "version": "3.8.13"
  }
 },
 "nbformat": 4,
 "nbformat_minor": 5
}
