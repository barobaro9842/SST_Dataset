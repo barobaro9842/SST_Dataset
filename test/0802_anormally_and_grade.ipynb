{
 "cells": [
  {
   "cell_type": "code",
   "execution_count": 1,
   "id": "cbc63adc-46af-4207-a7e7-4b40e8a6e2d9",
   "metadata": {
    "tags": []
   },
   "outputs": [],
   "source": [
    "from netCDF4 import Dataset\n",
    "from netCDFfunc.utility import get_data_sequence, get_data_A, get_data_by_date, save_img, show_img, masking, test_data_write\n",
    "\n",
    "import numpy as np\n",
    "import matplotlib.pyplot as plt\n",
    "import os"
   ]
  },
  {
   "cell_type": "code",
   "execution_count": 2,
   "id": "f4380138-3f47-4781-931f-41261e384350",
   "metadata": {},
   "outputs": [],
   "source": [
    "base_dir = '/Volumes/T7/AVHRR_OI_SST/v2.1/'"
   ]
  },
  {
   "cell_type": "markdown",
   "id": "042fd734-b64a-44d9-98f5-8d7d634cf5f0",
   "metadata": {},
   "source": [
    "mask_list = get_data_sequence(base_dir = base_dir,\n",
    "                          get_data_func = get_data_A,\n",
    "                          var_name = 'ice',\n",
    "                          start_date = (1981,9,1),\n",
    "                          end_date = (2021,12,31),\n",
    "                          is_mask=True)"
   ]
  },
  {
   "cell_type": "markdown",
   "id": "9d3d5272-b6d1-4f5f-a357-b557cee72827",
   "metadata": {},
   "source": [
    "mask_arr = np.full(mask_list[0].shape, False)\n",
    "for mask in mask_list :\n",
    "    mask_arr = np.ma.array(mask_arr, mask = np.invert(mask))\n",
    "    mask_arr = mask_arr.filled(fill_value = True)"
   ]
  },
  {
   "cell_type": "markdown",
   "id": "1a843f24-30dc-4c80-9009-4f7434ac924a",
   "metadata": {},
   "source": [
    "ds_new.close()"
   ]
  },
  {
   "cell_type": "markdown",
   "id": "3aaa64d0-10d0-4c37-a944-e48aadd021d2",
   "metadata": {},
   "source": [
    "base_dir = '/Volumes/T7/new_data/utility_data/'\n",
    "file_name = 'accumulated_ice_mask'\n",
    "\n",
    "nc_path = os.path.join(base_dir,file_name+'.nc')\n",
    "#img_path = os.path.join(base_dir, 'img' ,file_name+'.jpg')\n",
    "\n",
    "ds_new = Dataset(nc_path, 'w', format='NETCDF4')\n",
    "title = '40 years(1981~2021) ice mask data'\n",
    "comment = 'accumulated mask of ice mask for 40 years'\n",
    "\n",
    "grid_size = 0.25\n",
    "\n",
    "\n",
    "data = mask_arr\n",
    "\n",
    "variable_name = 'ice'\n",
    "variable_standard_name = 'accumulated ice mask'\n",
    "variable_unit = ''\n",
    "variable_dtype = np.intc\n",
    "variable_values = data\n",
    "\n",
    "ds_new = test_data_write(ds_new, title, comment, grid_size,\n",
    "                         variable_name, \n",
    "                         variable_standard_name, \n",
    "                         variable_unit, \n",
    "                         variable_dtype, \n",
    "                         variable_values)\n",
    "\n",
    "#save_img(ds_new.variables['avgsst'][:].data[0], img_path)\n",
    "\n",
    "ds_new.close()"
   ]
  },
  {
   "cell_type": "code",
   "execution_count": 53,
   "id": "fc83ed9e-f62e-41ba-b4cf-1faca1a4e8fe",
   "metadata": {},
   "outputs": [],
   "source": [
    "ice_mask = Dataset('/Volumes/T7/new_data/utility_data/accumulated_ice_mask.nc', 'r', format='NETCDF4')\n",
    "ice = ice_mask.variables['ice'][:].data[0]"
   ]
  },
  {
   "cell_type": "markdown",
   "id": "cb0a08fe-8585-4741-bdf4-4d767a820b26",
   "metadata": {
    "jupyter": {
     "outputs_hidden": true
    },
    "tags": []
   },
   "source": [
    "for year in range(1982, 2021):\n",
    "    value = get_data_sequence(base_dir = base_dir,\n",
    "                              get_data_func = get_data_A,\n",
    "                              var_name = 'sst',\n",
    "                              start_date = (year,1,1),\n",
    "                              end_date = (year,12,31))\n",
    "    \n",
    "    masked_value = masking(value, ice)\n",
    "    distribution = masked_value.flatten()\n",
    "    np.place(distribution, distribution == -999, np.nan)\n",
    "    min_value = np.nanmin(distribution)\n",
    "    max_value = np.nanmax(distribution)\n",
    "    plt.hist(distribution, bins=100)\n",
    "    plt.savefig(f'/Volumes/T7/intermediate output/ice_masked_distribution/{year}_min=({min_value:.2f})&max=({max_value:.2f}).jpg', dpi=100)\n",
    "    plt.close()"
   ]
  },
  {
   "cell_type": "code",
   "execution_count": 54,
   "id": "50a9a3b4-e9d5-4237-870f-b9846063db79",
   "metadata": {},
   "outputs": [],
   "source": [
    "ds_average = Dataset('/Volumes/T7/new_data/processed_data_example/nc/1_30_years_dataset_1_global.nc', 'r', format='NETCDF4')\n",
    "avg = ds_average.variables['avgsst'][:].data[0]"
   ]
  },
  {
   "cell_type": "code",
   "execution_count": 55,
   "id": "b899a405-8d36-4772-9ad1-cea0f38293bd",
   "metadata": {},
   "outputs": [],
   "source": [
    "ds_pctl = Dataset('/Volumes/T7/new_data/processed_data_example/nc/7_30_years_dataset_1_90_percentile.nc', 'r', format='NETCDF4')\n",
    "pctl = ds_pctl.variables['90pctlSST'][:].data[0]"
   ]
  },
  {
   "cell_type": "code",
   "execution_count": 169,
   "id": "bcca1f6c-0780-433a-8b39-2d0c86441928",
   "metadata": {},
   "outputs": [],
   "source": [
    "ds_std = Dataset('/Volumes/T7/new_data/processed_data_example/nc/19_30_years_dataset_1_global_std.nc', 'r', format='NETCDF4')\n",
    "std = ds_std.variables['std'][:].data[0]"
   ]
  },
  {
   "cell_type": "code",
   "execution_count": 57,
   "id": "cf3240de-02fc-49e6-8a16-eb99f56791a8",
   "metadata": {},
   "outputs": [
    {
     "data": {
      "application/vnd.jupyter.widget-view+json": {
       "model_id": "3a77e66acde14200ab7c90985ef51fef",
       "version_major": 2,
       "version_minor": 0
      },
      "text/plain": [
       "  0%|          | 0/2 [00:00<?, ?it/s]"
      ]
     },
     "metadata": {},
     "output_type": "display_data"
    }
   ],
   "source": [
    "ds_sst = get_data_by_date(base_dir=base_dir,\n",
    "                          get_data_func=get_data_A,\n",
    "                          var_name='sst',\n",
    "                          start_date=(2020,1,1),\n",
    "                          end_date=(2021,12,31),\n",
    "                          specific_year=2021,\n",
    "                          specific_date=(1,1))"
   ]
  },
  {
   "cell_type": "code",
   "execution_count": 160,
   "id": "4eb8e72b-72ae-48df-bd90-98f9ec413136",
   "metadata": {},
   "outputs": [],
   "source": [
    "sst = ds_sst[(1,1)][0]"
   ]
  },
  {
   "cell_type": "code",
   "execution_count": 170,
   "id": "5cfe3a91-caf6-4272-afe3-e72383c850d0",
   "metadata": {
    "tags": []
   },
   "outputs": [],
   "source": [
    "anormally = (sst - pctl)"
   ]
  },
  {
   "cell_type": "code",
   "execution_count": 171,
   "id": "106ac6cf-41a9-405c-b98f-96957685302e",
   "metadata": {},
   "outputs": [],
   "source": [
    "lat_range = (440, 572)\n",
    "lon_range = (440, 600)\n",
    "anormally = anormally[440:572, 440:600]\n",
    "std = std[440:572, 440:600]"
   ]
  },
  {
   "cell_type": "code",
   "execution_count": 172,
   "id": "be3def7c-877a-46f7-aa1a-0a5cf28de87d",
   "metadata": {},
   "outputs": [],
   "source": [
    "import matplotlib.pyplot as plt\n",
    "import matplotlib.cm as cm\n",
    "from matplotlib.colors import ListedColormap\n",
    "from mpl_toolkits.axes_grid1 import make_axes_locatable"
   ]
  },
  {
   "cell_type": "code",
   "execution_count": 173,
   "id": "2c6c3d33-fc6a-4cd7-b933-5c6544fee196",
   "metadata": {},
   "outputs": [],
   "source": [
    "lat = ds_std.variables['lat'][:].data\n",
    "lon = ds_std.variables['lon'][:].data"
   ]
  },
  {
   "cell_type": "markdown",
   "id": "e88d9fc5-f4b4-4032-9276-319f8bf04b77",
   "metadata": {},
   "source": [
    "def show_img(arr, lat, lon):\n",
    "    fig, ax = plt.subplots(figsize=(24,12))\n",
    "    gca_ax = plt.gca()\n",
    "    \n",
    "    if arr.dtype == np.float32:\n",
    "        np.place(arr, arr[:,:]==-999, np.nan)\n",
    "    \n",
    "    cmap = cm.jet.copy()\n",
    "    cmap.set_bad(color='gray')\n",
    "    im = plt.imshow(arr, cmap=cmap, origin='lower', extent=[lon.min(), lon.max(), lat.min(), lat.max()])\n",
    "    \n",
    "    plt.xticks(range(0,361, 20))\n",
    "    plt.yticks(range(-80,81,20))\n",
    "    plt.grid(True, linestyle='--', color='black')\n",
    "    \n",
    "    x_labels = ['20°E','40°E','60°E','80°E','100°E','120°E','140°E','160°E','180°','160°W','140°W','120°W','100°W','80°W','60°W','40°W','20°W','0','20°E']\n",
    "    y_labels = ['80°S','60°S','40°S','20°S','0°','20°N','40°N','60°N','80°N']\n",
    "    ax.set_xticklabels(x_labels)\n",
    "    ax.set_yticklabels(y_labels)\n",
    "    \n",
    "    \n",
    "    divider = make_axes_locatable(gca_ax)\n",
    "    cax = divider.append_axes(\"right\", size=\"3%\", pad=0.1)\n",
    "    plt.colorbar(im, cax=cax)\n",
    "    \n",
    "    plt.show()\n",
    "    plt.close()"
   ]
  },
  {
   "cell_type": "code",
   "execution_count": 174,
   "id": "4cce3598-ef07-4a0a-b707-d9ae3c40413f",
   "metadata": {},
   "outputs": [],
   "source": [
    "np.place(anormally, anormally[:,:] < 0, 0)"
   ]
  },
  {
   "cell_type": "code",
   "execution_count": 175,
   "id": "fa4ed59b-45d0-4e40-acbd-51a17f833158",
   "metadata": {},
   "outputs": [
    {
     "data": {
      "application/vnd.jupyter.widget-view+json": {
       "model_id": "8ed00898d2f14942b5b2cde5b6ce91b9",
       "version_major": 2,
       "version_minor": 0
      },
      "text/plain": [
       "  0%|          | 0/2 [00:00<?, ?it/s]"
      ]
     },
     "metadata": {},
     "output_type": "display_data"
    }
   ],
   "source": [
    "ice = get_data_by_date(base_dir=base_dir,\n",
    "                          get_data_func=get_data_A,\n",
    "                          var_name='ice',\n",
    "                          start_date=(2020,1,1),\n",
    "                          end_date=(2021,12,31),\n",
    "                          specific_year=2021,\n",
    "                          specific_date=(1,1),\n",
    "                          is_mask=True)"
   ]
  },
  {
   "cell_type": "code",
   "execution_count": 176,
   "id": "8f4fff1a-41b6-47a1-8a7d-cd8066c0f263",
   "metadata": {},
   "outputs": [
    {
     "name": "stderr",
     "output_type": "stream",
     "text": [
      "/var/folders/3k/05vd5sp53wbgspztyxv0ksfm0000gn/T/ipykernel_81992/3393926652.py:1: RuntimeWarning: invalid value encountered in floor_divide\n",
      "  grade = anormally // std\n"
     ]
    }
   ],
   "source": [
    "grade = anormally // std"
   ]
  },
  {
   "cell_type": "code",
   "execution_count": 177,
   "id": "4bb137c6-5001-44d7-aadd-2b24e2c3393a",
   "metadata": {},
   "outputs": [
    {
     "data": {
      "text/plain": [
       "(132, 160)"
      ]
     },
     "execution_count": 177,
     "metadata": {},
     "output_type": "execute_result"
    }
   ],
   "source": [
    "grade.shape"
   ]
  },
  {
   "cell_type": "code",
   "execution_count": 178,
   "id": "03506321-89bb-4f71-8599-4c7bd6301ac3",
   "metadata": {},
   "outputs": [
    {
     "data": {
      "text/plain": [
       "(720, 1440)"
      ]
     },
     "execution_count": 178,
     "metadata": {},
     "output_type": "execute_result"
    }
   ],
   "source": [
    "ice_mask = ice[(1,1)][0]\n",
    "ice_mask.shape"
   ]
  },
  {
   "cell_type": "code",
   "execution_count": 73,
   "id": "f1e95ef1-3859-4a69-aaac-3c63cbd6674f",
   "metadata": {},
   "outputs": [],
   "source": [
    "masked_grade = masking(grade, np.invert(ice_mask), fill_value=-1)"
   ]
  },
  {
   "cell_type": "code",
   "execution_count": 179,
   "id": "5be7c828-72eb-49a1-b674-3096965338b0",
   "metadata": {},
   "outputs": [],
   "source": [
    "np.place(masked_grade, masked_grade[:,:] > 5, 5)"
   ]
  },
  {
   "cell_type": "code",
   "execution_count": 180,
   "id": "b7254ed5-81c7-4c15-baeb-387397e24f72",
   "metadata": {},
   "outputs": [],
   "source": [
    "np.place(grade, grade[:,:] > 5, 5)"
   ]
  },
  {
   "cell_type": "code",
   "execution_count": 193,
   "id": "871f275f-6224-450d-bc33-9a5ead32e4e6",
   "metadata": {},
   "outputs": [],
   "source": [
    "def show_img(arr, lat=None, lon=None, grade=False):\n",
    "#    x, y = arr.shape[1] / 30, arr.shape[0] / 30\n",
    "    fig, ax = plt.subplots(figsize=(24,12))\n",
    "    gca_ax = plt.gca()\n",
    "    \n",
    "    if arr.dtype == np.float32:\n",
    "        np.place(arr, arr[:,:]==-999, np.nan)\n",
    "    \n",
    "    if grade == False :\n",
    "        cmap = cm.jet.copy()\n",
    "        \n",
    "    elif grade == True :\n",
    "        if -1 in arr :\n",
    "            cmap = cm.get_cmap('jet', 6)\n",
    "            new_cmap = cmap(np.linspace(0,1,6))\n",
    "            #new_cmap[0] = np.array([240/256, 240/256, 240/256, 1])\n",
    "            new_cmap[0] = np.array([179/256, 241/256, 255/256, 1])\n",
    "            new_cmap[1] = np.array([255/256, 255/256, 128/256, 1])\n",
    "            new_cmap[2] = np.array([255/256, 179/256, 53/256, 1])\n",
    "            new_cmap[3] = np.array([255/256, 129/256, 0/256, 1])\n",
    "            new_cmap[4] = np.array([203/256, 76/256, 1/256, 1])\n",
    "            new_cmap[5] = np.array([153/256, 26/256, 0/256, 1])\n",
    "        elif -1 not in arr :\n",
    "            cmap = cm.get_cmap('jet', 7)\n",
    "            new_cmap = cmap(np.linspace(0,1,7))\n",
    "            new_cmap[0] = np.array([240/256, 240/256, 240/256, 1])\n",
    "            new_cmap[1] = np.array([179/256, 241/256, 255/256, 1])\n",
    "            new_cmap[2] = np.array([255/256, 255/256, 128/256, 1])\n",
    "            new_cmap[3] = np.array([255/256, 179/256, 53/256, 1])\n",
    "            new_cmap[4] = np.array([255/256, 129/256, 0/256, 1])\n",
    "            new_cmap[5] = np.array([203/256, 76/256, 1/256, 1])\n",
    "            new_cmap[6] = np.array([153/256, 26/256, 0/256, 1])\n",
    "        cmap = ListedColormap(new_cmap)\n",
    "        \n",
    "    cmap.set_bad(color='gray')\n",
    "        \n",
    "    if type(lat) != np.ndarray or type(lon) != np.ndarray :\n",
    "        im = plt.imshow(arr, cmap=cmap, origin='lower')\n",
    "    else :\n",
    "        im = plt.imshow(arr, cmap=cmap, origin='lower', extent=[lon.min(), lon.max(), lat.min(), lat.max()])\n",
    "    \n",
    "        plt.xticks(range(0,361, 20))\n",
    "        plt.yticks(range(-80,81,20))\n",
    "        plt.grid(True, linestyle='--', color='black')\n",
    "        \n",
    "        x_labels = ['20°E','40°E','60°E','80°E','100°E','120°E','140°E','160°E','180°','160°W','140°W','120°W','100°W','80°W','60°W','40°W','20°W','0','20°E']\n",
    "        y_labels = ['80°S','60°S','40°S','20°S','0°','20°N','40°N','60°N','80°N']\n",
    "        ax.set_xticklabels(x_labels)\n",
    "        ax.set_yticklabels(y_labels)\n",
    "    \n",
    "    \n",
    "    divider = make_axes_locatable(gca_ax)\n",
    "    cax = divider.append_axes(\"right\", size=\"3%\", pad=0.1)\n",
    "    plt.colorbar(im, cax=cax)\n",
    "    \n",
    "    plt.show()\n",
    "    plt.close()"
   ]
  },
  {
   "cell_type": "code",
   "execution_count": 194,
   "id": "5a5750fa-9b2c-4946-a6bb-0cdab23903be",
   "metadata": {},
   "outputs": [
    {
     "data": {
      "image/png": "[encoded data removed]",
      "text/plain": [
       "<Figure size 1728x864 with 2 Axes>"
      ]
     },
     "metadata": {
      "needs_background": "light"
     },
     "output_type": "display_data"
    }
   ],
   "source": [
    "show_img(grade, grade=True)"
   ]
  },
  {
   "cell_type": "code",
   "execution_count": null,
   "id": "e4968f78-14d6-40eb-9828-cc83ec88b1a6",
   "metadata": {},
   "outputs": [
    {
     "ename": "ValueError",
     "evalue": "The truth value of an array with more than one element is ambiguous. Use a.any() or a.all()",
     "output_type": "error",
     "traceback": [
      "\u001b[0;31m---------------------------------------------------------------------------\u001b[0m",
      "\u001b[0;31mValueError\u001b[0m                                Traceback (most recent call last)",
      "\u001b[0;32m/var/folders/3k/05vd5sp53wbgspztyxv0ksfm0000gn/T/ipykernel_81992/1664927814.py\u001b[0m in \u001b[0;36m<module>\u001b[0;34m\u001b[0m\n\u001b[0;32m----> 1\u001b[0;31m \u001b[0msave_img\u001b[0m\u001b[0;34m(\u001b[0m\u001b[0manormally\u001b[0m\u001b[0;34m,\u001b[0m \u001b[0moutput_path\u001b[0m\u001b[0;34m=\u001b[0m\u001b[0;34m'/Volumes/T7/new_data/processed_data_example/img/2_0_anormally_sample_2.jpg'\u001b[0m\u001b[0;34m,\u001b[0m \u001b[0mlat\u001b[0m\u001b[0;34m=\u001b[0m\u001b[0mlat\u001b[0m\u001b[0;34m,\u001b[0m \u001b[0mlon\u001b[0m\u001b[0;34m=\u001b[0m\u001b[0mlon\u001b[0m\u001b[0;34m)\u001b[0m\u001b[0;34m\u001b[0m\u001b[0;34m\u001b[0m\u001b[0m\n\u001b[0m",
      "\u001b[0;32m/Volumes/GoogleDrive-111094423641400606317/My Drive/projects/22_07_SST_Dataset/test/netCDFfunc/utility.py\u001b[0m in \u001b[0;36msave_img\u001b[0;34m(arr, output_path, lon, lat, figsize, show_img)\u001b[0m\n\u001b[1;32m     94\u001b[0m     \u001b[0;32mif\u001b[0m \u001b[0mfigsize\u001b[0m \u001b[0;34m==\u001b[0m \u001b[0;34m(\u001b[0m\u001b[0;34m)\u001b[0m\u001b[0;34m:\u001b[0m\u001b[0;34m\u001b[0m\u001b[0;34m\u001b[0m\u001b[0m\n\u001b[1;32m     95\u001b[0m         \u001b[0mx\u001b[0m\u001b[0;34m,\u001b[0m \u001b[0my\u001b[0m \u001b[0;34m=\u001b[0m \u001b[0marr\u001b[0m\u001b[0;34m.\u001b[0m\u001b[0mshape\u001b[0m\u001b[0;34m\u001b[0m\u001b[0;34m\u001b[0m\u001b[0m\n\u001b[0;32m---> 96\u001b[0;31m     \u001b[0;32melse\u001b[0m \u001b[0;34m:\u001b[0m\u001b[0;34m\u001b[0m\u001b[0;34m\u001b[0m\u001b[0m\n\u001b[0m\u001b[1;32m     97\u001b[0m         \u001b[0mx\u001b[0m\u001b[0;34m,\u001b[0m\u001b[0my\u001b[0m \u001b[0;34m=\u001b[0m \u001b[0mfigsize\u001b[0m\u001b[0;34m\u001b[0m\u001b[0;34m\u001b[0m\u001b[0m\n\u001b[1;32m     98\u001b[0m \u001b[0;34m\u001b[0m\u001b[0m\n",
      "\u001b[0;31mValueError\u001b[0m: The truth value of an array with more than one element is ambiguous. Use a.any() or a.all()"
     ]
    },
    {
     "data": {
      "image/png": "[encoded data removed]",
      "text/plain": [
       "<Figure size 1728x864 with 1 Axes>"
      ]
     },
     "metadata": {
      "needs_background": "light"
     },
     "output_type": "display_data"
    }
   ],
   "source": [
    "save_img(anormally, output_path='/Volumes/T7/new_data/processed_data_example/img/2_0_anormally_sample_2.jpg', lat=lat, lon=lon)"
   ]
  },
  {
   "cell_type": "code",
   "execution_count": null,
   "id": "b39c5eb4-3b39-48dd-b656-bbf600274b39",
   "metadata": {},
   "outputs": [],
   "source": []
  }
 ],
 "metadata": {
  "kernelspec": {
   "display_name": "Python 3 (ipykernel)",
   "language": "python",
   "name": "python3"
  },
  "language_info": {
   "codemirror_mode": {
    "name": "ipython",
    "version": 3
   },
   "file_extension": ".py",
   "mimetype": "text/x-python",
   "name": "python",
   "nbconvert_exporter": "python",
   "pygments_lexer": "ipython3",
   "version": "3.8.13"
  }
 },
 "nbformat": 4,
 "nbformat_minor": 5
}
