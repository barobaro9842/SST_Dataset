{
 "cells": [
  {
   "cell_type": "code",
   "execution_count": 1,
   "id": "09bc6872-3ac6-4d5a-a12a-d8ae0daa6b7a",
   "metadata": {},
   "outputs": [],
   "source": [
    "from netCDF4 import Dataset\n",
    "import numpy as np\n",
    "from tqdm.notebook import tqdm\n",
    "import datetime as dt"
   ]
  },
  {
   "cell_type": "code",
   "execution_count": null,
   "id": "8cb88016-e66d-4647-b807-15209b1d28cc",
   "metadata": {},
   "outputs": [
    {
     "data": {
      "application/vnd.jupyter.widget-view+json": {
       "model_id": "3d987896872e42f99cf4dc18aebefa8c",
       "version_major": 2,
       "version_minor": 0
      },
      "text/plain": [
       "  0%|          | 0/31 [00:00<?, ?it/s]"
      ]
     },
     "metadata": {},
     "output_type": "display_data"
    },
    {
     "data": {
      "application/vnd.jupyter.widget-view+json": {
       "model_id": "238140537c3040ac80ae01c18a8e2cab",
       "version_major": 2,
       "version_minor": 0
      },
      "text/plain": [
       "  0%|          | 0/28 [00:00<?, ?it/s]"
      ]
     },
     "metadata": {},
     "output_type": "display_data"
    },
    {
     "data": {
      "application/vnd.jupyter.widget-view+json": {
       "model_id": "6a60cf29f09d47d594e4ede8a08173cb",
       "version_major": 2,
       "version_minor": 0
      },
      "text/plain": [
       "  0%|          | 0/31 [00:00<?, ?it/s]"
      ]
     },
     "metadata": {},
     "output_type": "display_data"
    },
    {
     "data": {
      "application/vnd.jupyter.widget-view+json": {
       "model_id": "6806614a352d43d9b28d9b634a11b1fc",
       "version_major": 2,
       "version_minor": 0
      },
      "text/plain": [
       "  0%|          | 0/30 [00:00<?, ?it/s]"
      ]
     },
     "metadata": {},
     "output_type": "display_data"
    },
    {
     "data": {
      "application/vnd.jupyter.widget-view+json": {
       "model_id": "aa61cc35e4344c4e9578c6b3496534ac",
       "version_major": 2,
       "version_minor": 0
      },
      "text/plain": [
       "  0%|          | 0/31 [00:00<?, ?it/s]"
      ]
     },
     "metadata": {},
     "output_type": "display_data"
    },
    {
     "data": {
      "application/vnd.jupyter.widget-view+json": {
       "model_id": "07140b1cd6ad437192f312c6f24638ba",
       "version_major": 2,
       "version_minor": 0
      },
      "text/plain": [
       "  0%|          | 0/30 [00:00<?, ?it/s]"
      ]
     },
     "metadata": {},
     "output_type": "display_data"
    },
    {
     "data": {
      "application/vnd.jupyter.widget-view+json": {
       "model_id": "0bbfa27e9d8f47fb82789043502b0ca5",
       "version_major": 2,
       "version_minor": 0
      },
      "text/plain": [
       "  0%|          | 0/31 [00:00<?, ?it/s]"
      ]
     },
     "metadata": {},
     "output_type": "display_data"
    },
    {
     "data": {
      "application/vnd.jupyter.widget-view+json": {
       "model_id": "82449357f2154e42af8fa284a17c5abd",
       "version_major": 2,
       "version_minor": 0
      },
      "text/plain": [
       "  0%|          | 0/31 [00:00<?, ?it/s]"
      ]
     },
     "metadata": {},
     "output_type": "display_data"
    },
    {
     "data": {
      "application/vnd.jupyter.widget-view+json": {
       "model_id": "a0b68eb435fa48af8c12e103a268d6c4",
       "version_major": 2,
       "version_minor": 0
      },
      "text/plain": [
       "  0%|          | 0/30 [00:00<?, ?it/s]"
      ]
     },
     "metadata": {},
     "output_type": "display_data"
    }
   ],
   "source": [
    "def split_data_mask(variable_name) -> dict:\n",
    "    \n",
    "    var = D[variable_name]\n",
    "    masked_array = var[:]\n",
    "    data = masked_array.data\n",
    "    mask = masked_array.mask\n",
    "    \n",
    "    dic = {'data' : data, 'mask' : mask}\n",
    "    \n",
    "    return dic\n",
    "\n",
    "def get_data(year, month, day, variable_name, )\n",
    "\n",
    "months = range(1,13)\n",
    "num_days = [31,28,31,30,31,30,31,31,30,31,30,31]\n",
    "\n",
    "year_dic = dict()\n",
    "month_dic = dict()\n",
    "day_dic = dict()\n",
    "except_date = []\n",
    "\n",
    "for month, num_days in zip(months, num_days):\n",
    "    for day in tqdm(range(1,num_days+1)):\n",
    "        for year in range(1981,2022):\n",
    "            if (year == 1981) and (month in [1,2,3,4,5,6,7,8]) : \n",
    "                continue\n",
    "            \n",
    "            date = dt.date(year,month,day).strftime('%Y%m%d')\n",
    "            \n",
    "            try :\n",
    "                if year < 2016 : \n",
    "                    D = Dataset(f'/Volumes/T7/AVHRR_OI_SST/v2.1/{year}/oisst-avhrr-v02r01.{date}.nc', 'r', format='NETCDF4')\n",
    "                    variables = ['anom', 'err', 'ice', 'lat', 'lon', 'sst', 'time', 'zlev']\n",
    "\n",
    "                else :\n",
    "                    if os.path.exists(f'/Volumes/T7/AVHRR_OI_SST/v2.1/{year}/{date}120000-NCEI-L4_GHRSST-SSTblend-AVHRR_OI-GLOB-v02.0-fv02.1.nc'):\n",
    "                        D = Dataset(f'/Volumes/T7/AVHRR_OI_SST/v2.1/{year}/{date}120000-NCEI-L4_GHRSST-SSTblend-AVHRR_OI-GLOB-v02.0-fv02.1.nc', 'r', format='NETCDF4')\n",
    "                    else :\n",
    "                        D = Dataset(f'/Volumes/T7/AVHRR_OI_SST/v2.1/{year}/{date}120000-NCEI-L4_GHRSST-SSTblend-AVHRR_OI-GLOB-v02.1-fv02.1.nc', 'r', format='NETCDF4')\n",
    "\n",
    "                    variables = ['lat', 'lon', 'time', 'lat_bnds', 'lon_bnds', 'analysed_sst', 'analysis_error', 'mask', 'sea_ice_fraction']\n",
    "\n",
    "                # print(type(anom[:])) # type = MaskedArray\n",
    "\n",
    "                vars_dic = dict()\n",
    "                for variable in variables : \n",
    "                    data_mask_dic = split_data_mask(variable)\n",
    "                    vars_dic[variable] = data_mask_dic\n",
    "\n",
    "                D.close()\n",
    "            \n",
    "            except :\n",
    "                except_date.append(date)\n",
    "                vars_dic = 'NULL'\n",
    "\n",
    "            year_dic[year] = vars_dic\n",
    "        day_dic[day] = year_dic\n",
    "    month_dic[month] = day_dic"
   ]
  },
  {
   "cell_type": "code",
   "execution_count": null,
   "id": "651c1f53-dd27-4000-a901-42dd6654c6b6",
   "metadata": {},
   "outputs": [],
   "source": []
  }
 ],
 "metadata": {
  "kernelspec": {
   "display_name": "Python 3 (ipykernel)",
   "language": "python",
   "name": "python3"
  },
  "language_info": {
   "codemirror_mode": {
    "name": "ipython",
    "version": 3
   },
   "file_extension": ".py",
   "mimetype": "text/x-python",
   "name": "python",
   "nbconvert_exporter": "python",
   "pygments_lexer": "ipython3",
   "version": "3.8.12"
  }
 },
 "nbformat": 4,
 "nbformat_minor": 5
}
